{
 "cells": [
  {
   "cell_type": "markdown",
   "id": "2e6f9791",
   "metadata": {},
   "source": [
    "# DATASET INFORMATION"
   ]
  },
  {
   "cell_type": "markdown",
   "id": "cbb89740",
   "metadata": {},
   "source": [
    "Flight ticket prices can be something hard to guess, today we might see a price, check out the price of the same flight tomorrow, it will be a different story. We might have often heard travellers saying that flight ticket prices are so unpredictable. Here you will be provided with prices of flight tickets for various airlines between the months of March and June of 2019 and between various cities."
   ]
  },
  {
   "cell_type": "code",
   "execution_count": 1,
   "id": "91575cfc",
   "metadata": {},
   "outputs": [],
   "source": [
    "#Importing all the needed libraries\n",
    "\n",
    "import numpy as np\n",
    "import pandas as pd\n",
    "import seaborn as sns\n",
    "import matplotlib.pyplot as plt\n",
    "import warnings\n",
    "warnings.filterwarnings('ignore')"
   ]
  },
  {
   "cell_type": "code",
   "execution_count": 2,
   "id": "6a0bc596",
   "metadata": {},
   "outputs": [
    {
     "data": {
      "text/html": [
       "<div>\n",
       "<style scoped>\n",
       "    .dataframe tbody tr th:only-of-type {\n",
       "        vertical-align: middle;\n",
       "    }\n",
       "\n",
       "    .dataframe tbody tr th {\n",
       "        vertical-align: top;\n",
       "    }\n",
       "\n",
       "    .dataframe thead th {\n",
       "        text-align: right;\n",
       "    }\n",
       "</style>\n",
       "<table border=\"1\" class=\"dataframe\">\n",
       "  <thead>\n",
       "    <tr style=\"text-align: right;\">\n",
       "      <th></th>\n",
       "      <th>Airline</th>\n",
       "      <th>Date_of_Journey</th>\n",
       "      <th>Source</th>\n",
       "      <th>Destination</th>\n",
       "      <th>Route</th>\n",
       "      <th>Dep_Time</th>\n",
       "      <th>Arrival_Time</th>\n",
       "      <th>Duration</th>\n",
       "      <th>Total_Stops</th>\n",
       "      <th>Additional_Info</th>\n",
       "      <th>Price</th>\n",
       "    </tr>\n",
       "  </thead>\n",
       "  <tbody>\n",
       "    <tr>\n",
       "      <th>0</th>\n",
       "      <td>IndiGo</td>\n",
       "      <td>24/03/2019</td>\n",
       "      <td>Banglore</td>\n",
       "      <td>New Delhi</td>\n",
       "      <td>BLR → DEL</td>\n",
       "      <td>22:20</td>\n",
       "      <td>01:10 22 Mar</td>\n",
       "      <td>2h 50m</td>\n",
       "      <td>non-stop</td>\n",
       "      <td>No info</td>\n",
       "      <td>3897</td>\n",
       "    </tr>\n",
       "    <tr>\n",
       "      <th>1</th>\n",
       "      <td>Air India</td>\n",
       "      <td>1/05/2019</td>\n",
       "      <td>Kolkata</td>\n",
       "      <td>Banglore</td>\n",
       "      <td>CCU → IXR → BBI → BLR</td>\n",
       "      <td>05:50</td>\n",
       "      <td>13:15</td>\n",
       "      <td>7h 25m</td>\n",
       "      <td>2 stops</td>\n",
       "      <td>No info</td>\n",
       "      <td>7662</td>\n",
       "    </tr>\n",
       "    <tr>\n",
       "      <th>2</th>\n",
       "      <td>Jet Airways</td>\n",
       "      <td>9/06/2019</td>\n",
       "      <td>Delhi</td>\n",
       "      <td>Cochin</td>\n",
       "      <td>DEL → LKO → BOM → COK</td>\n",
       "      <td>09:25</td>\n",
       "      <td>04:25 10 Jun</td>\n",
       "      <td>19h</td>\n",
       "      <td>2 stops</td>\n",
       "      <td>No info</td>\n",
       "      <td>13882</td>\n",
       "    </tr>\n",
       "    <tr>\n",
       "      <th>3</th>\n",
       "      <td>IndiGo</td>\n",
       "      <td>12/05/2019</td>\n",
       "      <td>Kolkata</td>\n",
       "      <td>Banglore</td>\n",
       "      <td>CCU → NAG → BLR</td>\n",
       "      <td>18:05</td>\n",
       "      <td>23:30</td>\n",
       "      <td>5h 25m</td>\n",
       "      <td>1 stop</td>\n",
       "      <td>No info</td>\n",
       "      <td>6218</td>\n",
       "    </tr>\n",
       "    <tr>\n",
       "      <th>4</th>\n",
       "      <td>IndiGo</td>\n",
       "      <td>01/03/2019</td>\n",
       "      <td>Banglore</td>\n",
       "      <td>New Delhi</td>\n",
       "      <td>BLR → NAG → DEL</td>\n",
       "      <td>16:50</td>\n",
       "      <td>21:35</td>\n",
       "      <td>4h 45m</td>\n",
       "      <td>1 stop</td>\n",
       "      <td>No info</td>\n",
       "      <td>13302</td>\n",
       "    </tr>\n",
       "    <tr>\n",
       "      <th>...</th>\n",
       "      <td>...</td>\n",
       "      <td>...</td>\n",
       "      <td>...</td>\n",
       "      <td>...</td>\n",
       "      <td>...</td>\n",
       "      <td>...</td>\n",
       "      <td>...</td>\n",
       "      <td>...</td>\n",
       "      <td>...</td>\n",
       "      <td>...</td>\n",
       "      <td>...</td>\n",
       "    </tr>\n",
       "    <tr>\n",
       "      <th>10678</th>\n",
       "      <td>Air Asia</td>\n",
       "      <td>9/04/2019</td>\n",
       "      <td>Kolkata</td>\n",
       "      <td>Banglore</td>\n",
       "      <td>CCU → BLR</td>\n",
       "      <td>19:55</td>\n",
       "      <td>22:25</td>\n",
       "      <td>2h 30m</td>\n",
       "      <td>non-stop</td>\n",
       "      <td>No info</td>\n",
       "      <td>4107</td>\n",
       "    </tr>\n",
       "    <tr>\n",
       "      <th>10679</th>\n",
       "      <td>Air India</td>\n",
       "      <td>27/04/2019</td>\n",
       "      <td>Kolkata</td>\n",
       "      <td>Banglore</td>\n",
       "      <td>CCU → BLR</td>\n",
       "      <td>20:45</td>\n",
       "      <td>23:20</td>\n",
       "      <td>2h 35m</td>\n",
       "      <td>non-stop</td>\n",
       "      <td>No info</td>\n",
       "      <td>4145</td>\n",
       "    </tr>\n",
       "    <tr>\n",
       "      <th>10680</th>\n",
       "      <td>Jet Airways</td>\n",
       "      <td>27/04/2019</td>\n",
       "      <td>Banglore</td>\n",
       "      <td>Delhi</td>\n",
       "      <td>BLR → DEL</td>\n",
       "      <td>08:20</td>\n",
       "      <td>11:20</td>\n",
       "      <td>3h</td>\n",
       "      <td>non-stop</td>\n",
       "      <td>No info</td>\n",
       "      <td>7229</td>\n",
       "    </tr>\n",
       "    <tr>\n",
       "      <th>10681</th>\n",
       "      <td>Vistara</td>\n",
       "      <td>01/03/2019</td>\n",
       "      <td>Banglore</td>\n",
       "      <td>New Delhi</td>\n",
       "      <td>BLR → DEL</td>\n",
       "      <td>11:30</td>\n",
       "      <td>14:10</td>\n",
       "      <td>2h 40m</td>\n",
       "      <td>non-stop</td>\n",
       "      <td>No info</td>\n",
       "      <td>12648</td>\n",
       "    </tr>\n",
       "    <tr>\n",
       "      <th>10682</th>\n",
       "      <td>Air India</td>\n",
       "      <td>9/05/2019</td>\n",
       "      <td>Delhi</td>\n",
       "      <td>Cochin</td>\n",
       "      <td>DEL → GOI → BOM → COK</td>\n",
       "      <td>10:55</td>\n",
       "      <td>19:15</td>\n",
       "      <td>8h 20m</td>\n",
       "      <td>2 stops</td>\n",
       "      <td>No info</td>\n",
       "      <td>11753</td>\n",
       "    </tr>\n",
       "  </tbody>\n",
       "</table>\n",
       "<p>10683 rows × 11 columns</p>\n",
       "</div>"
      ],
      "text/plain": [
       "           Airline Date_of_Journey    Source Destination  \\\n",
       "0           IndiGo      24/03/2019  Banglore   New Delhi   \n",
       "1        Air India       1/05/2019   Kolkata    Banglore   \n",
       "2      Jet Airways       9/06/2019     Delhi      Cochin   \n",
       "3           IndiGo      12/05/2019   Kolkata    Banglore   \n",
       "4           IndiGo      01/03/2019  Banglore   New Delhi   \n",
       "...            ...             ...       ...         ...   \n",
       "10678     Air Asia       9/04/2019   Kolkata    Banglore   \n",
       "10679    Air India      27/04/2019   Kolkata    Banglore   \n",
       "10680  Jet Airways      27/04/2019  Banglore       Delhi   \n",
       "10681      Vistara      01/03/2019  Banglore   New Delhi   \n",
       "10682    Air India       9/05/2019     Delhi      Cochin   \n",
       "\n",
       "                       Route Dep_Time  Arrival_Time Duration Total_Stops  \\\n",
       "0                  BLR → DEL    22:20  01:10 22 Mar   2h 50m    non-stop   \n",
       "1      CCU → IXR → BBI → BLR    05:50         13:15   7h 25m     2 stops   \n",
       "2      DEL → LKO → BOM → COK    09:25  04:25 10 Jun      19h     2 stops   \n",
       "3            CCU → NAG → BLR    18:05         23:30   5h 25m      1 stop   \n",
       "4            BLR → NAG → DEL    16:50         21:35   4h 45m      1 stop   \n",
       "...                      ...      ...           ...      ...         ...   \n",
       "10678              CCU → BLR    19:55         22:25   2h 30m    non-stop   \n",
       "10679              CCU → BLR    20:45         23:20   2h 35m    non-stop   \n",
       "10680              BLR → DEL    08:20         11:20       3h    non-stop   \n",
       "10681              BLR → DEL    11:30         14:10   2h 40m    non-stop   \n",
       "10682  DEL → GOI → BOM → COK    10:55         19:15   8h 20m     2 stops   \n",
       "\n",
       "      Additional_Info  Price  \n",
       "0             No info   3897  \n",
       "1             No info   7662  \n",
       "2             No info  13882  \n",
       "3             No info   6218  \n",
       "4             No info  13302  \n",
       "...               ...    ...  \n",
       "10678         No info   4107  \n",
       "10679         No info   4145  \n",
       "10680         No info   7229  \n",
       "10681         No info  12648  \n",
       "10682         No info  11753  \n",
       "\n",
       "[10683 rows x 11 columns]"
      ]
     },
     "execution_count": 2,
     "metadata": {},
     "output_type": "execute_result"
    }
   ],
   "source": [
    "#Printing the training side of data of flight\n",
    "\n",
    "df=pd.read_csv('FLIGHT-TRAIN.csv')\n",
    "df"
   ]
  },
  {
   "cell_type": "code",
   "execution_count": 3,
   "id": "3004a536",
   "metadata": {},
   "outputs": [
    {
     "data": {
      "text/html": [
       "<div>\n",
       "<style scoped>\n",
       "    .dataframe tbody tr th:only-of-type {\n",
       "        vertical-align: middle;\n",
       "    }\n",
       "\n",
       "    .dataframe tbody tr th {\n",
       "        vertical-align: top;\n",
       "    }\n",
       "\n",
       "    .dataframe thead th {\n",
       "        text-align: right;\n",
       "    }\n",
       "</style>\n",
       "<table border=\"1\" class=\"dataframe\">\n",
       "  <thead>\n",
       "    <tr style=\"text-align: right;\">\n",
       "      <th></th>\n",
       "      <th>Airline</th>\n",
       "      <th>Date_of_Journey</th>\n",
       "      <th>Source</th>\n",
       "      <th>Destination</th>\n",
       "      <th>Route</th>\n",
       "      <th>Dep_Time</th>\n",
       "      <th>Arrival_Time</th>\n",
       "      <th>Duration</th>\n",
       "      <th>Total_Stops</th>\n",
       "      <th>Additional_Info</th>\n",
       "    </tr>\n",
       "  </thead>\n",
       "  <tbody>\n",
       "    <tr>\n",
       "      <th>0</th>\n",
       "      <td>Jet Airways</td>\n",
       "      <td>6/06/2019</td>\n",
       "      <td>Delhi</td>\n",
       "      <td>Cochin</td>\n",
       "      <td>DEL → BOM → COK</td>\n",
       "      <td>17:30</td>\n",
       "      <td>04:25 07 Jun</td>\n",
       "      <td>10h 55m</td>\n",
       "      <td>1 stop</td>\n",
       "      <td>No info</td>\n",
       "    </tr>\n",
       "    <tr>\n",
       "      <th>1</th>\n",
       "      <td>IndiGo</td>\n",
       "      <td>12/05/2019</td>\n",
       "      <td>Kolkata</td>\n",
       "      <td>Banglore</td>\n",
       "      <td>CCU → MAA → BLR</td>\n",
       "      <td>06:20</td>\n",
       "      <td>10:20</td>\n",
       "      <td>4h</td>\n",
       "      <td>1 stop</td>\n",
       "      <td>No info</td>\n",
       "    </tr>\n",
       "    <tr>\n",
       "      <th>2</th>\n",
       "      <td>Jet Airways</td>\n",
       "      <td>21/05/2019</td>\n",
       "      <td>Delhi</td>\n",
       "      <td>Cochin</td>\n",
       "      <td>DEL → BOM → COK</td>\n",
       "      <td>19:15</td>\n",
       "      <td>19:00 22 May</td>\n",
       "      <td>23h 45m</td>\n",
       "      <td>1 stop</td>\n",
       "      <td>In-flight meal not included</td>\n",
       "    </tr>\n",
       "    <tr>\n",
       "      <th>3</th>\n",
       "      <td>Multiple carriers</td>\n",
       "      <td>21/05/2019</td>\n",
       "      <td>Delhi</td>\n",
       "      <td>Cochin</td>\n",
       "      <td>DEL → BOM → COK</td>\n",
       "      <td>08:00</td>\n",
       "      <td>21:00</td>\n",
       "      <td>13h</td>\n",
       "      <td>1 stop</td>\n",
       "      <td>No info</td>\n",
       "    </tr>\n",
       "    <tr>\n",
       "      <th>4</th>\n",
       "      <td>Air Asia</td>\n",
       "      <td>24/06/2019</td>\n",
       "      <td>Banglore</td>\n",
       "      <td>Delhi</td>\n",
       "      <td>BLR → DEL</td>\n",
       "      <td>23:55</td>\n",
       "      <td>02:45 25 Jun</td>\n",
       "      <td>2h 50m</td>\n",
       "      <td>non-stop</td>\n",
       "      <td>No info</td>\n",
       "    </tr>\n",
       "    <tr>\n",
       "      <th>...</th>\n",
       "      <td>...</td>\n",
       "      <td>...</td>\n",
       "      <td>...</td>\n",
       "      <td>...</td>\n",
       "      <td>...</td>\n",
       "      <td>...</td>\n",
       "      <td>...</td>\n",
       "      <td>...</td>\n",
       "      <td>...</td>\n",
       "      <td>...</td>\n",
       "    </tr>\n",
       "    <tr>\n",
       "      <th>2666</th>\n",
       "      <td>Air India</td>\n",
       "      <td>6/06/2019</td>\n",
       "      <td>Kolkata</td>\n",
       "      <td>Banglore</td>\n",
       "      <td>CCU → DEL → BLR</td>\n",
       "      <td>20:30</td>\n",
       "      <td>20:25 07 Jun</td>\n",
       "      <td>23h 55m</td>\n",
       "      <td>1 stop</td>\n",
       "      <td>No info</td>\n",
       "    </tr>\n",
       "    <tr>\n",
       "      <th>2667</th>\n",
       "      <td>IndiGo</td>\n",
       "      <td>27/03/2019</td>\n",
       "      <td>Kolkata</td>\n",
       "      <td>Banglore</td>\n",
       "      <td>CCU → BLR</td>\n",
       "      <td>14:20</td>\n",
       "      <td>16:55</td>\n",
       "      <td>2h 35m</td>\n",
       "      <td>non-stop</td>\n",
       "      <td>No info</td>\n",
       "    </tr>\n",
       "    <tr>\n",
       "      <th>2668</th>\n",
       "      <td>Jet Airways</td>\n",
       "      <td>6/03/2019</td>\n",
       "      <td>Delhi</td>\n",
       "      <td>Cochin</td>\n",
       "      <td>DEL → BOM → COK</td>\n",
       "      <td>21:50</td>\n",
       "      <td>04:25 07 Mar</td>\n",
       "      <td>6h 35m</td>\n",
       "      <td>1 stop</td>\n",
       "      <td>No info</td>\n",
       "    </tr>\n",
       "    <tr>\n",
       "      <th>2669</th>\n",
       "      <td>Air India</td>\n",
       "      <td>6/03/2019</td>\n",
       "      <td>Delhi</td>\n",
       "      <td>Cochin</td>\n",
       "      <td>DEL → BOM → COK</td>\n",
       "      <td>04:00</td>\n",
       "      <td>19:15</td>\n",
       "      <td>15h 15m</td>\n",
       "      <td>1 stop</td>\n",
       "      <td>No info</td>\n",
       "    </tr>\n",
       "    <tr>\n",
       "      <th>2670</th>\n",
       "      <td>Multiple carriers</td>\n",
       "      <td>15/06/2019</td>\n",
       "      <td>Delhi</td>\n",
       "      <td>Cochin</td>\n",
       "      <td>DEL → BOM → COK</td>\n",
       "      <td>04:55</td>\n",
       "      <td>19:15</td>\n",
       "      <td>14h 20m</td>\n",
       "      <td>1 stop</td>\n",
       "      <td>No info</td>\n",
       "    </tr>\n",
       "  </tbody>\n",
       "</table>\n",
       "<p>2671 rows × 10 columns</p>\n",
       "</div>"
      ],
      "text/plain": [
       "                Airline Date_of_Journey    Source Destination  \\\n",
       "0           Jet Airways       6/06/2019     Delhi      Cochin   \n",
       "1                IndiGo      12/05/2019   Kolkata    Banglore   \n",
       "2           Jet Airways      21/05/2019     Delhi      Cochin   \n",
       "3     Multiple carriers      21/05/2019     Delhi      Cochin   \n",
       "4              Air Asia      24/06/2019  Banglore       Delhi   \n",
       "...                 ...             ...       ...         ...   \n",
       "2666          Air India       6/06/2019   Kolkata    Banglore   \n",
       "2667             IndiGo      27/03/2019   Kolkata    Banglore   \n",
       "2668        Jet Airways       6/03/2019     Delhi      Cochin   \n",
       "2669          Air India       6/03/2019     Delhi      Cochin   \n",
       "2670  Multiple carriers      15/06/2019     Delhi      Cochin   \n",
       "\n",
       "                Route Dep_Time  Arrival_Time Duration Total_Stops  \\\n",
       "0     DEL → BOM → COK    17:30  04:25 07 Jun  10h 55m      1 stop   \n",
       "1     CCU → MAA → BLR    06:20         10:20       4h      1 stop   \n",
       "2     DEL → BOM → COK    19:15  19:00 22 May  23h 45m      1 stop   \n",
       "3     DEL → BOM → COK    08:00         21:00      13h      1 stop   \n",
       "4           BLR → DEL    23:55  02:45 25 Jun   2h 50m    non-stop   \n",
       "...               ...      ...           ...      ...         ...   \n",
       "2666  CCU → DEL → BLR    20:30  20:25 07 Jun  23h 55m      1 stop   \n",
       "2667        CCU → BLR    14:20         16:55   2h 35m    non-stop   \n",
       "2668  DEL → BOM → COK    21:50  04:25 07 Mar   6h 35m      1 stop   \n",
       "2669  DEL → BOM → COK    04:00         19:15  15h 15m      1 stop   \n",
       "2670  DEL → BOM → COK    04:55         19:15  14h 20m      1 stop   \n",
       "\n",
       "                  Additional_Info  \n",
       "0                         No info  \n",
       "1                         No info  \n",
       "2     In-flight meal not included  \n",
       "3                         No info  \n",
       "4                         No info  \n",
       "...                           ...  \n",
       "2666                      No info  \n",
       "2667                      No info  \n",
       "2668                      No info  \n",
       "2669                      No info  \n",
       "2670                      No info  \n",
       "\n",
       "[2671 rows x 10 columns]"
      ]
     },
     "execution_count": 3,
     "metadata": {},
     "output_type": "execute_result"
    }
   ],
   "source": [
    "#Printing the testing side of the data of flight\n",
    "\n",
    "dft=pd.read_csv('FLIGHT-TEST.csv')\n",
    "dft"
   ]
  },
  {
   "cell_type": "code",
   "execution_count": 4,
   "id": "01ee5362",
   "metadata": {},
   "outputs": [
    {
     "data": {
      "text/plain": [
       "(10683, 11)"
      ]
     },
     "execution_count": 4,
     "metadata": {},
     "output_type": "execute_result"
    }
   ],
   "source": [
    "#Printing the shape of training data\n",
    "\n",
    "df.shape"
   ]
  },
  {
   "cell_type": "code",
   "execution_count": 5,
   "id": "fc222cfa",
   "metadata": {},
   "outputs": [
    {
     "data": {
      "text/plain": [
       "(2671, 10)"
      ]
     },
     "execution_count": 5,
     "metadata": {},
     "output_type": "execute_result"
    }
   ],
   "source": [
    "#Printing the shape of testing data\n",
    "\n",
    "dft.shape"
   ]
  },
  {
   "cell_type": "code",
   "execution_count": 6,
   "id": "3bfb1bfc",
   "metadata": {},
   "outputs": [
    {
     "name": "stdout",
     "output_type": "stream",
     "text": [
      "<class 'pandas.core.frame.DataFrame'>\n",
      "RangeIndex: 10683 entries, 0 to 10682\n",
      "Data columns (total 11 columns):\n",
      " #   Column           Non-Null Count  Dtype \n",
      "---  ------           --------------  ----- \n",
      " 0   Airline          10683 non-null  object\n",
      " 1   Date_of_Journey  10683 non-null  object\n",
      " 2   Source           10683 non-null  object\n",
      " 3   Destination      10683 non-null  object\n",
      " 4   Route            10682 non-null  object\n",
      " 5   Dep_Time         10683 non-null  object\n",
      " 6   Arrival_Time     10683 non-null  object\n",
      " 7   Duration         10683 non-null  object\n",
      " 8   Total_Stops      10682 non-null  object\n",
      " 9   Additional_Info  10683 non-null  object\n",
      " 10  Price            10683 non-null  int64 \n",
      "dtypes: int64(1), object(10)\n",
      "memory usage: 918.2+ KB\n"
     ]
    }
   ],
   "source": [
    "#Getting the information of the training data\n",
    "\n",
    "df.info()"
   ]
  },
  {
   "cell_type": "code",
   "execution_count": 7,
   "id": "485e4a59",
   "metadata": {},
   "outputs": [
    {
     "name": "stdout",
     "output_type": "stream",
     "text": [
      "<class 'pandas.core.frame.DataFrame'>\n",
      "RangeIndex: 2671 entries, 0 to 2670\n",
      "Data columns (total 10 columns):\n",
      " #   Column           Non-Null Count  Dtype \n",
      "---  ------           --------------  ----- \n",
      " 0   Airline          2671 non-null   object\n",
      " 1   Date_of_Journey  2671 non-null   object\n",
      " 2   Source           2671 non-null   object\n",
      " 3   Destination      2671 non-null   object\n",
      " 4   Route            2671 non-null   object\n",
      " 5   Dep_Time         2671 non-null   object\n",
      " 6   Arrival_Time     2671 non-null   object\n",
      " 7   Duration         2671 non-null   object\n",
      " 8   Total_Stops      2671 non-null   object\n",
      " 9   Additional_Info  2671 non-null   object\n",
      "dtypes: object(10)\n",
      "memory usage: 208.8+ KB\n"
     ]
    }
   ],
   "source": [
    "#Getting the information of the testing data\n",
    "\n",
    "dft.info()"
   ]
  },
  {
   "cell_type": "code",
   "execution_count": 8,
   "id": "39b50178",
   "metadata": {},
   "outputs": [
    {
     "data": {
      "text/plain": [
       "Airline            0\n",
       "Date_of_Journey    0\n",
       "Source             0\n",
       "Destination        0\n",
       "Route              1\n",
       "Dep_Time           0\n",
       "Arrival_Time       0\n",
       "Duration           0\n",
       "Total_Stops        1\n",
       "Additional_Info    0\n",
       "Price              0\n",
       "dtype: int64"
      ]
     },
     "execution_count": 8,
     "metadata": {},
     "output_type": "execute_result"
    }
   ],
   "source": [
    "#There are little null values present in the training data\n",
    "\n",
    "df.isnull().sum()"
   ]
  },
  {
   "cell_type": "code",
   "execution_count": 9,
   "id": "a1c7556e",
   "metadata": {},
   "outputs": [
    {
     "data": {
      "text/plain": [
       "Airline            0\n",
       "Date_of_Journey    0\n",
       "Source             0\n",
       "Destination        0\n",
       "Route              0\n",
       "Dep_Time           0\n",
       "Arrival_Time       0\n",
       "Duration           0\n",
       "Total_Stops        0\n",
       "Additional_Info    0\n",
       "dtype: int64"
      ]
     },
     "execution_count": 9,
     "metadata": {},
     "output_type": "execute_result"
    }
   ],
   "source": [
    "#There are no null values present in the testing data\n",
    "\n",
    "dft.isnull().sum()"
   ]
  },
  {
   "cell_type": "code",
   "execution_count": 10,
   "id": "f82c4e9a",
   "metadata": {},
   "outputs": [
    {
     "data": {
      "text/plain": [
       "<AxesSubplot:>"
      ]
     },
     "execution_count": 10,
     "metadata": {},
     "output_type": "execute_result"
    },
    {
     "data": {
      "image/png": "[encoded data removed]",
      "text/plain": [
       "<Figure size 432x288 with 2 Axes>"
      ]
     },
     "metadata": {
      "needs_background": "light"
     },
     "output_type": "display_data"
    }
   ],
   "source": [
    "#Plotting the heatmap with training data\n",
    "\n",
    "sns.heatmap(df.isnull())"
   ]
  },
  {
   "cell_type": "code",
   "execution_count": 11,
   "id": "3e6ed07f",
   "metadata": {},
   "outputs": [
    {
     "data": {
      "text/plain": [
       "<AxesSubplot:>"
      ]
     },
     "execution_count": 11,
     "metadata": {},
     "output_type": "execute_result"
    },
    {
     "data": {
      "image/png": "[encoded data removed]",
      "text/plain": [
       "<Figure size 432x288 with 2 Axes>"
      ]
     },
     "metadata": {
      "needs_background": "light"
     },
     "output_type": "display_data"
    }
   ],
   "source": [
    "#Plotting the heatmap with testing data\n",
    "\n",
    "sns.heatmap(dft.isnull())"
   ]
  },
  {
   "cell_type": "markdown",
   "id": "76e97cee",
   "metadata": {},
   "source": [
    "# REMOVING MISSING VALUES FROM TRAINING DATA"
   ]
  },
  {
   "cell_type": "code",
   "execution_count": 12,
   "id": "60382981",
   "metadata": {},
   "outputs": [],
   "source": [
    "#Removing the missing values from training side with the mode of the column\n",
    "\n",
    "df[\"Route\"] = df[\"Route\"].fillna(df[\"Route\"].dropna().mode().values[0] )"
   ]
  },
  {
   "cell_type": "code",
   "execution_count": 13,
   "id": "57037b9b",
   "metadata": {},
   "outputs": [],
   "source": [
    "#Removing the missing values from testing side with thw mode of the column\n",
    "\n",
    "df[\"Total_Stops\"] = df[\"Total_Stops\"].fillna(df[\"Total_Stops\"].dropna().mode().values[0] )"
   ]
  },
  {
   "cell_type": "code",
   "execution_count": 14,
   "id": "e8710cb4",
   "metadata": {},
   "outputs": [
    {
     "data": {
      "text/plain": [
       "Airline            0\n",
       "Date_of_Journey    0\n",
       "Source             0\n",
       "Destination        0\n",
       "Route              0\n",
       "Dep_Time           0\n",
       "Arrival_Time       0\n",
       "Duration           0\n",
       "Total_Stops        0\n",
       "Additional_Info    0\n",
       "Price              0\n",
       "dtype: int64"
      ]
     },
     "execution_count": 14,
     "metadata": {},
     "output_type": "execute_result"
    }
   ],
   "source": [
    "#We have removed the null values from training side of the data\n",
    "\n",
    "df.isnull().sum()"
   ]
  },
  {
   "cell_type": "code",
   "execution_count": 15,
   "id": "b727a14b",
   "metadata": {},
   "outputs": [
    {
     "data": {
      "text/plain": [
       "array(['No info', 'In-flight meal not included',\n",
       "       'No check-in baggage included', '1 Short layover', 'No Info',\n",
       "       '1 Long layover', 'Change airports', 'Business class',\n",
       "       'Red-eye flight', '2 Long layover'], dtype=object)"
      ]
     },
     "execution_count": 15,
     "metadata": {},
     "output_type": "execute_result"
    }
   ],
   "source": [
    "#Printing the unique values that are present in the column\n",
    "\n",
    "df.Additional_Info.unique()"
   ]
  },
  {
   "cell_type": "code",
   "execution_count": 16,
   "id": "26c57518",
   "metadata": {},
   "outputs": [],
   "source": [
    "#Replacing the No Info with No info\n",
    "\n",
    "df['Additional_Info'].replace('No Info', 'No info', inplace = True)"
   ]
  },
  {
   "cell_type": "code",
   "execution_count": 17,
   "id": "65d3d54d",
   "metadata": {},
   "outputs": [
    {
     "data": {
      "text/plain": [
       "array(['No info', 'In-flight meal not included',\n",
       "       'No check-in baggage included', '1 Long layover', 'Business class',\n",
       "       'Change airports'], dtype=object)"
      ]
     },
     "execution_count": 17,
     "metadata": {},
     "output_type": "execute_result"
    }
   ],
   "source": [
    "#Getting the unique values that are present in the column\n",
    "\n",
    "dft.Additional_Info.unique()"
   ]
  },
  {
   "cell_type": "code",
   "execution_count": 18,
   "id": "752f7c6a",
   "metadata": {},
   "outputs": [
    {
     "data": {
      "text/html": [
       "<div>\n",
       "<style scoped>\n",
       "    .dataframe tbody tr th:only-of-type {\n",
       "        vertical-align: middle;\n",
       "    }\n",
       "\n",
       "    .dataframe tbody tr th {\n",
       "        vertical-align: top;\n",
       "    }\n",
       "\n",
       "    .dataframe thead th {\n",
       "        text-align: right;\n",
       "    }\n",
       "</style>\n",
       "<table border=\"1\" class=\"dataframe\">\n",
       "  <thead>\n",
       "    <tr style=\"text-align: right;\">\n",
       "      <th></th>\n",
       "      <th>Price</th>\n",
       "    </tr>\n",
       "  </thead>\n",
       "  <tbody>\n",
       "    <tr>\n",
       "      <th>count</th>\n",
       "      <td>10683.000000</td>\n",
       "    </tr>\n",
       "    <tr>\n",
       "      <th>mean</th>\n",
       "      <td>9087.064121</td>\n",
       "    </tr>\n",
       "    <tr>\n",
       "      <th>std</th>\n",
       "      <td>4611.359167</td>\n",
       "    </tr>\n",
       "    <tr>\n",
       "      <th>min</th>\n",
       "      <td>1759.000000</td>\n",
       "    </tr>\n",
       "    <tr>\n",
       "      <th>25%</th>\n",
       "      <td>5277.000000</td>\n",
       "    </tr>\n",
       "    <tr>\n",
       "      <th>50%</th>\n",
       "      <td>8372.000000</td>\n",
       "    </tr>\n",
       "    <tr>\n",
       "      <th>75%</th>\n",
       "      <td>12373.000000</td>\n",
       "    </tr>\n",
       "    <tr>\n",
       "      <th>max</th>\n",
       "      <td>79512.000000</td>\n",
       "    </tr>\n",
       "  </tbody>\n",
       "</table>\n",
       "</div>"
      ],
      "text/plain": [
       "              Price\n",
       "count  10683.000000\n",
       "mean    9087.064121\n",
       "std     4611.359167\n",
       "min     1759.000000\n",
       "25%     5277.000000\n",
       "50%     8372.000000\n",
       "75%    12373.000000\n",
       "max    79512.000000"
      ]
     },
     "execution_count": 18,
     "metadata": {},
     "output_type": "execute_result"
    }
   ],
   "source": [
    "#Getting the description of the training data\n",
    "\n",
    "df.describe()"
   ]
  },
  {
   "cell_type": "code",
   "execution_count": 19,
   "id": "fb1c8d7d",
   "metadata": {},
   "outputs": [
    {
     "data": {
      "text/html": [
       "<div>\n",
       "<style scoped>\n",
       "    .dataframe tbody tr th:only-of-type {\n",
       "        vertical-align: middle;\n",
       "    }\n",
       "\n",
       "    .dataframe tbody tr th {\n",
       "        vertical-align: top;\n",
       "    }\n",
       "\n",
       "    .dataframe thead th {\n",
       "        text-align: right;\n",
       "    }\n",
       "</style>\n",
       "<table border=\"1\" class=\"dataframe\">\n",
       "  <thead>\n",
       "    <tr style=\"text-align: right;\">\n",
       "      <th></th>\n",
       "      <th>Airline</th>\n",
       "      <th>Date_of_Journey</th>\n",
       "      <th>Source</th>\n",
       "      <th>Destination</th>\n",
       "      <th>Route</th>\n",
       "      <th>Dep_Time</th>\n",
       "      <th>Arrival_Time</th>\n",
       "      <th>Duration</th>\n",
       "      <th>Total_Stops</th>\n",
       "      <th>Additional_Info</th>\n",
       "    </tr>\n",
       "  </thead>\n",
       "  <tbody>\n",
       "    <tr>\n",
       "      <th>count</th>\n",
       "      <td>2671</td>\n",
       "      <td>2671</td>\n",
       "      <td>2671</td>\n",
       "      <td>2671</td>\n",
       "      <td>2671</td>\n",
       "      <td>2671</td>\n",
       "      <td>2671</td>\n",
       "      <td>2671</td>\n",
       "      <td>2671</td>\n",
       "      <td>2671</td>\n",
       "    </tr>\n",
       "    <tr>\n",
       "      <th>unique</th>\n",
       "      <td>11</td>\n",
       "      <td>44</td>\n",
       "      <td>5</td>\n",
       "      <td>6</td>\n",
       "      <td>100</td>\n",
       "      <td>199</td>\n",
       "      <td>704</td>\n",
       "      <td>320</td>\n",
       "      <td>5</td>\n",
       "      <td>6</td>\n",
       "    </tr>\n",
       "    <tr>\n",
       "      <th>top</th>\n",
       "      <td>Jet Airways</td>\n",
       "      <td>9/05/2019</td>\n",
       "      <td>Delhi</td>\n",
       "      <td>Cochin</td>\n",
       "      <td>DEL → BOM → COK</td>\n",
       "      <td>10:00</td>\n",
       "      <td>19:00</td>\n",
       "      <td>2h 50m</td>\n",
       "      <td>1 stop</td>\n",
       "      <td>No info</td>\n",
       "    </tr>\n",
       "    <tr>\n",
       "      <th>freq</th>\n",
       "      <td>897</td>\n",
       "      <td>144</td>\n",
       "      <td>1145</td>\n",
       "      <td>1145</td>\n",
       "      <td>624</td>\n",
       "      <td>62</td>\n",
       "      <td>113</td>\n",
       "      <td>122</td>\n",
       "      <td>1431</td>\n",
       "      <td>2148</td>\n",
       "    </tr>\n",
       "  </tbody>\n",
       "</table>\n",
       "</div>"
      ],
      "text/plain": [
       "            Airline Date_of_Journey Source Destination            Route  \\\n",
       "count          2671            2671   2671        2671             2671   \n",
       "unique           11              44      5           6              100   \n",
       "top     Jet Airways       9/05/2019  Delhi      Cochin  DEL → BOM → COK   \n",
       "freq            897             144   1145        1145              624   \n",
       "\n",
       "       Dep_Time Arrival_Time Duration Total_Stops Additional_Info  \n",
       "count      2671         2671     2671        2671            2671  \n",
       "unique      199          704      320           5               6  \n",
       "top       10:00        19:00   2h 50m      1 stop         No info  \n",
       "freq         62          113      122        1431            2148  "
      ]
     },
     "execution_count": 19,
     "metadata": {},
     "output_type": "execute_result"
    }
   ],
   "source": [
    "#Getting the description of the testing data\n",
    "\n",
    "dft.describe()"
   ]
  },
  {
   "cell_type": "code",
   "execution_count": 20,
   "id": "34e83740",
   "metadata": {},
   "outputs": [],
   "source": [
    "#Creating function for flight departure for timmings\n",
    "\n",
    "def flight_departure_time(X):\n",
    "    if int(X[:2]) >= 0 and int(X[:2]) < 6:\n",
    "        return 'midnight'\n",
    "    elif int(X[:2]) >= 6 and int(X[:2]) < 12:\n",
    "        return 'morning'\n",
    "    elif int(X[:2]) >= 12 and int(X[:2]) < 18:\n",
    "        return 'afternoon'\n",
    "    elif int(X[:2]) >= 18 and int(X[:2]) < 24:\n",
    "        return 'evening'"
   ]
  },
  {
   "cell_type": "code",
   "execution_count": 21,
   "id": "9a236e49",
   "metadata": {},
   "outputs": [],
   "source": [
    "df['flight_time'] = df['Dep_Time'].apply(flight_departure_time)"
   ]
  },
  {
   "cell_type": "code",
   "execution_count": 22,
   "id": "2f98590c",
   "metadata": {},
   "outputs": [],
   "source": [
    "#Importing re\n",
    "\n",
    "import re\n",
    "def convert_into_seconds(X):\n",
    "    a = [int(s) for s in re.findall(r'-?\\d+\\.?\\d*', X)]\n",
    "    if len(a) == 2:\n",
    "        hr = a[0] * 3600\n",
    "        min = a[1] * 60\n",
    "    else:\n",
    "        hr = a[0] * 3600\n",
    "        min = 0   \n",
    "    total = hr + min\n",
    "    return total\n",
    "\n",
    "df['Duration(sec)'] = df['Duration'].map(convert_into_seconds)"
   ]
  },
  {
   "cell_type": "markdown",
   "id": "c008c9f1",
   "metadata": {},
   "source": [
    "# ENCODING THE COLUMNS"
   ]
  },
  {
   "cell_type": "code",
   "execution_count": 23,
   "id": "e437258c",
   "metadata": {},
   "outputs": [],
   "source": [
    "#Converting the columns with LabelEncoder\n",
    "\n",
    "from sklearn.preprocessing import LabelEncoder\n",
    "categorical_features = list(df.select_dtypes(include=['object']).columns)\n",
    "label_encoder_feat = {}\n",
    "for i, feature in enumerate(categorical_features):\n",
    "    label_encoder_feat[feature] = LabelEncoder()\n",
    "    df[feature] = label_encoder_feat[feature].fit_transform(df[feature])"
   ]
  },
  {
   "cell_type": "code",
   "execution_count": 24,
   "id": "0412f687",
   "metadata": {},
   "outputs": [
    {
     "data": {
      "text/html": [
       "<div>\n",
       "<style scoped>\n",
       "    .dataframe tbody tr th:only-of-type {\n",
       "        vertical-align: middle;\n",
       "    }\n",
       "\n",
       "    .dataframe tbody tr th {\n",
       "        vertical-align: top;\n",
       "    }\n",
       "\n",
       "    .dataframe thead th {\n",
       "        text-align: right;\n",
       "    }\n",
       "</style>\n",
       "<table border=\"1\" class=\"dataframe\">\n",
       "  <thead>\n",
       "    <tr style=\"text-align: right;\">\n",
       "      <th></th>\n",
       "      <th>Airline</th>\n",
       "      <th>Date_of_Journey</th>\n",
       "      <th>Source</th>\n",
       "      <th>Destination</th>\n",
       "      <th>Route</th>\n",
       "      <th>Dep_Time</th>\n",
       "      <th>Arrival_Time</th>\n",
       "      <th>Duration</th>\n",
       "      <th>Total_Stops</th>\n",
       "      <th>Additional_Info</th>\n",
       "      <th>Price</th>\n",
       "      <th>flight_time</th>\n",
       "      <th>Duration(sec)</th>\n",
       "    </tr>\n",
       "  </thead>\n",
       "  <tbody>\n",
       "    <tr>\n",
       "      <th>0</th>\n",
       "      <td>3</td>\n",
       "      <td>24</td>\n",
       "      <td>0</td>\n",
       "      <td>5</td>\n",
       "      <td>18</td>\n",
       "      <td>211</td>\n",
       "      <td>233</td>\n",
       "      <td>240</td>\n",
       "      <td>4</td>\n",
       "      <td>7</td>\n",
       "      <td>3897</td>\n",
       "      <td>1</td>\n",
       "      <td>10200</td>\n",
       "    </tr>\n",
       "    <tr>\n",
       "      <th>1</th>\n",
       "      <td>1</td>\n",
       "      <td>6</td>\n",
       "      <td>3</td>\n",
       "      <td>0</td>\n",
       "      <td>84</td>\n",
       "      <td>31</td>\n",
       "      <td>906</td>\n",
       "      <td>336</td>\n",
       "      <td>1</td>\n",
       "      <td>7</td>\n",
       "      <td>7662</td>\n",
       "      <td>2</td>\n",
       "      <td>26700</td>\n",
       "    </tr>\n",
       "    <tr>\n",
       "      <th>2</th>\n",
       "      <td>4</td>\n",
       "      <td>43</td>\n",
       "      <td>2</td>\n",
       "      <td>1</td>\n",
       "      <td>118</td>\n",
       "      <td>70</td>\n",
       "      <td>413</td>\n",
       "      <td>106</td>\n",
       "      <td>1</td>\n",
       "      <td>7</td>\n",
       "      <td>13882</td>\n",
       "      <td>3</td>\n",
       "      <td>68400</td>\n",
       "    </tr>\n",
       "    <tr>\n",
       "      <th>3</th>\n",
       "      <td>3</td>\n",
       "      <td>10</td>\n",
       "      <td>3</td>\n",
       "      <td>0</td>\n",
       "      <td>91</td>\n",
       "      <td>164</td>\n",
       "      <td>1324</td>\n",
       "      <td>311</td>\n",
       "      <td>0</td>\n",
       "      <td>7</td>\n",
       "      <td>6218</td>\n",
       "      <td>1</td>\n",
       "      <td>19500</td>\n",
       "    </tr>\n",
       "    <tr>\n",
       "      <th>4</th>\n",
       "      <td>3</td>\n",
       "      <td>0</td>\n",
       "      <td>0</td>\n",
       "      <td>5</td>\n",
       "      <td>29</td>\n",
       "      <td>149</td>\n",
       "      <td>1237</td>\n",
       "      <td>303</td>\n",
       "      <td>0</td>\n",
       "      <td>7</td>\n",
       "      <td>13302</td>\n",
       "      <td>0</td>\n",
       "      <td>17100</td>\n",
       "    </tr>\n",
       "    <tr>\n",
       "      <th>...</th>\n",
       "      <td>...</td>\n",
       "      <td>...</td>\n",
       "      <td>...</td>\n",
       "      <td>...</td>\n",
       "      <td>...</td>\n",
       "      <td>...</td>\n",
       "      <td>...</td>\n",
       "      <td>...</td>\n",
       "      <td>...</td>\n",
       "      <td>...</td>\n",
       "      <td>...</td>\n",
       "      <td>...</td>\n",
       "      <td>...</td>\n",
       "    </tr>\n",
       "    <tr>\n",
       "      <th>10678</th>\n",
       "      <td>0</td>\n",
       "      <td>41</td>\n",
       "      <td>3</td>\n",
       "      <td>0</td>\n",
       "      <td>64</td>\n",
       "      <td>183</td>\n",
       "      <td>1259</td>\n",
       "      <td>236</td>\n",
       "      <td>4</td>\n",
       "      <td>7</td>\n",
       "      <td>4107</td>\n",
       "      <td>1</td>\n",
       "      <td>9000</td>\n",
       "    </tr>\n",
       "    <tr>\n",
       "      <th>10679</th>\n",
       "      <td>1</td>\n",
       "      <td>29</td>\n",
       "      <td>3</td>\n",
       "      <td>0</td>\n",
       "      <td>64</td>\n",
       "      <td>193</td>\n",
       "      <td>1305</td>\n",
       "      <td>237</td>\n",
       "      <td>4</td>\n",
       "      <td>7</td>\n",
       "      <td>4145</td>\n",
       "      <td>1</td>\n",
       "      <td>9300</td>\n",
       "    </tr>\n",
       "    <tr>\n",
       "      <th>10680</th>\n",
       "      <td>4</td>\n",
       "      <td>29</td>\n",
       "      <td>0</td>\n",
       "      <td>2</td>\n",
       "      <td>18</td>\n",
       "      <td>58</td>\n",
       "      <td>824</td>\n",
       "      <td>280</td>\n",
       "      <td>4</td>\n",
       "      <td>7</td>\n",
       "      <td>7229</td>\n",
       "      <td>3</td>\n",
       "      <td>10800</td>\n",
       "    </tr>\n",
       "    <tr>\n",
       "      <th>10681</th>\n",
       "      <td>10</td>\n",
       "      <td>0</td>\n",
       "      <td>0</td>\n",
       "      <td>5</td>\n",
       "      <td>18</td>\n",
       "      <td>92</td>\n",
       "      <td>938</td>\n",
       "      <td>238</td>\n",
       "      <td>4</td>\n",
       "      <td>7</td>\n",
       "      <td>12648</td>\n",
       "      <td>3</td>\n",
       "      <td>9600</td>\n",
       "    </tr>\n",
       "    <tr>\n",
       "      <th>10682</th>\n",
       "      <td>1</td>\n",
       "      <td>42</td>\n",
       "      <td>2</td>\n",
       "      <td>1</td>\n",
       "      <td>108</td>\n",
       "      <td>85</td>\n",
       "      <td>1124</td>\n",
       "      <td>347</td>\n",
       "      <td>1</td>\n",
       "      <td>7</td>\n",
       "      <td>11753</td>\n",
       "      <td>3</td>\n",
       "      <td>30000</td>\n",
       "    </tr>\n",
       "  </tbody>\n",
       "</table>\n",
       "<p>10683 rows × 13 columns</p>\n",
       "</div>"
      ],
      "text/plain": [
       "       Airline  Date_of_Journey  Source  Destination  Route  Dep_Time  \\\n",
       "0            3               24       0            5     18       211   \n",
       "1            1                6       3            0     84        31   \n",
       "2            4               43       2            1    118        70   \n",
       "3            3               10       3            0     91       164   \n",
       "4            3                0       0            5     29       149   \n",
       "...        ...              ...     ...          ...    ...       ...   \n",
       "10678        0               41       3            0     64       183   \n",
       "10679        1               29       3            0     64       193   \n",
       "10680        4               29       0            2     18        58   \n",
       "10681       10                0       0            5     18        92   \n",
       "10682        1               42       2            1    108        85   \n",
       "\n",
       "       Arrival_Time  Duration  Total_Stops  Additional_Info  Price  \\\n",
       "0               233       240            4                7   3897   \n",
       "1               906       336            1                7   7662   \n",
       "2               413       106            1                7  13882   \n",
       "3              1324       311            0                7   6218   \n",
       "4              1237       303            0                7  13302   \n",
       "...             ...       ...          ...              ...    ...   \n",
       "10678          1259       236            4                7   4107   \n",
       "10679          1305       237            4                7   4145   \n",
       "10680           824       280            4                7   7229   \n",
       "10681           938       238            4                7  12648   \n",
       "10682          1124       347            1                7  11753   \n",
       "\n",
       "       flight_time  Duration(sec)  \n",
       "0                1          10200  \n",
       "1                2          26700  \n",
       "2                3          68400  \n",
       "3                1          19500  \n",
       "4                0          17100  \n",
       "...            ...            ...  \n",
       "10678            1           9000  \n",
       "10679            1           9300  \n",
       "10680            3          10800  \n",
       "10681            3           9600  \n",
       "10682            3          30000  \n",
       "\n",
       "[10683 rows x 13 columns]"
      ]
     },
     "execution_count": 24,
     "metadata": {},
     "output_type": "execute_result"
    }
   ],
   "source": [
    "#Printing the dataframe\n",
    "\n",
    "df"
   ]
  },
  {
   "cell_type": "code",
   "execution_count": 25,
   "id": "c1161229",
   "metadata": {},
   "outputs": [],
   "source": [
    "#Converting the columns with DatetimeIndex\n",
    "\n",
    "df['year'] = pd.DatetimeIndex(df['Date_of_Journey']).year\n",
    "df['month'] = pd.DatetimeIndex(df['Date_of_Journey']).month\n",
    "df['Day'] = pd.DatetimeIndex(df['Date_of_Journey']).day"
   ]
  },
  {
   "cell_type": "code",
   "execution_count": 26,
   "id": "746eb846",
   "metadata": {},
   "outputs": [
    {
     "data": {
      "text/html": [
       "<div>\n",
       "<style scoped>\n",
       "    .dataframe tbody tr th:only-of-type {\n",
       "        vertical-align: middle;\n",
       "    }\n",
       "\n",
       "    .dataframe tbody tr th {\n",
       "        vertical-align: top;\n",
       "    }\n",
       "\n",
       "    .dataframe thead th {\n",
       "        text-align: right;\n",
       "    }\n",
       "</style>\n",
       "<table border=\"1\" class=\"dataframe\">\n",
       "  <thead>\n",
       "    <tr style=\"text-align: right;\">\n",
       "      <th></th>\n",
       "      <th>Airline</th>\n",
       "      <th>Date_of_Journey</th>\n",
       "      <th>Source</th>\n",
       "      <th>Destination</th>\n",
       "      <th>Route</th>\n",
       "      <th>Dep_Time</th>\n",
       "      <th>Arrival_Time</th>\n",
       "      <th>Duration</th>\n",
       "      <th>Total_Stops</th>\n",
       "      <th>Additional_Info</th>\n",
       "      <th>Price</th>\n",
       "      <th>flight_time</th>\n",
       "      <th>Duration(sec)</th>\n",
       "      <th>year</th>\n",
       "      <th>month</th>\n",
       "      <th>Day</th>\n",
       "    </tr>\n",
       "  </thead>\n",
       "  <tbody>\n",
       "    <tr>\n",
       "      <th>0</th>\n",
       "      <td>3</td>\n",
       "      <td>24</td>\n",
       "      <td>0</td>\n",
       "      <td>5</td>\n",
       "      <td>18</td>\n",
       "      <td>211</td>\n",
       "      <td>233</td>\n",
       "      <td>240</td>\n",
       "      <td>4</td>\n",
       "      <td>7</td>\n",
       "      <td>3897</td>\n",
       "      <td>1</td>\n",
       "      <td>10200</td>\n",
       "      <td>1970</td>\n",
       "      <td>1</td>\n",
       "      <td>1</td>\n",
       "    </tr>\n",
       "    <tr>\n",
       "      <th>1</th>\n",
       "      <td>1</td>\n",
       "      <td>6</td>\n",
       "      <td>3</td>\n",
       "      <td>0</td>\n",
       "      <td>84</td>\n",
       "      <td>31</td>\n",
       "      <td>906</td>\n",
       "      <td>336</td>\n",
       "      <td>1</td>\n",
       "      <td>7</td>\n",
       "      <td>7662</td>\n",
       "      <td>2</td>\n",
       "      <td>26700</td>\n",
       "      <td>1970</td>\n",
       "      <td>1</td>\n",
       "      <td>1</td>\n",
       "    </tr>\n",
       "    <tr>\n",
       "      <th>2</th>\n",
       "      <td>4</td>\n",
       "      <td>43</td>\n",
       "      <td>2</td>\n",
       "      <td>1</td>\n",
       "      <td>118</td>\n",
       "      <td>70</td>\n",
       "      <td>413</td>\n",
       "      <td>106</td>\n",
       "      <td>1</td>\n",
       "      <td>7</td>\n",
       "      <td>13882</td>\n",
       "      <td>3</td>\n",
       "      <td>68400</td>\n",
       "      <td>1970</td>\n",
       "      <td>1</td>\n",
       "      <td>1</td>\n",
       "    </tr>\n",
       "    <tr>\n",
       "      <th>3</th>\n",
       "      <td>3</td>\n",
       "      <td>10</td>\n",
       "      <td>3</td>\n",
       "      <td>0</td>\n",
       "      <td>91</td>\n",
       "      <td>164</td>\n",
       "      <td>1324</td>\n",
       "      <td>311</td>\n",
       "      <td>0</td>\n",
       "      <td>7</td>\n",
       "      <td>6218</td>\n",
       "      <td>1</td>\n",
       "      <td>19500</td>\n",
       "      <td>1970</td>\n",
       "      <td>1</td>\n",
       "      <td>1</td>\n",
       "    </tr>\n",
       "    <tr>\n",
       "      <th>4</th>\n",
       "      <td>3</td>\n",
       "      <td>0</td>\n",
       "      <td>0</td>\n",
       "      <td>5</td>\n",
       "      <td>29</td>\n",
       "      <td>149</td>\n",
       "      <td>1237</td>\n",
       "      <td>303</td>\n",
       "      <td>0</td>\n",
       "      <td>7</td>\n",
       "      <td>13302</td>\n",
       "      <td>0</td>\n",
       "      <td>17100</td>\n",
       "      <td>1970</td>\n",
       "      <td>1</td>\n",
       "      <td>1</td>\n",
       "    </tr>\n",
       "    <tr>\n",
       "      <th>...</th>\n",
       "      <td>...</td>\n",
       "      <td>...</td>\n",
       "      <td>...</td>\n",
       "      <td>...</td>\n",
       "      <td>...</td>\n",
       "      <td>...</td>\n",
       "      <td>...</td>\n",
       "      <td>...</td>\n",
       "      <td>...</td>\n",
       "      <td>...</td>\n",
       "      <td>...</td>\n",
       "      <td>...</td>\n",
       "      <td>...</td>\n",
       "      <td>...</td>\n",
       "      <td>...</td>\n",
       "      <td>...</td>\n",
       "    </tr>\n",
       "    <tr>\n",
       "      <th>10678</th>\n",
       "      <td>0</td>\n",
       "      <td>41</td>\n",
       "      <td>3</td>\n",
       "      <td>0</td>\n",
       "      <td>64</td>\n",
       "      <td>183</td>\n",
       "      <td>1259</td>\n",
       "      <td>236</td>\n",
       "      <td>4</td>\n",
       "      <td>7</td>\n",
       "      <td>4107</td>\n",
       "      <td>1</td>\n",
       "      <td>9000</td>\n",
       "      <td>1970</td>\n",
       "      <td>1</td>\n",
       "      <td>1</td>\n",
       "    </tr>\n",
       "    <tr>\n",
       "      <th>10679</th>\n",
       "      <td>1</td>\n",
       "      <td>29</td>\n",
       "      <td>3</td>\n",
       "      <td>0</td>\n",
       "      <td>64</td>\n",
       "      <td>193</td>\n",
       "      <td>1305</td>\n",
       "      <td>237</td>\n",
       "      <td>4</td>\n",
       "      <td>7</td>\n",
       "      <td>4145</td>\n",
       "      <td>1</td>\n",
       "      <td>9300</td>\n",
       "      <td>1970</td>\n",
       "      <td>1</td>\n",
       "      <td>1</td>\n",
       "    </tr>\n",
       "    <tr>\n",
       "      <th>10680</th>\n",
       "      <td>4</td>\n",
       "      <td>29</td>\n",
       "      <td>0</td>\n",
       "      <td>2</td>\n",
       "      <td>18</td>\n",
       "      <td>58</td>\n",
       "      <td>824</td>\n",
       "      <td>280</td>\n",
       "      <td>4</td>\n",
       "      <td>7</td>\n",
       "      <td>7229</td>\n",
       "      <td>3</td>\n",
       "      <td>10800</td>\n",
       "      <td>1970</td>\n",
       "      <td>1</td>\n",
       "      <td>1</td>\n",
       "    </tr>\n",
       "    <tr>\n",
       "      <th>10681</th>\n",
       "      <td>10</td>\n",
       "      <td>0</td>\n",
       "      <td>0</td>\n",
       "      <td>5</td>\n",
       "      <td>18</td>\n",
       "      <td>92</td>\n",
       "      <td>938</td>\n",
       "      <td>238</td>\n",
       "      <td>4</td>\n",
       "      <td>7</td>\n",
       "      <td>12648</td>\n",
       "      <td>3</td>\n",
       "      <td>9600</td>\n",
       "      <td>1970</td>\n",
       "      <td>1</td>\n",
       "      <td>1</td>\n",
       "    </tr>\n",
       "    <tr>\n",
       "      <th>10682</th>\n",
       "      <td>1</td>\n",
       "      <td>42</td>\n",
       "      <td>2</td>\n",
       "      <td>1</td>\n",
       "      <td>108</td>\n",
       "      <td>85</td>\n",
       "      <td>1124</td>\n",
       "      <td>347</td>\n",
       "      <td>1</td>\n",
       "      <td>7</td>\n",
       "      <td>11753</td>\n",
       "      <td>3</td>\n",
       "      <td>30000</td>\n",
       "      <td>1970</td>\n",
       "      <td>1</td>\n",
       "      <td>1</td>\n",
       "    </tr>\n",
       "  </tbody>\n",
       "</table>\n",
       "<p>10683 rows × 16 columns</p>\n",
       "</div>"
      ],
      "text/plain": [
       "       Airline  Date_of_Journey  Source  Destination  Route  Dep_Time  \\\n",
       "0            3               24       0            5     18       211   \n",
       "1            1                6       3            0     84        31   \n",
       "2            4               43       2            1    118        70   \n",
       "3            3               10       3            0     91       164   \n",
       "4            3                0       0            5     29       149   \n",
       "...        ...              ...     ...          ...    ...       ...   \n",
       "10678        0               41       3            0     64       183   \n",
       "10679        1               29       3            0     64       193   \n",
       "10680        4               29       0            2     18        58   \n",
       "10681       10                0       0            5     18        92   \n",
       "10682        1               42       2            1    108        85   \n",
       "\n",
       "       Arrival_Time  Duration  Total_Stops  Additional_Info  Price  \\\n",
       "0               233       240            4                7   3897   \n",
       "1               906       336            1                7   7662   \n",
       "2               413       106            1                7  13882   \n",
       "3              1324       311            0                7   6218   \n",
       "4              1237       303            0                7  13302   \n",
       "...             ...       ...          ...              ...    ...   \n",
       "10678          1259       236            4                7   4107   \n",
       "10679          1305       237            4                7   4145   \n",
       "10680           824       280            4                7   7229   \n",
       "10681           938       238            4                7  12648   \n",
       "10682          1124       347            1                7  11753   \n",
       "\n",
       "       flight_time  Duration(sec)  year  month  Day  \n",
       "0                1          10200  1970      1    1  \n",
       "1                2          26700  1970      1    1  \n",
       "2                3          68400  1970      1    1  \n",
       "3                1          19500  1970      1    1  \n",
       "4                0          17100  1970      1    1  \n",
       "...            ...            ...   ...    ...  ...  \n",
       "10678            1           9000  1970      1    1  \n",
       "10679            1           9300  1970      1    1  \n",
       "10680            3          10800  1970      1    1  \n",
       "10681            3           9600  1970      1    1  \n",
       "10682            3          30000  1970      1    1  \n",
       "\n",
       "[10683 rows x 16 columns]"
      ]
     },
     "execution_count": 26,
     "metadata": {},
     "output_type": "execute_result"
    }
   ],
   "source": [
    "#Printing the dataframe\n",
    "\n",
    "df"
   ]
  },
  {
   "cell_type": "code",
   "execution_count": 27,
   "id": "deda7274",
   "metadata": {},
   "outputs": [],
   "source": [
    "#Dropping the columns\n",
    "\n",
    "df.drop(['Date_of_Journey','Day','year','Route', 'Dep_Time', 'Arrival_Time', 'Duration'], axis = 1, inplace = True)"
   ]
  },
  {
   "cell_type": "code",
   "execution_count": 28,
   "id": "f54eacc1",
   "metadata": {},
   "outputs": [
    {
     "data": {
      "text/html": [
       "<div>\n",
       "<style scoped>\n",
       "    .dataframe tbody tr th:only-of-type {\n",
       "        vertical-align: middle;\n",
       "    }\n",
       "\n",
       "    .dataframe tbody tr th {\n",
       "        vertical-align: top;\n",
       "    }\n",
       "\n",
       "    .dataframe thead th {\n",
       "        text-align: right;\n",
       "    }\n",
       "</style>\n",
       "<table border=\"1\" class=\"dataframe\">\n",
       "  <thead>\n",
       "    <tr style=\"text-align: right;\">\n",
       "      <th></th>\n",
       "      <th>Airline</th>\n",
       "      <th>Source</th>\n",
       "      <th>Destination</th>\n",
       "      <th>Total_Stops</th>\n",
       "      <th>Additional_Info</th>\n",
       "      <th>Price</th>\n",
       "      <th>flight_time</th>\n",
       "      <th>Duration(sec)</th>\n",
       "      <th>month</th>\n",
       "    </tr>\n",
       "  </thead>\n",
       "  <tbody>\n",
       "    <tr>\n",
       "      <th>0</th>\n",
       "      <td>3</td>\n",
       "      <td>0</td>\n",
       "      <td>5</td>\n",
       "      <td>4</td>\n",
       "      <td>7</td>\n",
       "      <td>3897</td>\n",
       "      <td>1</td>\n",
       "      <td>10200</td>\n",
       "      <td>1</td>\n",
       "    </tr>\n",
       "    <tr>\n",
       "      <th>1</th>\n",
       "      <td>1</td>\n",
       "      <td>3</td>\n",
       "      <td>0</td>\n",
       "      <td>1</td>\n",
       "      <td>7</td>\n",
       "      <td>7662</td>\n",
       "      <td>2</td>\n",
       "      <td>26700</td>\n",
       "      <td>1</td>\n",
       "    </tr>\n",
       "    <tr>\n",
       "      <th>2</th>\n",
       "      <td>4</td>\n",
       "      <td>2</td>\n",
       "      <td>1</td>\n",
       "      <td>1</td>\n",
       "      <td>7</td>\n",
       "      <td>13882</td>\n",
       "      <td>3</td>\n",
       "      <td>68400</td>\n",
       "      <td>1</td>\n",
       "    </tr>\n",
       "    <tr>\n",
       "      <th>3</th>\n",
       "      <td>3</td>\n",
       "      <td>3</td>\n",
       "      <td>0</td>\n",
       "      <td>0</td>\n",
       "      <td>7</td>\n",
       "      <td>6218</td>\n",
       "      <td>1</td>\n",
       "      <td>19500</td>\n",
       "      <td>1</td>\n",
       "    </tr>\n",
       "    <tr>\n",
       "      <th>4</th>\n",
       "      <td>3</td>\n",
       "      <td>0</td>\n",
       "      <td>5</td>\n",
       "      <td>0</td>\n",
       "      <td>7</td>\n",
       "      <td>13302</td>\n",
       "      <td>0</td>\n",
       "      <td>17100</td>\n",
       "      <td>1</td>\n",
       "    </tr>\n",
       "    <tr>\n",
       "      <th>...</th>\n",
       "      <td>...</td>\n",
       "      <td>...</td>\n",
       "      <td>...</td>\n",
       "      <td>...</td>\n",
       "      <td>...</td>\n",
       "      <td>...</td>\n",
       "      <td>...</td>\n",
       "      <td>...</td>\n",
       "      <td>...</td>\n",
       "    </tr>\n",
       "    <tr>\n",
       "      <th>10678</th>\n",
       "      <td>0</td>\n",
       "      <td>3</td>\n",
       "      <td>0</td>\n",
       "      <td>4</td>\n",
       "      <td>7</td>\n",
       "      <td>4107</td>\n",
       "      <td>1</td>\n",
       "      <td>9000</td>\n",
       "      <td>1</td>\n",
       "    </tr>\n",
       "    <tr>\n",
       "      <th>10679</th>\n",
       "      <td>1</td>\n",
       "      <td>3</td>\n",
       "      <td>0</td>\n",
       "      <td>4</td>\n",
       "      <td>7</td>\n",
       "      <td>4145</td>\n",
       "      <td>1</td>\n",
       "      <td>9300</td>\n",
       "      <td>1</td>\n",
       "    </tr>\n",
       "    <tr>\n",
       "      <th>10680</th>\n",
       "      <td>4</td>\n",
       "      <td>0</td>\n",
       "      <td>2</td>\n",
       "      <td>4</td>\n",
       "      <td>7</td>\n",
       "      <td>7229</td>\n",
       "      <td>3</td>\n",
       "      <td>10800</td>\n",
       "      <td>1</td>\n",
       "    </tr>\n",
       "    <tr>\n",
       "      <th>10681</th>\n",
       "      <td>10</td>\n",
       "      <td>0</td>\n",
       "      <td>5</td>\n",
       "      <td>4</td>\n",
       "      <td>7</td>\n",
       "      <td>12648</td>\n",
       "      <td>3</td>\n",
       "      <td>9600</td>\n",
       "      <td>1</td>\n",
       "    </tr>\n",
       "    <tr>\n",
       "      <th>10682</th>\n",
       "      <td>1</td>\n",
       "      <td>2</td>\n",
       "      <td>1</td>\n",
       "      <td>1</td>\n",
       "      <td>7</td>\n",
       "      <td>11753</td>\n",
       "      <td>3</td>\n",
       "      <td>30000</td>\n",
       "      <td>1</td>\n",
       "    </tr>\n",
       "  </tbody>\n",
       "</table>\n",
       "<p>10683 rows × 9 columns</p>\n",
       "</div>"
      ],
      "text/plain": [
       "       Airline  Source  Destination  Total_Stops  Additional_Info  Price  \\\n",
       "0            3       0            5            4                7   3897   \n",
       "1            1       3            0            1                7   7662   \n",
       "2            4       2            1            1                7  13882   \n",
       "3            3       3            0            0                7   6218   \n",
       "4            3       0            5            0                7  13302   \n",
       "...        ...     ...          ...          ...              ...    ...   \n",
       "10678        0       3            0            4                7   4107   \n",
       "10679        1       3            0            4                7   4145   \n",
       "10680        4       0            2            4                7   7229   \n",
       "10681       10       0            5            4                7  12648   \n",
       "10682        1       2            1            1                7  11753   \n",
       "\n",
       "       flight_time  Duration(sec)  month  \n",
       "0                1          10200      1  \n",
       "1                2          26700      1  \n",
       "2                3          68400      1  \n",
       "3                1          19500      1  \n",
       "4                0          17100      1  \n",
       "...            ...            ...    ...  \n",
       "10678            1           9000      1  \n",
       "10679            1           9300      1  \n",
       "10680            3          10800      1  \n",
       "10681            3           9600      1  \n",
       "10682            3          30000      1  \n",
       "\n",
       "[10683 rows x 9 columns]"
      ]
     },
     "execution_count": 28,
     "metadata": {},
     "output_type": "execute_result"
    }
   ],
   "source": [
    "#Printing the dataframe\n",
    "\n",
    "df"
   ]
  },
  {
   "cell_type": "code",
   "execution_count": 29,
   "id": "7552267e",
   "metadata": {},
   "outputs": [
    {
     "data": {
      "text/html": [
       "<div>\n",
       "<style scoped>\n",
       "    .dataframe tbody tr th:only-of-type {\n",
       "        vertical-align: middle;\n",
       "    }\n",
       "\n",
       "    .dataframe tbody tr th {\n",
       "        vertical-align: top;\n",
       "    }\n",
       "\n",
       "    .dataframe thead th {\n",
       "        text-align: right;\n",
       "    }\n",
       "</style>\n",
       "<table border=\"1\" class=\"dataframe\">\n",
       "  <thead>\n",
       "    <tr style=\"text-align: right;\">\n",
       "      <th></th>\n",
       "      <th>Price</th>\n",
       "      <th>Airline</th>\n",
       "      <th>Source</th>\n",
       "      <th>Destination</th>\n",
       "      <th>Total_Stops</th>\n",
       "      <th>Additional_Info</th>\n",
       "      <th>flight_time</th>\n",
       "      <th>Duration(sec)</th>\n",
       "      <th>month</th>\n",
       "    </tr>\n",
       "  </thead>\n",
       "  <tbody>\n",
       "    <tr>\n",
       "      <th>0</th>\n",
       "      <td>3897</td>\n",
       "      <td>3</td>\n",
       "      <td>0</td>\n",
       "      <td>5</td>\n",
       "      <td>4</td>\n",
       "      <td>7</td>\n",
       "      <td>1</td>\n",
       "      <td>10200</td>\n",
       "      <td>1</td>\n",
       "    </tr>\n",
       "    <tr>\n",
       "      <th>1</th>\n",
       "      <td>7662</td>\n",
       "      <td>1</td>\n",
       "      <td>3</td>\n",
       "      <td>0</td>\n",
       "      <td>1</td>\n",
       "      <td>7</td>\n",
       "      <td>2</td>\n",
       "      <td>26700</td>\n",
       "      <td>1</td>\n",
       "    </tr>\n",
       "    <tr>\n",
       "      <th>2</th>\n",
       "      <td>13882</td>\n",
       "      <td>4</td>\n",
       "      <td>2</td>\n",
       "      <td>1</td>\n",
       "      <td>1</td>\n",
       "      <td>7</td>\n",
       "      <td>3</td>\n",
       "      <td>68400</td>\n",
       "      <td>1</td>\n",
       "    </tr>\n",
       "    <tr>\n",
       "      <th>3</th>\n",
       "      <td>6218</td>\n",
       "      <td>3</td>\n",
       "      <td>3</td>\n",
       "      <td>0</td>\n",
       "      <td>0</td>\n",
       "      <td>7</td>\n",
       "      <td>1</td>\n",
       "      <td>19500</td>\n",
       "      <td>1</td>\n",
       "    </tr>\n",
       "    <tr>\n",
       "      <th>4</th>\n",
       "      <td>13302</td>\n",
       "      <td>3</td>\n",
       "      <td>0</td>\n",
       "      <td>5</td>\n",
       "      <td>0</td>\n",
       "      <td>7</td>\n",
       "      <td>0</td>\n",
       "      <td>17100</td>\n",
       "      <td>1</td>\n",
       "    </tr>\n",
       "  </tbody>\n",
       "</table>\n",
       "</div>"
      ],
      "text/plain": [
       "   Price  Airline  Source  Destination  Total_Stops  Additional_Info  \\\n",
       "0   3897        3       0            5            4                7   \n",
       "1   7662        1       3            0            1                7   \n",
       "2  13882        4       2            1            1                7   \n",
       "3   6218        3       3            0            0                7   \n",
       "4  13302        3       0            5            0                7   \n",
       "\n",
       "   flight_time  Duration(sec)  month  \n",
       "0            1          10200      1  \n",
       "1            2          26700      1  \n",
       "2            3          68400      1  \n",
       "3            1          19500      1  \n",
       "4            0          17100      1  "
      ]
     },
     "execution_count": 29,
     "metadata": {},
     "output_type": "execute_result"
    }
   ],
   "source": [
    "#Dropping price\n",
    "\n",
    "mid = df['Price']\n",
    "df.drop(labels=['Price'], axis=1, inplace = True)\n",
    "df.insert(0, 'Price', mid)\n",
    "df.head()"
   ]
  },
  {
   "cell_type": "markdown",
   "id": "ad9ff125",
   "metadata": {},
   "source": [
    "# DATA VISUALIZATION"
   ]
  },
  {
   "cell_type": "markdown",
   "id": "db3668ec",
   "metadata": {},
   "source": [
    "# UNI-VARIET ANALYSIS"
   ]
  },
  {
   "cell_type": "code",
   "execution_count": 30,
   "id": "1e43c4a8",
   "metadata": {},
   "outputs": [
    {
     "data": {
      "text/plain": [
       "<seaborn.axisgrid.FacetGrid at 0x288f3e55160>"
      ]
     },
     "execution_count": 30,
     "metadata": {},
     "output_type": "execute_result"
    },
    {
     "data": {
      "image/png": "[encoded data removed]",
      "text/plain": [
       "<Figure size 360x360 with 1 Axes>"
      ]
     },
     "metadata": {
      "needs_background": "light"
     },
     "output_type": "display_data"
    }
   ],
   "source": [
    "#Plotting catplot with our target column\n",
    "\n",
    "sns.catplot(data=df,x='Price')"
   ]
  },
  {
   "cell_type": "code",
   "execution_count": 31,
   "id": "8692f89f",
   "metadata": {},
   "outputs": [
    {
     "data": {
      "text/plain": [
       "<AxesSubplot:xlabel='Price', ylabel='Density'>"
      ]
     },
     "execution_count": 31,
     "metadata": {},
     "output_type": "execute_result"
    },
    {
     "data": {
      "image/png": "[encoded data removed]",
      "text/plain": [
       "<Figure size 432x288 with 1 Axes>"
      ]
     },
     "metadata": {
      "needs_background": "light"
     },
     "output_type": "display_data"
    }
   ],
   "source": [
    "#Plotting the distribution plot of the target variable\n",
    "\n",
    "sns.distplot(df['Price'])"
   ]
  },
  {
   "cell_type": "code",
   "execution_count": 32,
   "id": "d7c92262",
   "metadata": {},
   "outputs": [
    {
     "data": {
      "text/plain": [
       "<AxesSubplot:xlabel='Price'>"
      ]
     },
     "execution_count": 32,
     "metadata": {},
     "output_type": "execute_result"
    },
    {
     "data": {
      "image/png": "[encoded data removed]",
      "text/plain": [
       "<Figure size 432x288 with 1 Axes>"
      ]
     },
     "metadata": {
      "needs_background": "light"
     },
     "output_type": "display_data"
    }
   ],
   "source": [
    "#There are outliers present in the Price column\n",
    "\n",
    "sns.boxplot(data=df,x='Price')"
   ]
  },
  {
   "cell_type": "code",
   "execution_count": 33,
   "id": "84d8dee2",
   "metadata": {},
   "outputs": [
    {
     "data": {
      "text/plain": [
       "<AxesSubplot:xlabel='Price'>"
      ]
     },
     "execution_count": 33,
     "metadata": {},
     "output_type": "execute_result"
    },
    {
     "data": {
      "image/png": "[encoded data removed]",
      "text/plain": [
       "<Figure size 432x288 with 1 Axes>"
      ]
     },
     "metadata": {
      "needs_background": "light"
     },
     "output_type": "display_data"
    }
   ],
   "source": [
    "#Plotting violin plot\n",
    "\n",
    "sns.violinplot(df['Price'])"
   ]
  },
  {
   "cell_type": "code",
   "execution_count": 35,
   "id": "e3c36f66",
   "metadata": {},
   "outputs": [
    {
     "data": {
      "text/plain": [
       "<AxesSubplot:xlabel='Price', ylabel='Count'>"
      ]
     },
     "execution_count": 35,
     "metadata": {},
     "output_type": "execute_result"
    },
    {
     "data": {
      "image/png": "[encoded data removed]",
      "text/plain": [
       "<Figure size 432x288 with 1 Axes>"
      ]
     },
     "metadata": {
      "needs_background": "light"
     },
     "output_type": "display_data"
    }
   ],
   "source": [
    "#Plotting histogram\n",
    "\n",
    "sns.histplot(df['Price'],bins=5)"
   ]
  },
  {
   "cell_type": "markdown",
   "id": "541b5cf6",
   "metadata": {},
   "source": [
    "# CORELATION"
   ]
  },
  {
   "cell_type": "code",
   "execution_count": 36,
   "id": "3c4fda17",
   "metadata": {},
   "outputs": [
    {
     "data": {
      "text/html": [
       "<div>\n",
       "<style scoped>\n",
       "    .dataframe tbody tr th:only-of-type {\n",
       "        vertical-align: middle;\n",
       "    }\n",
       "\n",
       "    .dataframe tbody tr th {\n",
       "        vertical-align: top;\n",
       "    }\n",
       "\n",
       "    .dataframe thead th {\n",
       "        text-align: right;\n",
       "    }\n",
       "</style>\n",
       "<table border=\"1\" class=\"dataframe\">\n",
       "  <thead>\n",
       "    <tr style=\"text-align: right;\">\n",
       "      <th></th>\n",
       "      <th>Price</th>\n",
       "      <th>Airline</th>\n",
       "      <th>Source</th>\n",
       "      <th>Destination</th>\n",
       "      <th>Total_Stops</th>\n",
       "      <th>Additional_Info</th>\n",
       "      <th>flight_time</th>\n",
       "      <th>Duration(sec)</th>\n",
       "      <th>month</th>\n",
       "    </tr>\n",
       "  </thead>\n",
       "  <tbody>\n",
       "    <tr>\n",
       "      <th>Price</th>\n",
       "      <td>1.000000</td>\n",
       "      <td>-0.039520</td>\n",
       "      <td>0.015998</td>\n",
       "      <td>-0.071112</td>\n",
       "      <td>-0.571174</td>\n",
       "      <td>-0.063769</td>\n",
       "      <td>-0.003708</td>\n",
       "      <td>0.506495</td>\n",
       "      <td>NaN</td>\n",
       "    </tr>\n",
       "    <tr>\n",
       "      <th>Airline</th>\n",
       "      <td>-0.039520</td>\n",
       "      <td>1.000000</td>\n",
       "      <td>-0.013401</td>\n",
       "      <td>0.018479</td>\n",
       "      <td>0.036064</td>\n",
       "      <td>-0.077793</td>\n",
       "      <td>0.063999</td>\n",
       "      <td>-0.159879</td>\n",
       "      <td>NaN</td>\n",
       "    </tr>\n",
       "    <tr>\n",
       "      <th>Source</th>\n",
       "      <td>0.015998</td>\n",
       "      <td>-0.013401</td>\n",
       "      <td>1.000000</td>\n",
       "      <td>-0.592574</td>\n",
       "      <td>-0.225601</td>\n",
       "      <td>-0.015856</td>\n",
       "      <td>-0.089723</td>\n",
       "      <td>0.161977</td>\n",
       "      <td>NaN</td>\n",
       "    </tr>\n",
       "    <tr>\n",
       "      <th>Destination</th>\n",
       "      <td>-0.071112</td>\n",
       "      <td>0.018479</td>\n",
       "      <td>-0.592574</td>\n",
       "      <td>1.000000</td>\n",
       "      <td>0.337883</td>\n",
       "      <td>0.013089</td>\n",
       "      <td>0.072478</td>\n",
       "      <td>-0.257321</td>\n",
       "      <td>NaN</td>\n",
       "    </tr>\n",
       "    <tr>\n",
       "      <th>Total_Stops</th>\n",
       "      <td>-0.571174</td>\n",
       "      <td>0.036064</td>\n",
       "      <td>-0.225601</td>\n",
       "      <td>0.337883</td>\n",
       "      <td>1.000000</td>\n",
       "      <td>0.145884</td>\n",
       "      <td>-0.032454</td>\n",
       "      <td>-0.602359</td>\n",
       "      <td>NaN</td>\n",
       "    </tr>\n",
       "    <tr>\n",
       "      <th>Additional_Info</th>\n",
       "      <td>-0.063769</td>\n",
       "      <td>-0.077793</td>\n",
       "      <td>-0.015856</td>\n",
       "      <td>0.013089</td>\n",
       "      <td>0.145884</td>\n",
       "      <td>1.000000</td>\n",
       "      <td>0.023825</td>\n",
       "      <td>-0.152957</td>\n",
       "      <td>NaN</td>\n",
       "    </tr>\n",
       "    <tr>\n",
       "      <th>flight_time</th>\n",
       "      <td>-0.003708</td>\n",
       "      <td>0.063999</td>\n",
       "      <td>-0.089723</td>\n",
       "      <td>0.072478</td>\n",
       "      <td>-0.032454</td>\n",
       "      <td>0.023825</td>\n",
       "      <td>1.000000</td>\n",
       "      <td>-0.018011</td>\n",
       "      <td>NaN</td>\n",
       "    </tr>\n",
       "    <tr>\n",
       "      <th>Duration(sec)</th>\n",
       "      <td>0.506495</td>\n",
       "      <td>-0.159879</td>\n",
       "      <td>0.161977</td>\n",
       "      <td>-0.257321</td>\n",
       "      <td>-0.602359</td>\n",
       "      <td>-0.152957</td>\n",
       "      <td>-0.018011</td>\n",
       "      <td>1.000000</td>\n",
       "      <td>NaN</td>\n",
       "    </tr>\n",
       "    <tr>\n",
       "      <th>month</th>\n",
       "      <td>NaN</td>\n",
       "      <td>NaN</td>\n",
       "      <td>NaN</td>\n",
       "      <td>NaN</td>\n",
       "      <td>NaN</td>\n",
       "      <td>NaN</td>\n",
       "      <td>NaN</td>\n",
       "      <td>NaN</td>\n",
       "      <td>NaN</td>\n",
       "    </tr>\n",
       "  </tbody>\n",
       "</table>\n",
       "</div>"
      ],
      "text/plain": [
       "                    Price   Airline    Source  Destination  Total_Stops  \\\n",
       "Price            1.000000 -0.039520  0.015998    -0.071112    -0.571174   \n",
       "Airline         -0.039520  1.000000 -0.013401     0.018479     0.036064   \n",
       "Source           0.015998 -0.013401  1.000000    -0.592574    -0.225601   \n",
       "Destination     -0.071112  0.018479 -0.592574     1.000000     0.337883   \n",
       "Total_Stops     -0.571174  0.036064 -0.225601     0.337883     1.000000   \n",
       "Additional_Info -0.063769 -0.077793 -0.015856     0.013089     0.145884   \n",
       "flight_time     -0.003708  0.063999 -0.089723     0.072478    -0.032454   \n",
       "Duration(sec)    0.506495 -0.159879  0.161977    -0.257321    -0.602359   \n",
       "month                 NaN       NaN       NaN          NaN          NaN   \n",
       "\n",
       "                 Additional_Info  flight_time  Duration(sec)  month  \n",
       "Price                  -0.063769    -0.003708       0.506495    NaN  \n",
       "Airline                -0.077793     0.063999      -0.159879    NaN  \n",
       "Source                 -0.015856    -0.089723       0.161977    NaN  \n",
       "Destination             0.013089     0.072478      -0.257321    NaN  \n",
       "Total_Stops             0.145884    -0.032454      -0.602359    NaN  \n",
       "Additional_Info         1.000000     0.023825      -0.152957    NaN  \n",
       "flight_time             0.023825     1.000000      -0.018011    NaN  \n",
       "Duration(sec)          -0.152957    -0.018011       1.000000    NaN  \n",
       "month                        NaN          NaN            NaN    NaN  "
      ]
     },
     "execution_count": 36,
     "metadata": {},
     "output_type": "execute_result"
    }
   ],
   "source": [
    "#Showing co-relation between the columns\n",
    "\n",
    "df.corr()"
   ]
  },
  {
   "cell_type": "code",
   "execution_count": 37,
   "id": "43118bbb",
   "metadata": {},
   "outputs": [
    {
     "data": {
      "text/plain": [
       "<AxesSubplot:>"
      ]
     },
     "execution_count": 37,
     "metadata": {},
     "output_type": "execute_result"
    },
    {
     "data": {
      "image/png": "[encoded data removed]",
      "text/plain": [
       "<Figure size 432x288 with 2 Axes>"
      ]
     },
     "metadata": {
      "needs_background": "light"
     },
     "output_type": "display_data"
    }
   ],
   "source": [
    "#Showing corelation\n",
    "#Here the darker shades are highly corelated\n",
    "\n",
    "sns.heatmap(df.corr(),annot=True,cmap='Blues')"
   ]
  },
  {
   "cell_type": "code",
   "execution_count": 38,
   "id": "bc9ac3e8",
   "metadata": {},
   "outputs": [
    {
     "data": {
      "image/png": "[encoded data removed]",
      "text/plain": [
       "<Figure size 432x288 with 1 Axes>"
      ]
     },
     "metadata": {
      "needs_background": "light"
     },
     "output_type": "display_data"
    }
   ],
   "source": [
    "#Showing +vely & -vely corelation of the columns\n",
    "\n",
    "df.corr()['Price'].sort_values(ascending=False).drop(['Price']).plot(kind='bar')\n",
    "plt.xlabel('Feature',fontsize=14)\n",
    "plt.ylabel('column with target names',fontsize=14)\n",
    "plt.title('correlation',fontsize=18)\n",
    "plt.show()"
   ]
  },
  {
   "cell_type": "markdown",
   "id": "64567a4b",
   "metadata": {},
   "source": [
    "# SKEWNESS"
   ]
  },
  {
   "cell_type": "code",
   "execution_count": 39,
   "id": "c1f0b25d",
   "metadata": {},
   "outputs": [
    {
     "data": {
      "text/plain": [
       "Price              1.812552\n",
       "Airline            0.731095\n",
       "Source            -0.424054\n",
       "Destination        1.244169\n",
       "Total_Stops        0.631681\n",
       "Additional_Info   -2.114551\n",
       "flight_time       -0.118834\n",
       "Duration(sec)      0.861203\n",
       "month              0.000000\n",
       "dtype: float64"
      ]
     },
     "execution_count": 39,
     "metadata": {},
     "output_type": "execute_result"
    }
   ],
   "source": [
    "#Showing corelation of the columns that are present\n",
    "\n",
    "df.skew()"
   ]
  },
  {
   "cell_type": "code",
   "execution_count": 40,
   "id": "4c98484a",
   "metadata": {},
   "outputs": [],
   "source": [
    "#Treating the skewness\n",
    "\n",
    "for col in df.columns:\n",
    "    if df.skew().loc[col]>0.55:\n",
    "        df[col]=np.log1p(df[col])"
   ]
  },
  {
   "cell_type": "code",
   "execution_count": 41,
   "id": "6759d52c",
   "metadata": {},
   "outputs": [
    {
     "data": {
      "text/plain": [
       "Price             -0.254565\n",
       "Airline           -0.679875\n",
       "Source            -0.424054\n",
       "Destination        0.283084\n",
       "Total_Stops        0.466484\n",
       "Additional_Info   -2.114551\n",
       "flight_time       -0.118834\n",
       "Duration(sec)     -0.164533\n",
       "month              0.000000\n",
       "dtype: float64"
      ]
     },
     "execution_count": 41,
     "metadata": {},
     "output_type": "execute_result"
    }
   ],
   "source": [
    "#Checking the skewness after removing skewness\n",
    "\n",
    "df.skew()"
   ]
  },
  {
   "cell_type": "markdown",
   "id": "52a9a70b",
   "metadata": {},
   "source": [
    "# DIVIDING THE X & Y"
   ]
  },
  {
   "cell_type": "code",
   "execution_count": 42,
   "id": "4da332fd",
   "metadata": {},
   "outputs": [
    {
     "data": {
      "text/html": [
       "<div>\n",
       "<style scoped>\n",
       "    .dataframe tbody tr th:only-of-type {\n",
       "        vertical-align: middle;\n",
       "    }\n",
       "\n",
       "    .dataframe tbody tr th {\n",
       "        vertical-align: top;\n",
       "    }\n",
       "\n",
       "    .dataframe thead th {\n",
       "        text-align: right;\n",
       "    }\n",
       "</style>\n",
       "<table border=\"1\" class=\"dataframe\">\n",
       "  <thead>\n",
       "    <tr style=\"text-align: right;\">\n",
       "      <th></th>\n",
       "      <th>Airline</th>\n",
       "      <th>Source</th>\n",
       "      <th>Destination</th>\n",
       "      <th>Total_Stops</th>\n",
       "      <th>Additional_Info</th>\n",
       "      <th>flight_time</th>\n",
       "      <th>Duration(sec)</th>\n",
       "      <th>month</th>\n",
       "    </tr>\n",
       "  </thead>\n",
       "  <tbody>\n",
       "    <tr>\n",
       "      <th>0</th>\n",
       "      <td>1.386294</td>\n",
       "      <td>0</td>\n",
       "      <td>1.791759</td>\n",
       "      <td>1.609438</td>\n",
       "      <td>7</td>\n",
       "      <td>1</td>\n",
       "      <td>9.230241</td>\n",
       "      <td>1</td>\n",
       "    </tr>\n",
       "    <tr>\n",
       "      <th>1</th>\n",
       "      <td>0.693147</td>\n",
       "      <td>3</td>\n",
       "      <td>0.000000</td>\n",
       "      <td>0.693147</td>\n",
       "      <td>7</td>\n",
       "      <td>2</td>\n",
       "      <td>10.192456</td>\n",
       "      <td>1</td>\n",
       "    </tr>\n",
       "    <tr>\n",
       "      <th>2</th>\n",
       "      <td>1.609438</td>\n",
       "      <td>2</td>\n",
       "      <td>0.693147</td>\n",
       "      <td>0.693147</td>\n",
       "      <td>7</td>\n",
       "      <td>3</td>\n",
       "      <td>11.133143</td>\n",
       "      <td>1</td>\n",
       "    </tr>\n",
       "    <tr>\n",
       "      <th>3</th>\n",
       "      <td>1.386294</td>\n",
       "      <td>3</td>\n",
       "      <td>0.000000</td>\n",
       "      <td>0.000000</td>\n",
       "      <td>7</td>\n",
       "      <td>1</td>\n",
       "      <td>9.878221</td>\n",
       "      <td>1</td>\n",
       "    </tr>\n",
       "    <tr>\n",
       "      <th>4</th>\n",
       "      <td>1.386294</td>\n",
       "      <td>0</td>\n",
       "      <td>1.791759</td>\n",
       "      <td>0.000000</td>\n",
       "      <td>7</td>\n",
       "      <td>0</td>\n",
       "      <td>9.746892</td>\n",
       "      <td>1</td>\n",
       "    </tr>\n",
       "    <tr>\n",
       "      <th>...</th>\n",
       "      <td>...</td>\n",
       "      <td>...</td>\n",
       "      <td>...</td>\n",
       "      <td>...</td>\n",
       "      <td>...</td>\n",
       "      <td>...</td>\n",
       "      <td>...</td>\n",
       "      <td>...</td>\n",
       "    </tr>\n",
       "    <tr>\n",
       "      <th>10678</th>\n",
       "      <td>0.000000</td>\n",
       "      <td>3</td>\n",
       "      <td>0.000000</td>\n",
       "      <td>1.609438</td>\n",
       "      <td>7</td>\n",
       "      <td>1</td>\n",
       "      <td>9.105091</td>\n",
       "      <td>1</td>\n",
       "    </tr>\n",
       "    <tr>\n",
       "      <th>10679</th>\n",
       "      <td>0.693147</td>\n",
       "      <td>3</td>\n",
       "      <td>0.000000</td>\n",
       "      <td>1.609438</td>\n",
       "      <td>7</td>\n",
       "      <td>1</td>\n",
       "      <td>9.137877</td>\n",
       "      <td>1</td>\n",
       "    </tr>\n",
       "    <tr>\n",
       "      <th>10680</th>\n",
       "      <td>1.609438</td>\n",
       "      <td>0</td>\n",
       "      <td>1.098612</td>\n",
       "      <td>1.609438</td>\n",
       "      <td>7</td>\n",
       "      <td>3</td>\n",
       "      <td>9.287394</td>\n",
       "      <td>1</td>\n",
       "    </tr>\n",
       "    <tr>\n",
       "      <th>10681</th>\n",
       "      <td>2.397895</td>\n",
       "      <td>0</td>\n",
       "      <td>1.791759</td>\n",
       "      <td>1.609438</td>\n",
       "      <td>7</td>\n",
       "      <td>3</td>\n",
       "      <td>9.169623</td>\n",
       "      <td>1</td>\n",
       "    </tr>\n",
       "    <tr>\n",
       "      <th>10682</th>\n",
       "      <td>0.693147</td>\n",
       "      <td>2</td>\n",
       "      <td>0.693147</td>\n",
       "      <td>0.693147</td>\n",
       "      <td>7</td>\n",
       "      <td>3</td>\n",
       "      <td>10.308986</td>\n",
       "      <td>1</td>\n",
       "    </tr>\n",
       "  </tbody>\n",
       "</table>\n",
       "<p>10683 rows × 8 columns</p>\n",
       "</div>"
      ],
      "text/plain": [
       "        Airline  Source  Destination  Total_Stops  Additional_Info  \\\n",
       "0      1.386294       0     1.791759     1.609438                7   \n",
       "1      0.693147       3     0.000000     0.693147                7   \n",
       "2      1.609438       2     0.693147     0.693147                7   \n",
       "3      1.386294       3     0.000000     0.000000                7   \n",
       "4      1.386294       0     1.791759     0.000000                7   \n",
       "...         ...     ...          ...          ...              ...   \n",
       "10678  0.000000       3     0.000000     1.609438                7   \n",
       "10679  0.693147       3     0.000000     1.609438                7   \n",
       "10680  1.609438       0     1.098612     1.609438                7   \n",
       "10681  2.397895       0     1.791759     1.609438                7   \n",
       "10682  0.693147       2     0.693147     0.693147                7   \n",
       "\n",
       "       flight_time  Duration(sec)  month  \n",
       "0                1       9.230241      1  \n",
       "1                2      10.192456      1  \n",
       "2                3      11.133143      1  \n",
       "3                1       9.878221      1  \n",
       "4                0       9.746892      1  \n",
       "...            ...            ...    ...  \n",
       "10678            1       9.105091      1  \n",
       "10679            1       9.137877      1  \n",
       "10680            3       9.287394      1  \n",
       "10681            3       9.169623      1  \n",
       "10682            3      10.308986      1  \n",
       "\n",
       "[10683 rows x 8 columns]"
      ]
     },
     "execution_count": 42,
     "metadata": {},
     "output_type": "execute_result"
    }
   ],
   "source": [
    "x=df.iloc[:,1:9]\n",
    "x.shape\n",
    "x"
   ]
  },
  {
   "cell_type": "code",
   "execution_count": 43,
   "id": "2395d5a7",
   "metadata": {},
   "outputs": [
    {
     "data": {
      "text/html": [
       "<div>\n",
       "<style scoped>\n",
       "    .dataframe tbody tr th:only-of-type {\n",
       "        vertical-align: middle;\n",
       "    }\n",
       "\n",
       "    .dataframe tbody tr th {\n",
       "        vertical-align: top;\n",
       "    }\n",
       "\n",
       "    .dataframe thead th {\n",
       "        text-align: right;\n",
       "    }\n",
       "</style>\n",
       "<table border=\"1\" class=\"dataframe\">\n",
       "  <thead>\n",
       "    <tr style=\"text-align: right;\">\n",
       "      <th></th>\n",
       "      <th>Price</th>\n",
       "    </tr>\n",
       "  </thead>\n",
       "  <tbody>\n",
       "    <tr>\n",
       "      <th>0</th>\n",
       "      <td>8.268219</td>\n",
       "    </tr>\n",
       "    <tr>\n",
       "      <th>1</th>\n",
       "      <td>8.944159</td>\n",
       "    </tr>\n",
       "    <tr>\n",
       "      <th>2</th>\n",
       "      <td>9.538420</td>\n",
       "    </tr>\n",
       "    <tr>\n",
       "      <th>3</th>\n",
       "      <td>8.735364</td>\n",
       "    </tr>\n",
       "    <tr>\n",
       "      <th>4</th>\n",
       "      <td>9.495745</td>\n",
       "    </tr>\n",
       "    <tr>\n",
       "      <th>...</th>\n",
       "      <td>...</td>\n",
       "    </tr>\n",
       "    <tr>\n",
       "      <th>10678</th>\n",
       "      <td>8.320692</td>\n",
       "    </tr>\n",
       "    <tr>\n",
       "      <th>10679</th>\n",
       "      <td>8.329899</td>\n",
       "    </tr>\n",
       "    <tr>\n",
       "      <th>10680</th>\n",
       "      <td>8.885994</td>\n",
       "    </tr>\n",
       "    <tr>\n",
       "      <th>10681</th>\n",
       "      <td>9.445333</td>\n",
       "    </tr>\n",
       "    <tr>\n",
       "      <th>10682</th>\n",
       "      <td>9.371949</td>\n",
       "    </tr>\n",
       "  </tbody>\n",
       "</table>\n",
       "<p>10683 rows × 1 columns</p>\n",
       "</div>"
      ],
      "text/plain": [
       "          Price\n",
       "0      8.268219\n",
       "1      8.944159\n",
       "2      9.538420\n",
       "3      8.735364\n",
       "4      9.495745\n",
       "...         ...\n",
       "10678  8.320692\n",
       "10679  8.329899\n",
       "10680  8.885994\n",
       "10681  9.445333\n",
       "10682  9.371949\n",
       "\n",
       "[10683 rows x 1 columns]"
      ]
     },
     "execution_count": 43,
     "metadata": {},
     "output_type": "execute_result"
    }
   ],
   "source": [
    "y=df.iloc[:,0:1]\n",
    "y.shape\n",
    "y"
   ]
  },
  {
   "cell_type": "markdown",
   "id": "334867b2",
   "metadata": {},
   "source": [
    "# SCALING"
   ]
  },
  {
   "cell_type": "code",
   "execution_count": 44,
   "id": "ac6595b5",
   "metadata": {},
   "outputs": [
    {
     "data": {
      "text/html": [
       "<div>\n",
       "<style scoped>\n",
       "    .dataframe tbody tr th:only-of-type {\n",
       "        vertical-align: middle;\n",
       "    }\n",
       "\n",
       "    .dataframe tbody tr th {\n",
       "        vertical-align: top;\n",
       "    }\n",
       "\n",
       "    .dataframe thead th {\n",
       "        text-align: right;\n",
       "    }\n",
       "</style>\n",
       "<table border=\"1\" class=\"dataframe\">\n",
       "  <thead>\n",
       "    <tr style=\"text-align: right;\">\n",
       "      <th></th>\n",
       "      <th>0</th>\n",
       "      <th>1</th>\n",
       "      <th>2</th>\n",
       "      <th>3</th>\n",
       "      <th>4</th>\n",
       "      <th>5</th>\n",
       "      <th>6</th>\n",
       "      <th>7</th>\n",
       "    </tr>\n",
       "  </thead>\n",
       "  <tbody>\n",
       "    <tr>\n",
       "      <th>0</th>\n",
       "      <td>-0.173359</td>\n",
       "      <td>-1.658441</td>\n",
       "      <td>1.897504</td>\n",
       "      <td>1.353931</td>\n",
       "      <td>0.49862</td>\n",
       "      <td>-0.536862</td>\n",
       "      <td>-1.063078</td>\n",
       "      <td>0.0</td>\n",
       "    </tr>\n",
       "    <tr>\n",
       "      <th>1</th>\n",
       "      <td>-1.484192</td>\n",
       "      <td>0.890052</td>\n",
       "      <td>-1.300469</td>\n",
       "      <td>0.088179</td>\n",
       "      <td>0.49862</td>\n",
       "      <td>0.275963</td>\n",
       "      <td>-0.003148</td>\n",
       "      <td>0.0</td>\n",
       "    </tr>\n",
       "    <tr>\n",
       "      <th>2</th>\n",
       "      <td>0.248636</td>\n",
       "      <td>0.040555</td>\n",
       "      <td>-0.063324</td>\n",
       "      <td>0.088179</td>\n",
       "      <td>0.49862</td>\n",
       "      <td>1.088788</td>\n",
       "      <td>1.033066</td>\n",
       "      <td>0.0</td>\n",
       "    </tr>\n",
       "    <tr>\n",
       "      <th>3</th>\n",
       "      <td>-0.173359</td>\n",
       "      <td>0.890052</td>\n",
       "      <td>-1.300469</td>\n",
       "      <td>-0.869325</td>\n",
       "      <td>0.49862</td>\n",
       "      <td>-0.536862</td>\n",
       "      <td>-0.349295</td>\n",
       "      <td>0.0</td>\n",
       "    </tr>\n",
       "    <tr>\n",
       "      <th>4</th>\n",
       "      <td>-0.173359</td>\n",
       "      <td>-1.658441</td>\n",
       "      <td>1.897504</td>\n",
       "      <td>-0.869325</td>\n",
       "      <td>0.49862</td>\n",
       "      <td>-1.349687</td>\n",
       "      <td>-0.493960</td>\n",
       "      <td>0.0</td>\n",
       "    </tr>\n",
       "  </tbody>\n",
       "</table>\n",
       "</div>"
      ],
      "text/plain": [
       "          0         1         2         3        4         5         6    7\n",
       "0 -0.173359 -1.658441  1.897504  1.353931  0.49862 -0.536862 -1.063078  0.0\n",
       "1 -1.484192  0.890052 -1.300469  0.088179  0.49862  0.275963 -0.003148  0.0\n",
       "2  0.248636  0.040555 -0.063324  0.088179  0.49862  1.088788  1.033066  0.0\n",
       "3 -0.173359  0.890052 -1.300469 -0.869325  0.49862 -0.536862 -0.349295  0.0\n",
       "4 -0.173359 -1.658441  1.897504 -0.869325  0.49862 -1.349687 -0.493960  0.0"
      ]
     },
     "execution_count": 44,
     "metadata": {},
     "output_type": "execute_result"
    }
   ],
   "source": [
    "#Importing the standard scaler for scaling the data\n",
    "\n",
    "from sklearn.preprocessing import StandardScaler\n",
    "scaler=StandardScaler(copy=True, with_mean=True, with_std=True).fit(x)\n",
    "df1_x_scaler = scaler.transform(x)\n",
    "x = pd.DataFrame(df1_x_scaler)\n",
    "x.head()"
   ]
  },
  {
   "cell_type": "markdown",
   "id": "381ba28d",
   "metadata": {},
   "source": [
    "# MODELS"
   ]
  },
  {
   "cell_type": "markdown",
   "id": "f6f9736f",
   "metadata": {},
   "source": [
    "# LASSO"
   ]
  },
  {
   "cell_type": "code",
   "execution_count": 45,
   "id": "8ba90490",
   "metadata": {},
   "outputs": [
    {
     "data": {
      "text/plain": [
       "{'alpha': 0.0001}"
      ]
     },
     "execution_count": 45,
     "metadata": {},
     "output_type": "execute_result"
    }
   ],
   "source": [
    "#Importing Lasso\n",
    "\n",
    "from sklearn.linear_model import Lasso\n",
    "from sklearn.model_selection import GridSearchCV\n",
    "isreh=Lasso()\n",
    "parameters={\"alpha\":[0.0001,0.001,0.01,0.1,1]}\n",
    "grid=GridSearchCV(isreh,parameters,cv=10)\n",
    "grid.fit(x,y)\n",
    "grid.best_params_"
   ]
  },
  {
   "cell_type": "code",
   "execution_count": 48,
   "id": "52ce735d",
   "metadata": {},
   "outputs": [
    {
     "name": "stdout",
     "output_type": "stream",
     "text": [
      "r2_score corresponding to random state:  42 is:  0.5437143489473728\n",
      "r2_score corresponding to random state:  43 is:  0.5574731598785303\n",
      "r2_score corresponding to random state:  44 is:  0.537929101311208\n",
      "r2_score corresponding to random state:  45 is:  0.5528912337635685\n",
      "r2_score corresponding to random state:  46 is:  0.5763188813265534\n",
      "r2_score corresponding to random state:  47 is:  0.5715786672411902\n",
      "r2_score corresponding to random state:  48 is:  0.5643189902084818\n",
      "r2_score corresponding to random state:  49 is:  0.5624432036687457\n",
      "r2_score corresponding to random state:  50 is:  0.5784239420069871\n",
      "r2_score corresponding to random state:  51 is:  0.5789463480223989\n",
      "r2_score corresponding to random state:  52 is:  0.5552004185991818\n",
      "r2_score corresponding to random state:  53 is:  0.5471994042108668\n",
      "r2_score corresponding to random state:  54 is:  0.5734301822079584\n",
      "r2_score corresponding to random state:  55 is:  0.557156095146093\n",
      "r2_score corresponding to random state:  56 is:  0.5507737748514524\n",
      "r2_score corresponding to random state:  57 is:  0.5662791519200601\n",
      "r2_score corresponding to random state:  58 is:  0.5723915009783812\n",
      "r2_score corresponding to random state:  59 is:  0.5515217994214103\n",
      "r2_score corresponding to random state:  60 is:  0.5585694727301032\n",
      "r2_score corresponding to random state:  61 is:  0.5371579658635238\n",
      "r2_score corresponding to random state:  62 is:  0.5607900986567609\n",
      "r2_score corresponding to random state:  63 is:  0.5543676869874301\n",
      "r2_score corresponding to random state:  64 is:  0.582227432596757\n",
      "r2_score corresponding to random state:  65 is:  0.5548323134099902\n",
      "r2_score corresponding to random state:  66 is:  0.5642642353572278\n",
      "r2_score corresponding to random state:  67 is:  0.5510860580136903\n",
      "r2_score corresponding to random state:  68 is:  0.5592614720221981\n",
      "r2_score corresponding to random state:  69 is:  0.5511524962605074\n",
      "r2_score corresponding to random state:  70 is:  0.5438015723146998\n",
      "r2_score corresponding to random state:  71 is:  0.5632477103533293\n",
      "r2_score corresponding to random state:  72 is:  0.5611078810874868\n",
      "r2_score corresponding to random state:  73 is:  0.5807911389322304\n",
      "r2_score corresponding to random state:  74 is:  0.5371988215997128\n",
      "r2_score corresponding to random state:  75 is:  0.5717257320997486\n",
      "r2_score corresponding to random state:  76 is:  0.5692748797058335\n",
      "r2_score corresponding to random state:  77 is:  0.5821906236590395\n",
      "r2_score corresponding to random state:  78 is:  0.564902217825175\n",
      "r2_score corresponding to random state:  79 is:  0.5542599683107627\n",
      "r2_score corresponding to random state:  80 is:  0.5622396301283115\n",
      "r2_score corresponding to random state:  81 is:  0.5606921649244024\n",
      "r2_score corresponding to random state:  82 is:  0.5716597766224221\n",
      "r2_score corresponding to random state:  83 is:  0.5474918389082477\n",
      "r2_score corresponding to random state:  84 is:  0.5572469543375198\n",
      "r2_score corresponding to random state:  85 is:  0.5639991185879245\n",
      "r2_score corresponding to random state:  86 is:  0.5352098166993216\n",
      "r2_score corresponding to random state:  87 is:  0.5745779050032361\n",
      "r2_score corresponding to random state:  88 is:  0.544842480319025\n",
      "r2_score corresponding to random state:  89 is:  0.5593953729357177\n",
      "r2_score corresponding to random state:  90 is:  0.5728446718975299\n",
      "r2_score corresponding to random state:  91 is:  0.5485326766261285\n",
      "r2_score corresponding to random state:  92 is:  0.550111703818138\n",
      "r2_score corresponding to random state:  93 is:  0.5378607933890307\n",
      "r2_score corresponding to random state:  94 is:  0.5660795891565382\n",
      "r2_score corresponding to random state:  95 is:  0.5686329106307157\n",
      "r2_score corresponding to random state:  96 is:  0.5446513680428612\n",
      "r2_score corresponding to random state:  97 is:  0.5489916734800722\n",
      "r2_score corresponding to random state:  98 is:  0.5534845267412523\n",
      "r2_score corresponding to random state:  99 is:  0.5658377344143124\n",
      "\n",
      "\n",
      "max r2_score correspondint to:  64 is  0.582227432596757\n"
     ]
    }
   ],
   "source": [
    "\n",
    "from sklearn.model_selection import train_test_split\n",
    "from sklearn.metrics import r2_score\n",
    "max_r_score=0\n",
    "for r_state in range(42,100):\n",
    "    x_train,x_test,y_train,y_test= train_test_split(x,y,test_size=.20,random_state=r_state)\n",
    "    lasso=Lasso(alpha=0.0001)\n",
    "    lasso.fit(x_train,y_train)\n",
    "    y_pred=lasso.predict(x_test)\n",
    "    r2_scr=r2_score(y_test,y_pred)\n",
    "    print(\"r2_score corresponding to random state: \",r_state,\"is: \",r2_scr)\n",
    "    if r2_scr>max_r_score:\n",
    "        max_r_score=r2_scr\n",
    "        final_r_state=r_state\n",
    "print()\n",
    "print()\n",
    "print(\"max r2_score correspondint to: \",final_r_state,\"is \",max_r_score)"
   ]
  },
  {
   "cell_type": "markdown",
   "id": "fb5f9210",
   "metadata": {},
   "source": [
    "# LINEAR REGRESSION"
   ]
  },
  {
   "cell_type": "code",
   "execution_count": 49,
   "id": "81f79667",
   "metadata": {},
   "outputs": [],
   "source": [
    "def maxr2_score(regr,x,y):\n",
    "    max_r_score=0\n",
    "    for r_state in range(42,100):\n",
    "        x_train,x_test,y_train,y_test= train_test_split(x,y,test_size=0.20,random_state=r_state)\n",
    "        regr.fit(x_train,y_train)\n",
    "        y_pred=regr.predict(x_test)\n",
    "        r2_scr=r2_score(y_test,y_pred)\n",
    "        print(\"r2_score corresponding to random state: \",r_state,\"is: \",r2_scr)\n",
    "        if r2_scr>max_r_score:\n",
    "            max_r_score=r2_scr\n",
    "            final_r_state=r_state\n",
    "    print()\n",
    "    print()\n",
    "    print(\"max r2_score correspondint to: \",final_r_state,\"is \",max_r_score)\n",
    "    return final_r_state"
   ]
  },
  {
   "cell_type": "code",
   "execution_count": 52,
   "id": "704fc218",
   "metadata": {},
   "outputs": [
    {
     "name": "stdout",
     "output_type": "stream",
     "text": [
      "r2_score corresponding to random state:  42 is:  0.5437268350027947\n",
      "r2_score corresponding to random state:  43 is:  0.557464937487516\n",
      "r2_score corresponding to random state:  44 is:  0.5379205145195023\n",
      "r2_score corresponding to random state:  45 is:  0.5529202200844595\n",
      "r2_score corresponding to random state:  46 is:  0.5763175244415195\n",
      "r2_score corresponding to random state:  47 is:  0.5716038853388898\n",
      "r2_score corresponding to random state:  48 is:  0.5643450411265872\n",
      "r2_score corresponding to random state:  49 is:  0.5624498742368644\n",
      "r2_score corresponding to random state:  50 is:  0.5784256744684388\n",
      "r2_score corresponding to random state:  51 is:  0.5789502284880186\n",
      "r2_score corresponding to random state:  52 is:  0.5551930308337412\n",
      "r2_score corresponding to random state:  53 is:  0.5471643038868472\n",
      "r2_score corresponding to random state:  54 is:  0.5734202416377221\n",
      "r2_score corresponding to random state:  55 is:  0.5571705434073796\n",
      "r2_score corresponding to random state:  56 is:  0.5507882786759402\n",
      "r2_score corresponding to random state:  57 is:  0.5662965768221\n",
      "r2_score corresponding to random state:  58 is:  0.5724176664856464\n",
      "r2_score corresponding to random state:  59 is:  0.5515306604728514\n",
      "r2_score corresponding to random state:  60 is:  0.5585519942220221\n",
      "r2_score corresponding to random state:  61 is:  0.5371725292029779\n",
      "r2_score corresponding to random state:  62 is:  0.5607892859017478\n",
      "r2_score corresponding to random state:  63 is:  0.5543877869982516\n",
      "r2_score corresponding to random state:  64 is:  0.5822115858094861\n",
      "r2_score corresponding to random state:  65 is:  0.5548295437416618\n",
      "r2_score corresponding to random state:  66 is:  0.5642494942698216\n",
      "r2_score corresponding to random state:  67 is:  0.5510687966582597\n",
      "r2_score corresponding to random state:  68 is:  0.5592791043094029\n",
      "r2_score corresponding to random state:  69 is:  0.5511331440580329\n",
      "r2_score corresponding to random state:  70 is:  0.5437877416224712\n",
      "r2_score corresponding to random state:  71 is:  0.563267012796458\n",
      "r2_score corresponding to random state:  72 is:  0.5611373903063386\n",
      "r2_score corresponding to random state:  73 is:  0.5808166478783858\n",
      "r2_score corresponding to random state:  74 is:  0.5372074737814685\n",
      "r2_score corresponding to random state:  75 is:  0.5717072580840711\n",
      "r2_score corresponding to random state:  76 is:  0.5692612675748505\n",
      "r2_score corresponding to random state:  77 is:  0.582209302684292\n",
      "r2_score corresponding to random state:  78 is:  0.5649351265033533\n",
      "r2_score corresponding to random state:  79 is:  0.5542621599568219\n",
      "r2_score corresponding to random state:  80 is:  0.5622322753609058\n",
      "r2_score corresponding to random state:  81 is:  0.5607066199814765\n",
      "r2_score corresponding to random state:  82 is:  0.5716893718755995\n",
      "r2_score corresponding to random state:  83 is:  0.5474778819723334\n",
      "r2_score corresponding to random state:  84 is:  0.5572617662722941\n",
      "r2_score corresponding to random state:  85 is:  0.5639871506985705\n",
      "r2_score corresponding to random state:  86 is:  0.5352059853910462\n",
      "r2_score corresponding to random state:  87 is:  0.5745975349035622\n",
      "r2_score corresponding to random state:  88 is:  0.5448357806983173\n",
      "r2_score corresponding to random state:  89 is:  0.5594058279200724\n",
      "r2_score corresponding to random state:  90 is:  0.572852065388842\n",
      "r2_score corresponding to random state:  91 is:  0.5485104272495209\n",
      "r2_score corresponding to random state:  92 is:  0.5501071794563516\n",
      "r2_score corresponding to random state:  93 is:  0.5378446112610743\n",
      "r2_score corresponding to random state:  94 is:  0.5660922272938335\n",
      "r2_score corresponding to random state:  95 is:  0.5686319699903312\n",
      "r2_score corresponding to random state:  96 is:  0.5446229921788661\n",
      "r2_score corresponding to random state:  97 is:  0.548973671032481\n",
      "r2_score corresponding to random state:  98 is:  0.5534460182148868\n",
      "r2_score corresponding to random state:  99 is:  0.5658397130104542\n",
      "\n",
      "\n",
      "max r2_score correspondint to:  64 is  0.5822115858094861\n"
     ]
    }
   ],
   "source": [
    "from sklearn.linear_model import LinearRegression\n",
    "lreg=LinearRegression()\n",
    "r_state=maxr2_score(lreg,x,y)"
   ]
  },
  {
   "cell_type": "markdown",
   "id": "e56c24b0",
   "metadata": {},
   "source": [
    "# KNEIGHBORS "
   ]
  },
  {
   "cell_type": "code",
   "execution_count": 53,
   "id": "ca4db538",
   "metadata": {},
   "outputs": [
    {
     "data": {
      "text/plain": [
       "{'n_neighbors': 7}"
      ]
     },
     "execution_count": 53,
     "metadata": {},
     "output_type": "execute_result"
    }
   ],
   "source": [
    "from sklearn.neighbors import KNeighborsRegressor\n",
    "neighbors={\"n_neighbors\":range(1,30)}\n",
    "knn= KNeighborsRegressor()\n",
    "gknn=GridSearchCV(knn,neighbors,cv=10)\n",
    "gknn.fit(x,y)\n",
    "gknn.best_params_"
   ]
  },
  {
   "cell_type": "code",
   "execution_count": 54,
   "id": "fc2ef00a",
   "metadata": {},
   "outputs": [
    {
     "name": "stdout",
     "output_type": "stream",
     "text": [
      "r2_score corresponding to random state:  42 is:  0.8111907006737193\n",
      "r2_score corresponding to random state:  43 is:  0.8250833044683551\n",
      "r2_score corresponding to random state:  44 is:  0.8077397358327638\n",
      "r2_score corresponding to random state:  45 is:  0.8223007396925887\n",
      "r2_score corresponding to random state:  46 is:  0.8094814413850099\n",
      "r2_score corresponding to random state:  47 is:  0.8120661668229134\n",
      "r2_score corresponding to random state:  48 is:  0.8146757765906592\n",
      "r2_score corresponding to random state:  49 is:  0.8198833247929473\n",
      "r2_score corresponding to random state:  50 is:  0.828595368789081\n",
      "r2_score corresponding to random state:  51 is:  0.8291110061923223\n",
      "r2_score corresponding to random state:  52 is:  0.8227369280244666\n",
      "r2_score corresponding to random state:  53 is:  0.793500285636929\n",
      "r2_score corresponding to random state:  54 is:  0.8289696572745482\n",
      "r2_score corresponding to random state:  55 is:  0.8117585147958296\n",
      "r2_score corresponding to random state:  56 is:  0.8175047757380065\n",
      "r2_score corresponding to random state:  57 is:  0.8177776117316549\n",
      "r2_score corresponding to random state:  58 is:  0.8215419129095196\n",
      "r2_score corresponding to random state:  59 is:  0.8110240002917427\n",
      "r2_score corresponding to random state:  60 is:  0.8245643696435132\n",
      "r2_score corresponding to random state:  61 is:  0.8218600698147216\n",
      "r2_score corresponding to random state:  62 is:  0.8245100275055957\n",
      "r2_score corresponding to random state:  63 is:  0.8240148185808124\n",
      "r2_score corresponding to random state:  64 is:  0.8269558879764785\n",
      "r2_score corresponding to random state:  65 is:  0.8274369240483976\n",
      "r2_score corresponding to random state:  66 is:  0.8120925581721141\n",
      "r2_score corresponding to random state:  67 is:  0.8223668498475432\n",
      "r2_score corresponding to random state:  68 is:  0.8116293980214119\n",
      "r2_score corresponding to random state:  69 is:  0.8335721750082872\n",
      "r2_score corresponding to random state:  70 is:  0.8275151404711045\n",
      "r2_score corresponding to random state:  71 is:  0.8326683044553429\n",
      "r2_score corresponding to random state:  72 is:  0.8226761254141401\n",
      "r2_score corresponding to random state:  73 is:  0.8241414272358065\n",
      "r2_score corresponding to random state:  74 is:  0.7953664047208139\n",
      "r2_score corresponding to random state:  75 is:  0.8300909562943036\n",
      "r2_score corresponding to random state:  76 is:  0.8271807425987395\n",
      "r2_score corresponding to random state:  77 is:  0.8427765102749751\n",
      "r2_score corresponding to random state:  78 is:  0.8223631537917179\n",
      "r2_score corresponding to random state:  79 is:  0.8230241727765872\n",
      "r2_score corresponding to random state:  80 is:  0.8216219927275388\n",
      "r2_score corresponding to random state:  81 is:  0.8168061733056595\n",
      "r2_score corresponding to random state:  82 is:  0.8071956662147567\n",
      "r2_score corresponding to random state:  83 is:  0.8179810784958461\n",
      "r2_score corresponding to random state:  84 is:  0.8177024667091649\n",
      "r2_score corresponding to random state:  85 is:  0.8362958808091296\n",
      "r2_score corresponding to random state:  86 is:  0.8033225187677774\n",
      "r2_score corresponding to random state:  87 is:  0.8431028994543829\n",
      "r2_score corresponding to random state:  88 is:  0.810182377860018\n",
      "r2_score corresponding to random state:  89 is:  0.8240311300878266\n",
      "r2_score corresponding to random state:  90 is:  0.8195507061751961\n",
      "r2_score corresponding to random state:  91 is:  0.8157642801416662\n",
      "r2_score corresponding to random state:  92 is:  0.832048904479973\n",
      "r2_score corresponding to random state:  93 is:  0.8095744280111857\n",
      "r2_score corresponding to random state:  94 is:  0.8179543665030264\n",
      "r2_score corresponding to random state:  95 is:  0.8270216191008457\n",
      "r2_score corresponding to random state:  96 is:  0.8227010894322122\n",
      "r2_score corresponding to random state:  97 is:  0.8161654963832031\n",
      "r2_score corresponding to random state:  98 is:  0.821540815648986\n",
      "r2_score corresponding to random state:  99 is:  0.8250223356959859\n",
      "\n",
      "\n",
      "max r2_score correspondint to:  87 is  0.8431028994543829\n"
     ]
    }
   ],
   "source": [
    "knn= KNeighborsRegressor(n_neighbors=7)\n",
    "r_state=maxr2_score(knn,x,y)"
   ]
  },
  {
   "cell_type": "markdown",
   "id": "1f5d7faa",
   "metadata": {},
   "source": [
    "# RANDOM FOREST"
   ]
  },
  {
   "cell_type": "code",
   "execution_count": 55,
   "id": "ceefedaa",
   "metadata": {},
   "outputs": [
    {
     "data": {
      "text/plain": [
       "{'bootstrap': True,\n",
       " 'max_features': 'log2',\n",
       " 'min_samples_split': 8,\n",
       " 'n_estimators': 50}"
      ]
     },
     "execution_count": 55,
     "metadata": {},
     "output_type": "execute_result"
    }
   ],
   "source": [
    "from math import log\n",
    "from sklearn.model_selection import GridSearchCV\n",
    "from sklearn.ensemble import RandomForestRegressor\n",
    "estimator = RandomForestRegressor()\n",
    "param_grid = { \n",
    "            \"n_estimators\"      : [10,50,100,200],\n",
    "            \"max_features\"      : [\"auto\", \"sqrt\", \"log2\"],\n",
    "            \"min_samples_split\" : [2,4,8],\n",
    "            \"bootstrap\": [True, False],\n",
    "            }\n",
    "\n",
    "grid = GridSearchCV(estimator, param_grid, n_jobs=-1, cv=5)\n",
    "\n",
    "grid.fit(x_train, y_train)\n",
    "\n",
    "grid.best_params_"
   ]
  },
  {
   "cell_type": "code",
   "execution_count": 56,
   "id": "5e95da72",
   "metadata": {},
   "outputs": [
    {
     "data": {
      "text/plain": [
       "0.8833533408898434"
      ]
     },
     "execution_count": 56,
     "metadata": {},
     "output_type": "execute_result"
    }
   ],
   "source": [
    "rfr=RandomForestRegressor(bootstrap=True,max_features='log2',min_samples_split=8,n_estimators=50)\n",
    "rfr.fit(x_train, y_train)\n",
    "rfr.score(x_train,y_train)"
   ]
  },
  {
   "cell_type": "code",
   "execution_count": 57,
   "id": "f3b1ea1f",
   "metadata": {},
   "outputs": [
    {
     "data": {
      "text/plain": [
       "array([7.5837563 , 8.84035855, 9.49174528, ..., 8.87587141, 8.40430077,\n",
       "       8.26696294])"
      ]
     },
     "execution_count": 57,
     "metadata": {},
     "output_type": "execute_result"
    }
   ],
   "source": [
    "pred=rfr.predict(x_test)\n",
    "pred"
   ]
  },
  {
   "cell_type": "code",
   "execution_count": 59,
   "id": "7ee1fa4d",
   "metadata": {},
   "outputs": [
    {
     "name": "stdout",
     "output_type": "stream",
     "text": [
      "Test Results for Random Forest Regressor Model:\n",
      "--------------------------------------------------\n",
      "Root mean squared error:  0.20797131335109767\n",
      "R-squared:  0.8350126376766716\n"
     ]
    }
   ],
   "source": [
    "from math import sqrt\n",
    "from sklearn.metrics import mean_squared_error\n",
    "print(\"Test Results for Random Forest Regressor Model:\")\n",
    "print(50 * '-')\n",
    "print(\"Root mean squared error: \", sqrt(mean_squared_error(y_test,pred)))\n",
    "print(\"R-squared: \", r2_score(y_test,pred))"
   ]
  },
  {
   "cell_type": "markdown",
   "id": "573d9a9f",
   "metadata": {},
   "source": [
    "# DECISION TREE"
   ]
  },
  {
   "cell_type": "code",
   "execution_count": 60,
   "id": "21f2152e",
   "metadata": {},
   "outputs": [
    {
     "data": {
      "text/plain": [
       "GridSearchCV(cv=10, estimator=DecisionTreeRegressor(),\n",
       "             param_grid={'max_depth': [3, 4, 5, 6, 7, 8, 9, 10, 11, 12, 13, 14,\n",
       "                                       15, 16, 17, 18, 19, 20, 21, 22, 23, 24,\n",
       "                                       25, 26, 27, 28, 29]})"
      ]
     },
     "execution_count": 60,
     "metadata": {},
     "output_type": "execute_result"
    }
   ],
   "source": [
    "from sklearn.tree import DecisionTreeRegressor\n",
    "depth =list(range(3,30))\n",
    "param_grid =dict(max_depth =depth)\n",
    "tree =GridSearchCV(DecisionTreeRegressor(),param_grid,cv =10)\n",
    "tree.fit(x_train,y_train)"
   ]
  },
  {
   "cell_type": "code",
   "execution_count": 61,
   "id": "af4ed8de",
   "metadata": {},
   "outputs": [
    {
     "name": "stdout",
     "output_type": "stream",
     "text": [
      "DecisionTreeRegressor(max_depth=10)\n"
     ]
    },
    {
     "data": {
      "text/plain": [
       "{'max_depth': 10}"
      ]
     },
     "execution_count": 61,
     "metadata": {},
     "output_type": "execute_result"
    }
   ],
   "source": [
    "print(tree.best_estimator_)\n",
    "tree.best_params_"
   ]
  },
  {
   "cell_type": "code",
   "execution_count": 62,
   "id": "4d58d29a",
   "metadata": {},
   "outputs": [],
   "source": [
    "y_train_pred =tree.predict(x_train)\n",
    "y_test_pred =tree.predict(x_test)"
   ]
  },
  {
   "cell_type": "code",
   "execution_count": 63,
   "id": "6bfd3937",
   "metadata": {},
   "outputs": [
    {
     "name": "stdout",
     "output_type": "stream",
     "text": [
      "Train Results for Decision Tree Regressor Model:\n",
      "--------------------------------------------------\n",
      "Root mean squared error:  0.2014399078857596\n",
      "R-squared:  0.8463285400460505\n"
     ]
    }
   ],
   "source": [
    "from math import sqrt\n",
    "print(\"Train Results for Decision Tree Regressor Model:\")\n",
    "print(50 * '-')\n",
    "print(\"Root mean squared error: \", sqrt(mean_squared_error(y_train.values, y_train_pred)))\n",
    "print(\"R-squared: \", r2_score(y_train.values, y_train_pred))"
   ]
  },
  {
   "cell_type": "code",
   "execution_count": 64,
   "id": "65cff1cd",
   "metadata": {},
   "outputs": [
    {
     "name": "stdout",
     "output_type": "stream",
     "text": [
      "Test Results for Decision Tree Regressor Model:\n",
      "--------------------------------------------------\n",
      "Root mean squared error:  0.2163360685210381\n",
      "R-squared:  0.8214739168790683\n"
     ]
    }
   ],
   "source": [
    "print(\"Test Results for Decision Tree Regressor Model:\")\n",
    "print(50 * '-')\n",
    "print(\"Root mean squared error: \", sqrt(mean_squared_error(y_test, y_test_pred)))\n",
    "print(\"R-squared: \", r2_score(y_test, y_test_pred))"
   ]
  },
  {
   "cell_type": "markdown",
   "id": "2acdfed7",
   "metadata": {},
   "source": [
    "# CROSS-VALIDATION"
   ]
  },
  {
   "cell_type": "code",
   "execution_count": 67,
   "id": "8acf693f",
   "metadata": {},
   "outputs": [
    {
     "name": "stdout",
     "output_type": "stream",
     "text": [
      "Mean r2 score for Linear Regression:  0.5608854019254564\n",
      "Standard Deviation r2 score for Linear Regression:  0.016486182802840966\n",
      "\n",
      "\n",
      "Mean r2 score for knn:  0.8231870446627093\n",
      "Standard Deviation r2 score for knn:  0.011148341003262004\n",
      "\n",
      "\n",
      "Mean r2 score for R_forest Regressor  0.8345239447572667\n",
      "Standard Deviation r2 score for R_forst Regressor  0.009374260499240672\n",
      "\n",
      "\n",
      "Mean r2 score for lasso  0.56088566695688\n",
      "Standard Deviation r2 score for lasso  0.016491220987638767\n",
      "\n",
      "\n"
     ]
    }
   ],
   "source": [
    "\n",
    "from sklearn.model_selection import cross_val_score\n",
    "print(\"Mean r2 score for Linear Regression: \",cross_val_score(lreg,x,y,cv=5,scoring=\"r2\").mean())\n",
    "print(\"Standard Deviation r2 score for Linear Regression: \",cross_val_score(lreg,x,y,cv=5,scoring=\"r2\").std())\n",
    "print()\n",
    "print()\n",
    "print(\"Mean r2 score for knn: \",cross_val_score(knn,x,y,cv=5,scoring=\"r2\").mean())\n",
    "print(\"Standard Deviation r2 score for knn: \",cross_val_score(knn,x,y,cv=5,scoring=\"r2\").std())\n",
    "print()\n",
    "print()\n",
    "print(\"Mean r2 score for R_forest Regressor \",cross_val_score(rfr,x,y,cv=5,scoring=\"r2\").mean())\n",
    "print(\"Standard Deviation r2 score for R_forst Regressor \",cross_val_score(rfr,x,y,cv=5,scoring=\"r2\").std())\n",
    "print()\n",
    "print()\n",
    "print(\"Mean r2 score for lasso \",cross_val_score(lasso,x,y,cv=5,scoring=\"r2\").mean())\n",
    "print(\"Standard Deviation r2 score for lasso \",cross_val_score(lasso,x,y,cv=5,scoring=\"r2\").std())\n",
    "print()\n",
    "print()"
   ]
  },
  {
   "cell_type": "markdown",
   "id": "4e2a5366",
   "metadata": {},
   "source": [
    "RANDOM FOREST IS OUR BEST MODEL IT IS GIVING US 88% ACCURACY"
   ]
  },
  {
   "cell_type": "markdown",
   "id": "1f4ac550",
   "metadata": {},
   "source": [
    "# SAVING THE MODEL"
   ]
  },
  {
   "cell_type": "code",
   "execution_count": 70,
   "id": "76704cf7",
   "metadata": {},
   "outputs": [],
   "source": [
    "import joblib"
   ]
  },
  {
   "cell_type": "code",
   "execution_count": 71,
   "id": "bb390396",
   "metadata": {},
   "outputs": [
    {
     "data": {
      "text/plain": [
       "['FLIGHT-PRICE.obj']"
      ]
     },
     "execution_count": 71,
     "metadata": {},
     "output_type": "execute_result"
    }
   ],
   "source": [
    "joblib.dump(rfr,'FLIGHT-PRICE.obj')"
   ]
  },
  {
   "cell_type": "code",
   "execution_count": 72,
   "id": "26146ae1",
   "metadata": {},
   "outputs": [],
   "source": [
    "model=joblib.load('FLIGHT-PRICE.obj')"
   ]
  },
  {
   "cell_type": "code",
   "execution_count": 73,
   "id": "2fa10ad9",
   "metadata": {},
   "outputs": [
    {
     "data": {
      "text/plain": [
       "array([7.5837563 , 8.84035855, 9.49174528, ..., 8.87587141, 8.40430077,\n",
       "       8.26696294])"
      ]
     },
     "execution_count": 73,
     "metadata": {},
     "output_type": "execute_result"
    }
   ],
   "source": [
    "rfr.predict(x_test)"
   ]
  },
  {
   "cell_type": "code",
   "execution_count": null,
   "id": "a928cb42",
   "metadata": {},
   "outputs": [],
   "source": [
    "#END"
   ]
  }
 ],
 "metadata": {
  "kernelspec": {
   "display_name": "Python 3",
   "language": "python",
   "name": "python3"
  },
  "language_info": {
   "codemirror_mode": {
    "name": "ipython",
    "version": 3
   },
   "file_extension": ".py",
   "mimetype": "text/x-python",
   "name": "python",
   "nbconvert_exporter": "python",
   "pygments_lexer": "ipython3",
   "version": "3.8.8"
  }
 },
 "nbformat": 4,
 "nbformat_minor": 5
}
