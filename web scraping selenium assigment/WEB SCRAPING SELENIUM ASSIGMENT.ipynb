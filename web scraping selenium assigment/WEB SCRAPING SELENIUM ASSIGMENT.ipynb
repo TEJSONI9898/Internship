{
 "cells": [
  {
   "cell_type": "markdown",
   "id": "917993db",
   "metadata": {},
   "source": [
    "# Q1"
   ]
  },
  {
   "cell_type": "code",
   "execution_count": 240,
   "id": "f2e3d4bc",
   "metadata": {
    "scrolled": true
   },
   "outputs": [
    {
     "name": "stdout",
     "output_type": "stream",
     "text": [
      "Requirement already satisfied: selenium in c:\\users\\deep\\anaconda3\\lib\\site-packages (4.0.0)\n",
      "Requirement already satisfied: trio~=0.17 in c:\\users\\deep\\anaconda3\\lib\\site-packages (from selenium) (0.19.0)\n",
      "Requirement already satisfied: trio-websocket~=0.9 in c:\\users\\deep\\anaconda3\\lib\\site-packages (from selenium) (0.9.2)\n",
      "Requirement already satisfied: urllib3[secure]~=1.26 in c:\\users\\deep\\anaconda3\\lib\\site-packages (from selenium) (1.26.4)\n",
      "Requirement already satisfied: outcome in c:\\users\\deep\\anaconda3\\lib\\site-packages (from trio~=0.17->selenium) (1.1.0)\n",
      "Requirement already satisfied: attrs>=19.2.0 in c:\\users\\deep\\anaconda3\\lib\\site-packages (from trio~=0.17->selenium) (20.3.0)\n",
      "Requirement already satisfied: async-generator>=1.9 in c:\\users\\deep\\anaconda3\\lib\\site-packages (from trio~=0.17->selenium) (1.10)\n",
      "Requirement already satisfied: cffi>=1.14 in c:\\users\\deep\\anaconda3\\lib\\site-packages (from trio~=0.17->selenium) (1.14.5)\n",
      "Requirement already satisfied: idna in c:\\users\\deep\\anaconda3\\lib\\site-packages (from trio~=0.17->selenium) (2.10)\n",
      "Requirement already satisfied: sortedcontainers in c:\\users\\deep\\anaconda3\\lib\\site-packages (from trio~=0.17->selenium) (2.3.0)\n",
      "Requirement already satisfied: sniffio in c:\\users\\deep\\anaconda3\\lib\\site-packages (from trio~=0.17->selenium) (1.2.0)\n",
      "Requirement already satisfied: pycparser in c:\\users\\deep\\anaconda3\\lib\\site-packages (from cffi>=1.14->trio~=0.17->selenium) (2.20)\n",
      "Requirement already satisfied: wsproto>=0.14 in c:\\users\\deep\\anaconda3\\lib\\site-packages (from trio-websocket~=0.9->selenium) (1.0.0)\n",
      "Requirement already satisfied: cryptography>=1.3.4 in c:\\users\\deep\\anaconda3\\lib\\site-packages (from urllib3[secure]~=1.26->selenium) (3.4.7)\n",
      "Requirement already satisfied: certifi in c:\\users\\deep\\anaconda3\\lib\\site-packages (from urllib3[secure]~=1.26->selenium) (2020.12.5)\n",
      "Requirement already satisfied: pyOpenSSL>=0.14 in c:\\users\\deep\\anaconda3\\lib\\site-packages (from urllib3[secure]~=1.26->selenium) (20.0.1)\n",
      "Requirement already satisfied: six>=1.5.2 in c:\\users\\deep\\anaconda3\\lib\\site-packages (from pyOpenSSL>=0.14->urllib3[secure]~=1.26->selenium) (1.15.0)\n",
      "Requirement already satisfied: h11<1,>=0.9.0 in c:\\users\\deep\\anaconda3\\lib\\site-packages (from wsproto>=0.14->trio-websocket~=0.9->selenium) (0.12.0)\n"
     ]
    }
   ],
   "source": [
    "!pip install selenium"
   ]
  },
  {
   "cell_type": "code",
   "execution_count": 276,
   "id": "5ac49437",
   "metadata": {},
   "outputs": [],
   "source": [
    "import selenium\n",
    "import pandas as pd\n",
    "from selenium import webdriver\n",
    "import warnings \n",
    "warnings.filterwarnings('ignore')"
   ]
  },
  {
   "cell_type": "code",
   "execution_count": 277,
   "id": "8e133f62",
   "metadata": {},
   "outputs": [],
   "source": [
    "driver = webdriver.Chrome(r'C:/Users/Deep/Downloads/chromedriver_win32/chromedriver.exe')"
   ]
  },
  {
   "cell_type": "code",
   "execution_count": 278,
   "id": "4345e035",
   "metadata": {},
   "outputs": [],
   "source": [
    "driver.get('https://www.naukri.com/')"
   ]
  },
  {
   "cell_type": "code",
   "execution_count": 279,
   "id": "fa5f0354",
   "metadata": {},
   "outputs": [],
   "source": [
    "#finding the element\n",
    "search_job=driver.find_element_by_id('qsb-keyword-sugg')\n",
    "search_job.send_keys('Data Analyst')\n",
    "search_loc= driver.find_element_by_xpath('//input[@id=\"qsb-location-sugg\"]')\n",
    "search_loc.send_keys('Banglore')"
   ]
  },
  {
   "cell_type": "code",
   "execution_count": 280,
   "id": "4fb4a115",
   "metadata": {},
   "outputs": [],
   "source": [
    "search_btn=driver.find_element_by_xpath(\"//div[@class='search-btn']/button\")\n",
    "search_btn.click()"
   ]
  },
  {
   "cell_type": "markdown",
   "id": "6020f630",
   "metadata": {},
   "source": [
    "2nd method"
   ]
  },
  {
   "cell_type": "code",
   "execution_count": 281,
   "id": "8d0efd16",
   "metadata": {},
   "outputs": [],
   "source": [
    "#specifying the url of the webpage to be scarped\n",
    "url='https://www.naukri.com/data-analyst-jobs-in-banglore?k=data%20analyst&l=banglore'\n",
    "driver.get(url)"
   ]
  },
  {
   "cell_type": "code",
   "execution_count": 282,
   "id": "51a608e9",
   "metadata": {},
   "outputs": [],
   "source": [
    "job_titles=[]\n",
    "location_list=[]\n",
    "company_names=[]\n",
    "experience_list=[]"
   ]
  },
  {
   "cell_type": "code",
   "execution_count": 283,
   "id": "eab09a0e",
   "metadata": {},
   "outputs": [
    {
     "data": {
      "text/plain": [
       "[<selenium.webdriver.remote.webelement.WebElement (session=\"8823768d6916831bd3ca301c934bf360\", element=\"3e5e66c2-709b-40f2-8345-edbee6482b6a\")>,\n",
       " <selenium.webdriver.remote.webelement.WebElement (session=\"8823768d6916831bd3ca301c934bf360\", element=\"a6ca2a53-518c-449b-a1b0-60792b298f3d\")>,\n",
       " <selenium.webdriver.remote.webelement.WebElement (session=\"8823768d6916831bd3ca301c934bf360\", element=\"98d44d0e-659b-4e0d-a3ba-cbe561b67bd5\")>,\n",
       " <selenium.webdriver.remote.webelement.WebElement (session=\"8823768d6916831bd3ca301c934bf360\", element=\"06db7df8-3ae9-4323-8a3c-eacb875d60a9\")>,\n",
       " <selenium.webdriver.remote.webelement.WebElement (session=\"8823768d6916831bd3ca301c934bf360\", element=\"e0da3e80-fefb-4e6a-998d-fc7e8239d66e\")>,\n",
       " <selenium.webdriver.remote.webelement.WebElement (session=\"8823768d6916831bd3ca301c934bf360\", element=\"2d6a5c50-e0e4-44e6-af7b-51fc3144018f\")>,\n",
       " <selenium.webdriver.remote.webelement.WebElement (session=\"8823768d6916831bd3ca301c934bf360\", element=\"0ff5d765-ec36-4c13-8701-1bb8410ff969\")>,\n",
       " <selenium.webdriver.remote.webelement.WebElement (session=\"8823768d6916831bd3ca301c934bf360\", element=\"1e51a088-cf91-402e-8f67-2146fe476b0c\")>,\n",
       " <selenium.webdriver.remote.webelement.WebElement (session=\"8823768d6916831bd3ca301c934bf360\", element=\"e51dfa42-c3e8-439d-b02f-a67a3a2ae78e\")>,\n",
       " <selenium.webdriver.remote.webelement.WebElement (session=\"8823768d6916831bd3ca301c934bf360\", element=\"1a6c74e7-57cf-4e6f-b3e3-e19677a402c2\")>,\n",
       " <selenium.webdriver.remote.webelement.WebElement (session=\"8823768d6916831bd3ca301c934bf360\", element=\"9e25f350-2f8e-47c2-ab3f-9fa9c3f4983a\")>]"
      ]
     },
     "execution_count": 283,
     "metadata": {},
     "output_type": "execute_result"
    }
   ],
   "source": [
    "#so lets extract all the tags having the job-titles\n",
    "titles_tags=driver.find_elements_by_xpath(\"//a[@class='title fw500 ellipsis']\")\n",
    "titles_tags[0:11]"
   ]
  },
  {
   "cell_type": "code",
   "execution_count": 284,
   "id": "28c77771",
   "metadata": {},
   "outputs": [
    {
     "data": {
      "text/plain": [
       "['Data Analyst - Flipkart Analytics',\n",
       " 'Urgent Openings For Data Analyst / Business Analyst',\n",
       " 'Business Data Analyst(BigId) - Capco - Bangalore',\n",
       " 'Business Data Analyst - Database Design/Mining',\n",
       " 'Opportunity For Business Data Analyst',\n",
       " 'Data Analyst',\n",
       " 'Data Analyst',\n",
       " 'Data Analyst',\n",
       " 'Senior Data Analyst',\n",
       " 'Sr Data Analyst',\n",
       " 'Lead / Senior Data Analyst']"
      ]
     },
     "execution_count": 284,
     "metadata": {},
     "output_type": "execute_result"
    }
   ],
   "source": [
    "#now the text of the job title is inside the tags extracted above\n",
    "#so we will run a loop to iterate over the tags extracted above & extract the tags\n",
    "\n",
    "for i in titles_tags:\n",
    "    title=i.text\n",
    "    job_titles.append(title)\n",
    "job_titles[0:11]"
   ]
  },
  {
   "cell_type": "code",
   "execution_count": 285,
   "id": "78239992",
   "metadata": {},
   "outputs": [
    {
     "data": {
      "text/plain": [
       "[<selenium.webdriver.remote.webelement.WebElement (session=\"8823768d6916831bd3ca301c934bf360\", element=\"af049cce-6121-4e62-96b1-3167039ea903\")>,\n",
       " <selenium.webdriver.remote.webelement.WebElement (session=\"8823768d6916831bd3ca301c934bf360\", element=\"8e61b225-ccc5-4bee-96ce-4a97aca9d97f\")>,\n",
       " <selenium.webdriver.remote.webelement.WebElement (session=\"8823768d6916831bd3ca301c934bf360\", element=\"5ab2ebb8-7bc5-4236-8461-48795ffbc396\")>,\n",
       " <selenium.webdriver.remote.webelement.WebElement (session=\"8823768d6916831bd3ca301c934bf360\", element=\"91157cba-e0ca-4681-ad79-30e1f19e81d3\")>,\n",
       " <selenium.webdriver.remote.webelement.WebElement (session=\"8823768d6916831bd3ca301c934bf360\", element=\"30738ef4-3d6c-4090-9e97-afd0b7dac87f\")>,\n",
       " <selenium.webdriver.remote.webelement.WebElement (session=\"8823768d6916831bd3ca301c934bf360\", element=\"7e420110-e6c1-48fc-a0da-911491d1271d\")>,\n",
       " <selenium.webdriver.remote.webelement.WebElement (session=\"8823768d6916831bd3ca301c934bf360\", element=\"c8859856-fb29-47c2-8117-b5633c6f89c5\")>,\n",
       " <selenium.webdriver.remote.webelement.WebElement (session=\"8823768d6916831bd3ca301c934bf360\", element=\"6ec081f4-ce6d-4fc2-b5f5-5f41c98ff60b\")>,\n",
       " <selenium.webdriver.remote.webelement.WebElement (session=\"8823768d6916831bd3ca301c934bf360\", element=\"2d7c3dff-2ca4-446e-9f51-75e87fa7fa25\")>,\n",
       " <selenium.webdriver.remote.webelement.WebElement (session=\"8823768d6916831bd3ca301c934bf360\", element=\"0514d726-2703-4efd-a903-68162240bae8\")>,\n",
       " <selenium.webdriver.remote.webelement.WebElement (session=\"8823768d6916831bd3ca301c934bf360\", element=\"9fab5257-79dd-499e-87fc-f7ef46a06acf\")>]"
      ]
     },
     "execution_count": 285,
     "metadata": {},
     "output_type": "execute_result"
    }
   ],
   "source": [
    "company_tags=driver.find_elements_by_xpath(\"//a[@class='subTitle ellipsis fleft']\")\n",
    "company_tags[0:11]"
   ]
  },
  {
   "cell_type": "code",
   "execution_count": 286,
   "id": "a02a359f",
   "metadata": {},
   "outputs": [
    {
     "data": {
      "text/plain": [
       "['Flipkart',\n",
       " 'Flipkart',\n",
       " 'Capco Technologies Pvt Ltd',\n",
       " 'AugmatrixGo',\n",
       " 'Botree Software International Private Limited',\n",
       " 'Applied Materials',\n",
       " 'Shell',\n",
       " 'Shell',\n",
       " 'Pioneer Business Solutions',\n",
       " 'Pioneer Business Solutions',\n",
       " 'EVERGREEN COMMUNITY PRIVATE LIMITED']"
      ]
     },
     "execution_count": 286,
     "metadata": {},
     "output_type": "execute_result"
    }
   ],
   "source": [
    "for i in company_tags:\n",
    "    company_name=i.text\n",
    "    company_names.append(company_name)\n",
    "company_names[0:11]"
   ]
  },
  {
   "cell_type": "code",
   "execution_count": 287,
   "id": "a38488cf",
   "metadata": {},
   "outputs": [
    {
     "data": {
      "text/plain": [
       "[<selenium.webdriver.remote.webelement.WebElement (session=\"8823768d6916831bd3ca301c934bf360\", element=\"6121af08-bed2-4ca6-a0b4-b54b86249f69\")>,\n",
       " <selenium.webdriver.remote.webelement.WebElement (session=\"8823768d6916831bd3ca301c934bf360\", element=\"1103be87-29a6-4afb-acb0-e2f743b5cc97\")>,\n",
       " <selenium.webdriver.remote.webelement.WebElement (session=\"8823768d6916831bd3ca301c934bf360\", element=\"2835f033-71b6-4649-9c81-3400d511c7fe\")>,\n",
       " <selenium.webdriver.remote.webelement.WebElement (session=\"8823768d6916831bd3ca301c934bf360\", element=\"799f4ff2-3476-49aa-88ed-2b573618a768\")>,\n",
       " <selenium.webdriver.remote.webelement.WebElement (session=\"8823768d6916831bd3ca301c934bf360\", element=\"56b1b253-f705-42d6-b879-9616e85f1898\")>,\n",
       " <selenium.webdriver.remote.webelement.WebElement (session=\"8823768d6916831bd3ca301c934bf360\", element=\"8a3682eb-466a-48e4-a089-e72b4c3edc17\")>,\n",
       " <selenium.webdriver.remote.webelement.WebElement (session=\"8823768d6916831bd3ca301c934bf360\", element=\"74a8d070-d5cc-4a98-a269-21ad5ac4501a\")>,\n",
       " <selenium.webdriver.remote.webelement.WebElement (session=\"8823768d6916831bd3ca301c934bf360\", element=\"1a0d8f3a-a40d-4819-ab6d-fa819e143a72\")>,\n",
       " <selenium.webdriver.remote.webelement.WebElement (session=\"8823768d6916831bd3ca301c934bf360\", element=\"ec2eef83-a398-443c-98ad-7fe0ec03befe\")>,\n",
       " <selenium.webdriver.remote.webelement.WebElement (session=\"8823768d6916831bd3ca301c934bf360\", element=\"5d73977e-e043-4659-b5b7-ed3fae2b1fd1\")>,\n",
       " <selenium.webdriver.remote.webelement.WebElement (session=\"8823768d6916831bd3ca301c934bf360\", element=\"aad6b93a-7f60-4835-b0e4-b8cf9aa50e21\")>]"
      ]
     },
     "execution_count": 287,
     "metadata": {},
     "output_type": "execute_result"
    }
   ],
   "source": [
    "experience_tags=driver.find_elements_by_xpath(\"//li[@class='fleft grey-text br2 placeHolderLi experience']/span[1]\")\n",
    "experience_tags[0:11]"
   ]
  },
  {
   "cell_type": "code",
   "execution_count": 288,
   "id": "667cad76",
   "metadata": {},
   "outputs": [
    {
     "data": {
      "text/plain": [
       "['0-3 Yrs',\n",
       " '1-6 Yrs',\n",
       " '3-8 Yrs',\n",
       " '2-5 Yrs',\n",
       " '3-6 Yrs',\n",
       " '0-3 Yrs',\n",
       " '5-8 Yrs',\n",
       " '5-10 Yrs',\n",
       " '6-11 Yrs',\n",
       " '3-8 Yrs',\n",
       " '4-6 Yrs']"
      ]
     },
     "execution_count": 288,
     "metadata": {},
     "output_type": "execute_result"
    }
   ],
   "source": [
    "for i in experience_tags:\n",
    "    experience=i.text\n",
    "    experience_list.append(experience)\n",
    "experience_list[0:11]"
   ]
  },
  {
   "cell_type": "code",
   "execution_count": 289,
   "id": "d2b62a65",
   "metadata": {},
   "outputs": [
    {
     "data": {
      "text/plain": [
       "[<selenium.webdriver.remote.webelement.WebElement (session=\"8823768d6916831bd3ca301c934bf360\", element=\"460b8583-40f0-42c9-b069-273d58d16755\")>,\n",
       " <selenium.webdriver.remote.webelement.WebElement (session=\"8823768d6916831bd3ca301c934bf360\", element=\"ad49488d-3c7e-4d52-bc75-4be1dcc48e85\")>,\n",
       " <selenium.webdriver.remote.webelement.WebElement (session=\"8823768d6916831bd3ca301c934bf360\", element=\"46885bfa-8b13-4a2a-9ec2-ab906c92117d\")>,\n",
       " <selenium.webdriver.remote.webelement.WebElement (session=\"8823768d6916831bd3ca301c934bf360\", element=\"4580519e-d665-44b4-87fe-bd01e23a73c1\")>,\n",
       " <selenium.webdriver.remote.webelement.WebElement (session=\"8823768d6916831bd3ca301c934bf360\", element=\"e28a1173-4659-41fa-9761-b096f288629d\")>,\n",
       " <selenium.webdriver.remote.webelement.WebElement (session=\"8823768d6916831bd3ca301c934bf360\", element=\"989bd28d-d2a1-4279-9fbd-49f07d099646\")>,\n",
       " <selenium.webdriver.remote.webelement.WebElement (session=\"8823768d6916831bd3ca301c934bf360\", element=\"3642dbbf-09e8-45ba-b813-1064ad8ab3f1\")>,\n",
       " <selenium.webdriver.remote.webelement.WebElement (session=\"8823768d6916831bd3ca301c934bf360\", element=\"315824c2-0f2c-45b2-a8e6-75a53336a778\")>,\n",
       " <selenium.webdriver.remote.webelement.WebElement (session=\"8823768d6916831bd3ca301c934bf360\", element=\"bf6796a9-e1f6-4899-a1a3-e8965133689d\")>,\n",
       " <selenium.webdriver.remote.webelement.WebElement (session=\"8823768d6916831bd3ca301c934bf360\", element=\"46ee3ac9-5a31-468a-adb7-f706b3457240\")>,\n",
       " <selenium.webdriver.remote.webelement.WebElement (session=\"8823768d6916831bd3ca301c934bf360\", element=\"c3a49907-e0fd-4751-869d-77868df29320\")>]"
      ]
     },
     "execution_count": 289,
     "metadata": {},
     "output_type": "execute_result"
    }
   ],
   "source": [
    "location_tags=driver.find_elements_by_xpath(\"//li[@class='fleft grey-text br2 placeHolderLi location']/span[1]\")\n",
    "location_tags[0:11]"
   ]
  },
  {
   "cell_type": "code",
   "execution_count": 290,
   "id": "21974c51",
   "metadata": {},
   "outputs": [
    {
     "data": {
      "text/plain": [
       "['Bangalore/Bengaluru(Bellandur)',\n",
       " 'Bangalore/Bengaluru',\n",
       " 'Bangalore/Bengaluru',\n",
       " 'Bangalore/Bengaluru',\n",
       " 'Bangalore/Bengaluru, Mumbai (All Areas)',\n",
       " 'Bangalore/Bengaluru',\n",
       " 'Bangalore/Bengaluru',\n",
       " 'Bangalore/Bengaluru',\n",
       " 'Bangalore/Bengaluru',\n",
       " 'Bangalore/Bengaluru',\n",
       " 'Bangalore/Bengaluru']"
      ]
     },
     "execution_count": 290,
     "metadata": {},
     "output_type": "execute_result"
    }
   ],
   "source": [
    "for i in location_tags:\n",
    "    location=i.text\n",
    "    location_list.append(location)\n",
    "location_list[0:11]"
   ]
  },
  {
   "cell_type": "code",
   "execution_count": 291,
   "id": "7f804f80",
   "metadata": {},
   "outputs": [
    {
     "name": "stdout",
     "output_type": "stream",
     "text": [
      "20 20 20 20\n"
     ]
    }
   ],
   "source": [
    "print(len(job_titles),len(company_names),len(experience_list),len(location_list))"
   ]
  },
  {
   "cell_type": "code",
   "execution_count": 292,
   "id": "b5f652cc",
   "metadata": {},
   "outputs": [],
   "source": [
    "#import pandas as pd\n",
    "\n",
    "jobs=pd.DataFrame({})\n",
    "jobs['Title']=job_titles[0:11]\n",
    "jobs['Company']=company_names[0:11]\n",
    "jobs['Experience_required']=experience_list[0:11]\n",
    "jobs['Location']=location_list[0:11]"
   ]
  },
  {
   "cell_type": "code",
   "execution_count": 293,
   "id": "6b5ce6a8",
   "metadata": {},
   "outputs": [
    {
     "data": {
      "text/html": [
       "<div>\n",
       "<style scoped>\n",
       "    .dataframe tbody tr th:only-of-type {\n",
       "        vertical-align: middle;\n",
       "    }\n",
       "\n",
       "    .dataframe tbody tr th {\n",
       "        vertical-align: top;\n",
       "    }\n",
       "\n",
       "    .dataframe thead th {\n",
       "        text-align: right;\n",
       "    }\n",
       "</style>\n",
       "<table border=\"1\" class=\"dataframe\">\n",
       "  <thead>\n",
       "    <tr style=\"text-align: right;\">\n",
       "      <th></th>\n",
       "      <th>Title</th>\n",
       "      <th>Company</th>\n",
       "      <th>Experience_required</th>\n",
       "      <th>Location</th>\n",
       "    </tr>\n",
       "  </thead>\n",
       "  <tbody>\n",
       "    <tr>\n",
       "      <th>0</th>\n",
       "      <td>Data Analyst - Flipkart Analytics</td>\n",
       "      <td>Flipkart</td>\n",
       "      <td>0-3 Yrs</td>\n",
       "      <td>Bangalore/Bengaluru(Bellandur)</td>\n",
       "    </tr>\n",
       "    <tr>\n",
       "      <th>1</th>\n",
       "      <td>Urgent Openings For Data Analyst / Business An...</td>\n",
       "      <td>Flipkart</td>\n",
       "      <td>1-6 Yrs</td>\n",
       "      <td>Bangalore/Bengaluru</td>\n",
       "    </tr>\n",
       "    <tr>\n",
       "      <th>2</th>\n",
       "      <td>Business Data Analyst(BigId) - Capco - Bangalore</td>\n",
       "      <td>Capco Technologies Pvt Ltd</td>\n",
       "      <td>3-8 Yrs</td>\n",
       "      <td>Bangalore/Bengaluru</td>\n",
       "    </tr>\n",
       "    <tr>\n",
       "      <th>3</th>\n",
       "      <td>Business Data Analyst - Database Design/Mining</td>\n",
       "      <td>AugmatrixGo</td>\n",
       "      <td>2-5 Yrs</td>\n",
       "      <td>Bangalore/Bengaluru</td>\n",
       "    </tr>\n",
       "    <tr>\n",
       "      <th>4</th>\n",
       "      <td>Opportunity For Business Data Analyst</td>\n",
       "      <td>Botree Software International Private Limited</td>\n",
       "      <td>3-6 Yrs</td>\n",
       "      <td>Bangalore/Bengaluru, Mumbai (All Areas)</td>\n",
       "    </tr>\n",
       "    <tr>\n",
       "      <th>5</th>\n",
       "      <td>Data Analyst</td>\n",
       "      <td>Applied Materials</td>\n",
       "      <td>0-3 Yrs</td>\n",
       "      <td>Bangalore/Bengaluru</td>\n",
       "    </tr>\n",
       "    <tr>\n",
       "      <th>6</th>\n",
       "      <td>Data Analyst</td>\n",
       "      <td>Shell</td>\n",
       "      <td>5-8 Yrs</td>\n",
       "      <td>Bangalore/Bengaluru</td>\n",
       "    </tr>\n",
       "    <tr>\n",
       "      <th>7</th>\n",
       "      <td>Data Analyst</td>\n",
       "      <td>Shell</td>\n",
       "      <td>5-10 Yrs</td>\n",
       "      <td>Bangalore/Bengaluru</td>\n",
       "    </tr>\n",
       "    <tr>\n",
       "      <th>8</th>\n",
       "      <td>Senior Data Analyst</td>\n",
       "      <td>Pioneer Business Solutions</td>\n",
       "      <td>6-11 Yrs</td>\n",
       "      <td>Bangalore/Bengaluru</td>\n",
       "    </tr>\n",
       "    <tr>\n",
       "      <th>9</th>\n",
       "      <td>Sr Data Analyst</td>\n",
       "      <td>Pioneer Business Solutions</td>\n",
       "      <td>3-8 Yrs</td>\n",
       "      <td>Bangalore/Bengaluru</td>\n",
       "    </tr>\n",
       "    <tr>\n",
       "      <th>10</th>\n",
       "      <td>Lead / Senior Data Analyst</td>\n",
       "      <td>EVERGREEN COMMUNITY PRIVATE LIMITED</td>\n",
       "      <td>4-6 Yrs</td>\n",
       "      <td>Bangalore/Bengaluru</td>\n",
       "    </tr>\n",
       "  </tbody>\n",
       "</table>\n",
       "</div>"
      ],
      "text/plain": [
       "                                                Title  \\\n",
       "0                   Data Analyst - Flipkart Analytics   \n",
       "1   Urgent Openings For Data Analyst / Business An...   \n",
       "2    Business Data Analyst(BigId) - Capco - Bangalore   \n",
       "3      Business Data Analyst - Database Design/Mining   \n",
       "4               Opportunity For Business Data Analyst   \n",
       "5                                        Data Analyst   \n",
       "6                                        Data Analyst   \n",
       "7                                        Data Analyst   \n",
       "8                                 Senior Data Analyst   \n",
       "9                                     Sr Data Analyst   \n",
       "10                         Lead / Senior Data Analyst   \n",
       "\n",
       "                                          Company Experience_required  \\\n",
       "0                                        Flipkart             0-3 Yrs   \n",
       "1                                        Flipkart             1-6 Yrs   \n",
       "2                      Capco Technologies Pvt Ltd             3-8 Yrs   \n",
       "3                                     AugmatrixGo             2-5 Yrs   \n",
       "4   Botree Software International Private Limited             3-6 Yrs   \n",
       "5                               Applied Materials             0-3 Yrs   \n",
       "6                                           Shell             5-8 Yrs   \n",
       "7                                           Shell            5-10 Yrs   \n",
       "8                      Pioneer Business Solutions            6-11 Yrs   \n",
       "9                      Pioneer Business Solutions             3-8 Yrs   \n",
       "10            EVERGREEN COMMUNITY PRIVATE LIMITED             4-6 Yrs   \n",
       "\n",
       "                                   Location  \n",
       "0            Bangalore/Bengaluru(Bellandur)  \n",
       "1                       Bangalore/Bengaluru  \n",
       "2                       Bangalore/Bengaluru  \n",
       "3                       Bangalore/Bengaluru  \n",
       "4   Bangalore/Bengaluru, Mumbai (All Areas)  \n",
       "5                       Bangalore/Bengaluru  \n",
       "6                       Bangalore/Bengaluru  \n",
       "7                       Bangalore/Bengaluru  \n",
       "8                       Bangalore/Bengaluru  \n",
       "9                       Bangalore/Bengaluru  \n",
       "10                      Bangalore/Bengaluru  "
      ]
     },
     "execution_count": 293,
     "metadata": {},
     "output_type": "execute_result"
    }
   ],
   "source": [
    "jobs"
   ]
  },
  {
   "cell_type": "code",
   "execution_count": 294,
   "id": "23f4dd3e",
   "metadata": {},
   "outputs": [],
   "source": [
    "driver.close()"
   ]
  },
  {
   "cell_type": "markdown",
   "id": "93994fc4",
   "metadata": {},
   "source": [
    "# Q2"
   ]
  },
  {
   "cell_type": "code",
   "execution_count": 358,
   "id": "237a3ead",
   "metadata": {},
   "outputs": [
    {
     "name": "stdout",
     "output_type": "stream",
     "text": [
      "Requirement already satisfied: selenium in c:\\users\\deep\\anaconda3\\lib\\site-packages (4.0.0)\n",
      "Requirement already satisfied: urllib3[secure]~=1.26 in c:\\users\\deep\\anaconda3\\lib\\site-packages (from selenium) (1.26.4)\n",
      "Requirement already satisfied: trio~=0.17 in c:\\users\\deep\\anaconda3\\lib\\site-packages (from selenium) (0.19.0)\n",
      "Requirement already satisfied: trio-websocket~=0.9 in c:\\users\\deep\\anaconda3\\lib\\site-packages (from selenium) (0.9.2)\n",
      "Requirement already satisfied: idna in c:\\users\\deep\\anaconda3\\lib\\site-packages (from trio~=0.17->selenium) (2.10)\n",
      "Requirement already satisfied: sniffio in c:\\users\\deep\\anaconda3\\lib\\site-packages (from trio~=0.17->selenium) (1.2.0)\n",
      "Requirement already satisfied: cffi>=1.14 in c:\\users\\deep\\anaconda3\\lib\\site-packages (from trio~=0.17->selenium) (1.14.5)\n",
      "Requirement already satisfied: async-generator>=1.9 in c:\\users\\deep\\anaconda3\\lib\\site-packages (from trio~=0.17->selenium) (1.10)\n",
      "Requirement already satisfied: attrs>=19.2.0 in c:\\users\\deep\\anaconda3\\lib\\site-packages (from trio~=0.17->selenium) (20.3.0)\n",
      "Requirement already satisfied: outcome in c:\\users\\deep\\anaconda3\\lib\\site-packages (from trio~=0.17->selenium) (1.1.0)\n",
      "Requirement already satisfied: sortedcontainers in c:\\users\\deep\\anaconda3\\lib\\site-packages (from trio~=0.17->selenium) (2.3.0)\n",
      "Requirement already satisfied: pycparser in c:\\users\\deep\\anaconda3\\lib\\site-packages (from cffi>=1.14->trio~=0.17->selenium) (2.20)\n",
      "Requirement already satisfied: wsproto>=0.14 in c:\\users\\deep\\anaconda3\\lib\\site-packages (from trio-websocket~=0.9->selenium) (1.0.0)\n",
      "Requirement already satisfied: cryptography>=1.3.4 in c:\\users\\deep\\anaconda3\\lib\\site-packages (from urllib3[secure]~=1.26->selenium) (3.4.7)\n",
      "Requirement already satisfied: pyOpenSSL>=0.14 in c:\\users\\deep\\anaconda3\\lib\\site-packages (from urllib3[secure]~=1.26->selenium) (20.0.1)\n",
      "Requirement already satisfied: certifi in c:\\users\\deep\\anaconda3\\lib\\site-packages (from urllib3[secure]~=1.26->selenium) (2020.12.5)\n",
      "Requirement already satisfied: six>=1.5.2 in c:\\users\\deep\\anaconda3\\lib\\site-packages (from pyOpenSSL>=0.14->urllib3[secure]~=1.26->selenium) (1.15.0)\n",
      "Requirement already satisfied: h11<1,>=0.9.0 in c:\\users\\deep\\anaconda3\\lib\\site-packages (from wsproto>=0.14->trio-websocket~=0.9->selenium) (0.12.0)\n"
     ]
    }
   ],
   "source": [
    "!pip install selenium"
   ]
  },
  {
   "cell_type": "code",
   "execution_count": 377,
   "id": "f5665aae",
   "metadata": {},
   "outputs": [],
   "source": [
    "#importing needing libraries\n",
    "import selenium\n",
    "import pandas as pd\n",
    "from selenium import webdriver\n",
    "import warnings\n",
    "warnings.filterwarnings('ignore')"
   ]
  },
  {
   "cell_type": "code",
   "execution_count": 378,
   "id": "d747f765",
   "metadata": {},
   "outputs": [],
   "source": [
    "driver2= webdriver.Chrome(r'C:/Users/Deep/Downloads/chromedriver_win32/chromedriver.exe')"
   ]
  },
  {
   "cell_type": "code",
   "execution_count": 379,
   "id": "b7878e66",
   "metadata": {},
   "outputs": [],
   "source": [
    "driver2.get('https://www.naukri.com/')"
   ]
  },
  {
   "cell_type": "code",
   "execution_count": 380,
   "id": "e5176749",
   "metadata": {},
   "outputs": [],
   "source": [
    "#finding the element\n",
    "search_for_job=driver2.find_element_by_id('qsb-keyword-sugg')\n",
    "search_for_job.send_keys('Data Scientist')\n",
    "search_by_loc=driver2.find_element_by_xpath(\"//input[@id='qsb-location-sugg']\")\n",
    "search_by_loc.send_keys('Banglore')"
   ]
  },
  {
   "cell_type": "code",
   "execution_count": 381,
   "id": "75c8a15f",
   "metadata": {},
   "outputs": [],
   "source": [
    "search_bttn=driver2.find_element_by_xpath(\"//div[@class='search-btn']/button\")\n",
    "search_bttn.click()"
   ]
  },
  {
   "cell_type": "code",
   "execution_count": 393,
   "id": "2935ef49",
   "metadata": {},
   "outputs": [],
   "source": [
    "job_names=[]\n",
    "location=[]\n",
    "companies=[]\n",
    "experience_needed=[]"
   ]
  },
  {
   "cell_type": "code",
   "execution_count": 394,
   "id": "e90f0306",
   "metadata": {},
   "outputs": [
    {
     "data": {
      "text/plain": [
       "[<selenium.webdriver.remote.webelement.WebElement (session=\"92390601c6032210e3bc0225189ac62f\", element=\"0c2b3235-e732-4161-83ac-3e7e24c1056b\")>,\n",
       " <selenium.webdriver.remote.webelement.WebElement (session=\"92390601c6032210e3bc0225189ac62f\", element=\"d6451f88-026c-4f63-ba27-7948e449b997\")>,\n",
       " <selenium.webdriver.remote.webelement.WebElement (session=\"92390601c6032210e3bc0225189ac62f\", element=\"c6df643e-0cc1-4285-9445-24f13a9c844d\")>,\n",
       " <selenium.webdriver.remote.webelement.WebElement (session=\"92390601c6032210e3bc0225189ac62f\", element=\"114aea75-d3f2-4a27-b3f4-2dc868b53607\")>,\n",
       " <selenium.webdriver.remote.webelement.WebElement (session=\"92390601c6032210e3bc0225189ac62f\", element=\"1e974df7-0da1-4b89-9fb1-24cc1423747a\")>,\n",
       " <selenium.webdriver.remote.webelement.WebElement (session=\"92390601c6032210e3bc0225189ac62f\", element=\"15c53594-cbb3-4709-b89e-fa64555ab022\")>,\n",
       " <selenium.webdriver.remote.webelement.WebElement (session=\"92390601c6032210e3bc0225189ac62f\", element=\"c95ee7f3-2ff9-4b58-a7d9-8630ceec60ff\")>,\n",
       " <selenium.webdriver.remote.webelement.WebElement (session=\"92390601c6032210e3bc0225189ac62f\", element=\"c5920b26-c095-41c4-94c7-dfac0c5bbbda\")>,\n",
       " <selenium.webdriver.remote.webelement.WebElement (session=\"92390601c6032210e3bc0225189ac62f\", element=\"c5133366-82da-4a7e-88da-ec4df41127f5\")>,\n",
       " <selenium.webdriver.remote.webelement.WebElement (session=\"92390601c6032210e3bc0225189ac62f\", element=\"e1e5dbc8-f92a-4c6a-84ce-0d2f718ac327\")>,\n",
       " <selenium.webdriver.remote.webelement.WebElement (session=\"92390601c6032210e3bc0225189ac62f\", element=\"1311934c-f5e6-4ef9-a4e4-d1f6a9c17716\")>]"
      ]
     },
     "execution_count": 394,
     "metadata": {},
     "output_type": "execute_result"
    }
   ],
   "source": [
    "names_tags=driver2.find_elements_by_xpath(\"//a[@class='title fw500 ellipsis']\")\n",
    "names_tags[0:11]"
   ]
  },
  {
   "cell_type": "code",
   "execution_count": 395,
   "id": "2aaebff5",
   "metadata": {},
   "outputs": [
    {
     "data": {
      "text/plain": [
       "['Forecasting Analyst/ Data Scientist (US Client)',\n",
       " 'Data Scientist',\n",
       " 'Senior Data Scientist',\n",
       " 'Senior Data Scientist | Fortune 500 Supermarket Chain',\n",
       " 'Data Scientist',\n",
       " 'Data Scientist',\n",
       " 'Data Scientist',\n",
       " 'Lead Data Scientist',\n",
       " 'Senior Data Scientist / Tech Lead - SQL / Python / Big Data',\n",
       " 'Looking For Senior Data Scientist Immediate Joiners and 1 months NP',\n",
       " 'Looking For Senior Data Scientist Immediate Joiners and 1 months NP']"
      ]
     },
     "execution_count": 395,
     "metadata": {},
     "output_type": "execute_result"
    }
   ],
   "source": [
    "for i in names_tags:\n",
    "    names=i.text\n",
    "    job_names.append(names)\n",
    "job_names[0:11]"
   ]
  },
  {
   "cell_type": "code",
   "execution_count": 396,
   "id": "d74a7f68",
   "metadata": {},
   "outputs": [
    {
     "data": {
      "text/plain": [
       "[<selenium.webdriver.remote.webelement.WebElement (session=\"92390601c6032210e3bc0225189ac62f\", element=\"5b5ef383-6d51-47d7-96ba-915f4295a72e\")>,\n",
       " <selenium.webdriver.remote.webelement.WebElement (session=\"92390601c6032210e3bc0225189ac62f\", element=\"da4f374b-de32-4d53-9d21-a86788d5a9da\")>,\n",
       " <selenium.webdriver.remote.webelement.WebElement (session=\"92390601c6032210e3bc0225189ac62f\", element=\"55d531c3-9f3f-4b39-80da-f716041ab15e\")>,\n",
       " <selenium.webdriver.remote.webelement.WebElement (session=\"92390601c6032210e3bc0225189ac62f\", element=\"558d24f7-fdc1-4bb6-b48e-b477881b9439\")>,\n",
       " <selenium.webdriver.remote.webelement.WebElement (session=\"92390601c6032210e3bc0225189ac62f\", element=\"b18c6cf9-cccf-4b99-8136-1c4cc0f7119f\")>,\n",
       " <selenium.webdriver.remote.webelement.WebElement (session=\"92390601c6032210e3bc0225189ac62f\", element=\"6d6db925-9f08-49c5-b24e-c0d04a27622e\")>,\n",
       " <selenium.webdriver.remote.webelement.WebElement (session=\"92390601c6032210e3bc0225189ac62f\", element=\"b89ca3d6-d18c-46cd-a77a-79217446a3a9\")>,\n",
       " <selenium.webdriver.remote.webelement.WebElement (session=\"92390601c6032210e3bc0225189ac62f\", element=\"2b031366-7ae5-467b-8cc8-02e279e2494e\")>,\n",
       " <selenium.webdriver.remote.webelement.WebElement (session=\"92390601c6032210e3bc0225189ac62f\", element=\"ddc552aa-e692-43c2-8db0-8954b81c7485\")>,\n",
       " <selenium.webdriver.remote.webelement.WebElement (session=\"92390601c6032210e3bc0225189ac62f\", element=\"b0b8ac1a-3817-4dc0-863e-0d31ed438aa4\")>,\n",
       " <selenium.webdriver.remote.webelement.WebElement (session=\"92390601c6032210e3bc0225189ac62f\", element=\"4dfccc0f-8be1-40d9-8395-fc3aeeb37695\")>]"
      ]
     },
     "execution_count": 396,
     "metadata": {},
     "output_type": "execute_result"
    }
   ],
   "source": [
    "loc_tags=driver2.find_elements_by_xpath(\"//li[@class='fleft grey-text br2 placeHolderLi location']/span[1]\")\n",
    "loc_tags[0:11]"
   ]
  },
  {
   "cell_type": "code",
   "execution_count": 397,
   "id": "3d7252ee",
   "metadata": {},
   "outputs": [
    {
     "data": {
      "text/plain": [
       "['Gurgaon/Gurugram, Bangalore/Bengaluru',\n",
       " 'Bangalore/Bengaluru',\n",
       " 'Bangalore/Bengaluru(Sadashiva Nagar)',\n",
       " 'Bangalore/Bengaluru',\n",
       " 'Bangalore/Bengaluru',\n",
       " 'Bangalore/Bengaluru',\n",
       " 'Bangalore/Bengaluru',\n",
       " 'Bangalore/Bengaluru, Delhi / NCR, Mumbai (All Areas)',\n",
       " 'Pune, Chennai, Bangalore/Bengaluru',\n",
       " 'Bangalore/Bengaluru',\n",
       " 'Bangalore/Bengaluru']"
      ]
     },
     "execution_count": 397,
     "metadata": {},
     "output_type": "execute_result"
    }
   ],
   "source": [
    "for i in loc_tags:\n",
    "    locc=i.text\n",
    "    location.append(locc)\n",
    "location[0:11]"
   ]
  },
  {
   "cell_type": "code",
   "execution_count": 398,
   "id": "af49e6ee",
   "metadata": {},
   "outputs": [
    {
     "data": {
      "text/plain": [
       "[<selenium.webdriver.remote.webelement.WebElement (session=\"92390601c6032210e3bc0225189ac62f\", element=\"350cfa4c-4b03-4e08-9e55-836275692d1f\")>,\n",
       " <selenium.webdriver.remote.webelement.WebElement (session=\"92390601c6032210e3bc0225189ac62f\", element=\"783d49d9-f751-45a4-9e1b-0f03222cda01\")>,\n",
       " <selenium.webdriver.remote.webelement.WebElement (session=\"92390601c6032210e3bc0225189ac62f\", element=\"b1103fae-223f-404e-83c9-9b69c515507c\")>,\n",
       " <selenium.webdriver.remote.webelement.WebElement (session=\"92390601c6032210e3bc0225189ac62f\", element=\"36962611-1be3-42e7-a9cf-08835fa247c4\")>,\n",
       " <selenium.webdriver.remote.webelement.WebElement (session=\"92390601c6032210e3bc0225189ac62f\", element=\"948679fd-ad49-4b69-ba92-cea2d4a519fb\")>,\n",
       " <selenium.webdriver.remote.webelement.WebElement (session=\"92390601c6032210e3bc0225189ac62f\", element=\"9cea5544-7238-4bf0-8428-65cc7f38fb24\")>,\n",
       " <selenium.webdriver.remote.webelement.WebElement (session=\"92390601c6032210e3bc0225189ac62f\", element=\"786591de-6d84-4544-afb6-0b292feea9db\")>,\n",
       " <selenium.webdriver.remote.webelement.WebElement (session=\"92390601c6032210e3bc0225189ac62f\", element=\"412e6ff3-03b3-45ad-a17f-e162b92c1fa2\")>,\n",
       " <selenium.webdriver.remote.webelement.WebElement (session=\"92390601c6032210e3bc0225189ac62f\", element=\"d228a107-ce53-42ac-88ea-94556944fa29\")>,\n",
       " <selenium.webdriver.remote.webelement.WebElement (session=\"92390601c6032210e3bc0225189ac62f\", element=\"b9f328fd-8206-4d48-a8eb-4bc3a4d111d7\")>,\n",
       " <selenium.webdriver.remote.webelement.WebElement (session=\"92390601c6032210e3bc0225189ac62f\", element=\"cf698ba4-a115-4331-9e8b-b3f6506a83b4\")>]"
      ]
     },
     "execution_count": 398,
     "metadata": {},
     "output_type": "execute_result"
    }
   ],
   "source": [
    "comp=driver2.find_elements_by_xpath(\"//a[@class='subTitle ellipsis fleft']\")\n",
    "comp[0:11]"
   ]
  },
  {
   "cell_type": "code",
   "execution_count": 399,
   "id": "a9aca668",
   "metadata": {},
   "outputs": [
    {
     "data": {
      "text/plain": [
       "['Concentrix Daksh Services',\n",
       " 'Oracle India Pvt. Ltd.',\n",
       " 'Convergence Infotech Ltd',\n",
       " 'TALENT500 TECH (INDIA) PRIVATE LIMITED',\n",
       " 'Visa',\n",
       " 'Visa',\n",
       " 'Visa',\n",
       " 'TransOrg Solutions Services (P) Ltd.',\n",
       " 'Exploro Solutions',\n",
       " 'Mount Talent Consulting Private Limited',\n",
       " 'Mount Talent Consulting Private Limited']"
      ]
     },
     "execution_count": 399,
     "metadata": {},
     "output_type": "execute_result"
    }
   ],
   "source": [
    "for i in comp:\n",
    "    pcomp=i.text\n",
    "    companies.append(pcomp)\n",
    "companies[0:11]"
   ]
  },
  {
   "cell_type": "code",
   "execution_count": 400,
   "id": "3447672e",
   "metadata": {},
   "outputs": [
    {
     "data": {
      "text/plain": [
       "[<selenium.webdriver.remote.webelement.WebElement (session=\"92390601c6032210e3bc0225189ac62f\", element=\"c1d27ec6-f27c-455f-89fc-fa9b0e71d9fc\")>,\n",
       " <selenium.webdriver.remote.webelement.WebElement (session=\"92390601c6032210e3bc0225189ac62f\", element=\"87d0492b-9749-4c0c-b7a5-548f714a6e04\")>,\n",
       " <selenium.webdriver.remote.webelement.WebElement (session=\"92390601c6032210e3bc0225189ac62f\", element=\"c08f2cc4-5eb7-453c-8cfb-21e2068f4399\")>,\n",
       " <selenium.webdriver.remote.webelement.WebElement (session=\"92390601c6032210e3bc0225189ac62f\", element=\"2ec3a92a-753f-405c-9964-f5c381b4d029\")>,\n",
       " <selenium.webdriver.remote.webelement.WebElement (session=\"92390601c6032210e3bc0225189ac62f\", element=\"75b57358-5abe-47c3-972c-6b13b39a4323\")>,\n",
       " <selenium.webdriver.remote.webelement.WebElement (session=\"92390601c6032210e3bc0225189ac62f\", element=\"505890c2-f844-44b7-a686-d8c91939eed0\")>,\n",
       " <selenium.webdriver.remote.webelement.WebElement (session=\"92390601c6032210e3bc0225189ac62f\", element=\"4b6a74df-19b0-48b4-8b27-49ff28da801e\")>,\n",
       " <selenium.webdriver.remote.webelement.WebElement (session=\"92390601c6032210e3bc0225189ac62f\", element=\"d6df99e3-9d13-4c9c-b512-b6a1121ff957\")>,\n",
       " <selenium.webdriver.remote.webelement.WebElement (session=\"92390601c6032210e3bc0225189ac62f\", element=\"6d54e93e-4c77-4e62-9fd8-55587f706810\")>,\n",
       " <selenium.webdriver.remote.webelement.WebElement (session=\"92390601c6032210e3bc0225189ac62f\", element=\"afd08d48-2e83-49db-9d5b-7843df8303aa\")>,\n",
       " <selenium.webdriver.remote.webelement.WebElement (session=\"92390601c6032210e3bc0225189ac62f\", element=\"00f4cd80-d25e-4d1e-ac42-15e868ebcd51\")>]"
      ]
     },
     "execution_count": 400,
     "metadata": {},
     "output_type": "execute_result"
    }
   ],
   "source": [
    "exp=driver2.find_elements_by_xpath(\"//li[@class='fleft grey-text br2 placeHolderLi experience']/span[1]\")\n",
    "exp[0:11]"
   ]
  },
  {
   "cell_type": "code",
   "execution_count": 401,
   "id": "1dc6cce6",
   "metadata": {},
   "outputs": [
    {
     "data": {
      "text/plain": [
       "['3-8 Yrs',\n",
       " '6-10 Yrs',\n",
       " '8-12 Yrs',\n",
       " '7-10 Yrs',\n",
       " '4-9 Yrs',\n",
       " '4-9 Yrs',\n",
       " '4-9 Yrs',\n",
       " '4-9 Yrs',\n",
       " '5-10 Yrs',\n",
       " '5-10 Yrs',\n",
       " '5-10 Yrs']"
      ]
     },
     "execution_count": 401,
     "metadata": {},
     "output_type": "execute_result"
    }
   ],
   "source": [
    "for i in exp:\n",
    "    pexp=i.text\n",
    "    experience_needed.append(pexp)\n",
    "experience_needed[0:11]"
   ]
  },
  {
   "cell_type": "code",
   "execution_count": 402,
   "id": "f5e29ee2",
   "metadata": {},
   "outputs": [],
   "source": [
    "jobs_datasc=pd.DataFrame({})\n",
    "jobs_datasc['job name']=job_names[0:11]\n",
    "jobs_datasc['location of the job']=location[0:11]\n",
    "jobs_datasc['companies']=companies[0:11]\n",
    "jobs_datasc['experience needed']=experience_needed[0:11]"
   ]
  },
  {
   "cell_type": "code",
   "execution_count": 403,
   "id": "72c49fb8",
   "metadata": {},
   "outputs": [
    {
     "data": {
      "text/html": [
       "<div>\n",
       "<style scoped>\n",
       "    .dataframe tbody tr th:only-of-type {\n",
       "        vertical-align: middle;\n",
       "    }\n",
       "\n",
       "    .dataframe tbody tr th {\n",
       "        vertical-align: top;\n",
       "    }\n",
       "\n",
       "    .dataframe thead th {\n",
       "        text-align: right;\n",
       "    }\n",
       "</style>\n",
       "<table border=\"1\" class=\"dataframe\">\n",
       "  <thead>\n",
       "    <tr style=\"text-align: right;\">\n",
       "      <th></th>\n",
       "      <th>job name</th>\n",
       "      <th>location of the job</th>\n",
       "      <th>companies</th>\n",
       "      <th>experience needed</th>\n",
       "    </tr>\n",
       "  </thead>\n",
       "  <tbody>\n",
       "    <tr>\n",
       "      <th>0</th>\n",
       "      <td>Forecasting Analyst/ Data Scientist (US Client)</td>\n",
       "      <td>Gurgaon/Gurugram, Bangalore/Bengaluru</td>\n",
       "      <td>Concentrix Daksh Services</td>\n",
       "      <td>3-8 Yrs</td>\n",
       "    </tr>\n",
       "    <tr>\n",
       "      <th>1</th>\n",
       "      <td>Data Scientist</td>\n",
       "      <td>Bangalore/Bengaluru</td>\n",
       "      <td>Oracle India Pvt. Ltd.</td>\n",
       "      <td>6-10 Yrs</td>\n",
       "    </tr>\n",
       "    <tr>\n",
       "      <th>2</th>\n",
       "      <td>Senior Data Scientist</td>\n",
       "      <td>Bangalore/Bengaluru(Sadashiva Nagar)</td>\n",
       "      <td>Convergence Infotech Ltd</td>\n",
       "      <td>8-12 Yrs</td>\n",
       "    </tr>\n",
       "    <tr>\n",
       "      <th>3</th>\n",
       "      <td>Senior Data Scientist | Fortune 500 Supermarke...</td>\n",
       "      <td>Bangalore/Bengaluru</td>\n",
       "      <td>TALENT500 TECH (INDIA) PRIVATE LIMITED</td>\n",
       "      <td>7-10 Yrs</td>\n",
       "    </tr>\n",
       "    <tr>\n",
       "      <th>4</th>\n",
       "      <td>Data Scientist</td>\n",
       "      <td>Bangalore/Bengaluru</td>\n",
       "      <td>Visa</td>\n",
       "      <td>4-9 Yrs</td>\n",
       "    </tr>\n",
       "    <tr>\n",
       "      <th>5</th>\n",
       "      <td>Data Scientist</td>\n",
       "      <td>Bangalore/Bengaluru</td>\n",
       "      <td>Visa</td>\n",
       "      <td>4-9 Yrs</td>\n",
       "    </tr>\n",
       "    <tr>\n",
       "      <th>6</th>\n",
       "      <td>Data Scientist</td>\n",
       "      <td>Bangalore/Bengaluru</td>\n",
       "      <td>Visa</td>\n",
       "      <td>4-9 Yrs</td>\n",
       "    </tr>\n",
       "    <tr>\n",
       "      <th>7</th>\n",
       "      <td>Lead Data Scientist</td>\n",
       "      <td>Bangalore/Bengaluru, Delhi / NCR, Mumbai (All ...</td>\n",
       "      <td>TransOrg Solutions Services (P) Ltd.</td>\n",
       "      <td>4-9 Yrs</td>\n",
       "    </tr>\n",
       "    <tr>\n",
       "      <th>8</th>\n",
       "      <td>Senior Data Scientist / Tech Lead - SQL / Pyth...</td>\n",
       "      <td>Pune, Chennai, Bangalore/Bengaluru</td>\n",
       "      <td>Exploro Solutions</td>\n",
       "      <td>5-10 Yrs</td>\n",
       "    </tr>\n",
       "    <tr>\n",
       "      <th>9</th>\n",
       "      <td>Looking For Senior Data Scientist Immediate Jo...</td>\n",
       "      <td>Bangalore/Bengaluru</td>\n",
       "      <td>Mount Talent Consulting Private Limited</td>\n",
       "      <td>5-10 Yrs</td>\n",
       "    </tr>\n",
       "    <tr>\n",
       "      <th>10</th>\n",
       "      <td>Looking For Senior Data Scientist Immediate Jo...</td>\n",
       "      <td>Bangalore/Bengaluru</td>\n",
       "      <td>Mount Talent Consulting Private Limited</td>\n",
       "      <td>5-10 Yrs</td>\n",
       "    </tr>\n",
       "  </tbody>\n",
       "</table>\n",
       "</div>"
      ],
      "text/plain": [
       "                                             job name  \\\n",
       "0     Forecasting Analyst/ Data Scientist (US Client)   \n",
       "1                                      Data Scientist   \n",
       "2                               Senior Data Scientist   \n",
       "3   Senior Data Scientist | Fortune 500 Supermarke...   \n",
       "4                                      Data Scientist   \n",
       "5                                      Data Scientist   \n",
       "6                                      Data Scientist   \n",
       "7                                 Lead Data Scientist   \n",
       "8   Senior Data Scientist / Tech Lead - SQL / Pyth...   \n",
       "9   Looking For Senior Data Scientist Immediate Jo...   \n",
       "10  Looking For Senior Data Scientist Immediate Jo...   \n",
       "\n",
       "                                  location of the job  \\\n",
       "0               Gurgaon/Gurugram, Bangalore/Bengaluru   \n",
       "1                                 Bangalore/Bengaluru   \n",
       "2                Bangalore/Bengaluru(Sadashiva Nagar)   \n",
       "3                                 Bangalore/Bengaluru   \n",
       "4                                 Bangalore/Bengaluru   \n",
       "5                                 Bangalore/Bengaluru   \n",
       "6                                 Bangalore/Bengaluru   \n",
       "7   Bangalore/Bengaluru, Delhi / NCR, Mumbai (All ...   \n",
       "8                  Pune, Chennai, Bangalore/Bengaluru   \n",
       "9                                 Bangalore/Bengaluru   \n",
       "10                                Bangalore/Bengaluru   \n",
       "\n",
       "                                  companies experience needed  \n",
       "0                 Concentrix Daksh Services           3-8 Yrs  \n",
       "1                    Oracle India Pvt. Ltd.          6-10 Yrs  \n",
       "2                  Convergence Infotech Ltd          8-12 Yrs  \n",
       "3    TALENT500 TECH (INDIA) PRIVATE LIMITED          7-10 Yrs  \n",
       "4                                      Visa           4-9 Yrs  \n",
       "5                                      Visa           4-9 Yrs  \n",
       "6                                      Visa           4-9 Yrs  \n",
       "7      TransOrg Solutions Services (P) Ltd.           4-9 Yrs  \n",
       "8                         Exploro Solutions          5-10 Yrs  \n",
       "9   Mount Talent Consulting Private Limited          5-10 Yrs  \n",
       "10  Mount Talent Consulting Private Limited          5-10 Yrs  "
      ]
     },
     "execution_count": 403,
     "metadata": {},
     "output_type": "execute_result"
    }
   ],
   "source": [
    "jobs_datasc"
   ]
  },
  {
   "cell_type": "code",
   "execution_count": 404,
   "id": "d0e0b8d2",
   "metadata": {},
   "outputs": [],
   "source": [
    "driver2.close()"
   ]
  },
  {
   "cell_type": "markdown",
   "id": "1293580b",
   "metadata": {},
   "source": [
    "# Q3"
   ]
  },
  {
   "cell_type": "code",
   "execution_count": 497,
   "id": "8fcbb797",
   "metadata": {},
   "outputs": [
    {
     "name": "stdout",
     "output_type": "stream",
     "text": [
      "Requirement already satisfied: selenium in c:\\users\\deep\\anaconda3\\lib\\site-packages (4.0.0)\n",
      "Requirement already satisfied: urllib3[secure]~=1.26 in c:\\users\\deep\\anaconda3\\lib\\site-packages (from selenium) (1.26.4)\n",
      "Requirement already satisfied: trio-websocket~=0.9 in c:\\users\\deep\\anaconda3\\lib\\site-packages (from selenium) (0.9.2)\n",
      "Requirement already satisfied: trio~=0.17 in c:\\users\\deep\\anaconda3\\lib\\site-packages (from selenium) (0.19.0)\n",
      "Requirement already satisfied: outcome in c:\\users\\deep\\anaconda3\\lib\\site-packages (from trio~=0.17->selenium) (1.1.0)\n",
      "Requirement already satisfied: idna in c:\\users\\deep\\anaconda3\\lib\\site-packages (from trio~=0.17->selenium) (2.10)\n",
      "Requirement already satisfied: sniffio in c:\\users\\deep\\anaconda3\\lib\\site-packages (from trio~=0.17->selenium) (1.2.0)\n",
      "Requirement already satisfied: cffi>=1.14 in c:\\users\\deep\\anaconda3\\lib\\site-packages (from trio~=0.17->selenium) (1.14.5)\n",
      "Requirement already satisfied: sortedcontainers in c:\\users\\deep\\anaconda3\\lib\\site-packages (from trio~=0.17->selenium) (2.3.0)\n",
      "Requirement already satisfied: async-generator>=1.9 in c:\\users\\deep\\anaconda3\\lib\\site-packages (from trio~=0.17->selenium) (1.10)\n",
      "Requirement already satisfied: attrs>=19.2.0 in c:\\users\\deep\\anaconda3\\lib\\site-packages (from trio~=0.17->selenium) (20.3.0)\n",
      "Requirement already satisfied: pycparser in c:\\users\\deep\\anaconda3\\lib\\site-packages (from cffi>=1.14->trio~=0.17->selenium) (2.20)\n",
      "Requirement already satisfied: wsproto>=0.14 in c:\\users\\deep\\anaconda3\\lib\\site-packages (from trio-websocket~=0.9->selenium) (1.0.0)\n",
      "Requirement already satisfied: certifi in c:\\users\\deep\\anaconda3\\lib\\site-packages (from urllib3[secure]~=1.26->selenium) (2020.12.5)\n",
      "Requirement already satisfied: cryptography>=1.3.4 in c:\\users\\deep\\anaconda3\\lib\\site-packages (from urllib3[secure]~=1.26->selenium) (3.4.7)\n",
      "Requirement already satisfied: pyOpenSSL>=0.14 in c:\\users\\deep\\anaconda3\\lib\\site-packages (from urllib3[secure]~=1.26->selenium) (20.0.1)\n",
      "Requirement already satisfied: six>=1.5.2 in c:\\users\\deep\\anaconda3\\lib\\site-packages (from pyOpenSSL>=0.14->urllib3[secure]~=1.26->selenium) (1.15.0)\n",
      "Requirement already satisfied: h11<1,>=0.9.0 in c:\\users\\deep\\anaconda3\\lib\\site-packages (from wsproto>=0.14->trio-websocket~=0.9->selenium) (0.12.0)\n"
     ]
    }
   ],
   "source": [
    "!pip install selenium"
   ]
  },
  {
   "cell_type": "code",
   "execution_count": 498,
   "id": "a2c9e2c1",
   "metadata": {},
   "outputs": [],
   "source": [
    "#importing needed libararies\n",
    "import pandas as pd\n",
    "import selenium\n",
    "from selenium import webdriver\n",
    "import warnings\n",
    "warnings.filterwarnings('ignore')"
   ]
  },
  {
   "cell_type": "code",
   "execution_count": 499,
   "id": "2650fd1a",
   "metadata": {},
   "outputs": [],
   "source": [
    "driver3=webdriver.Chrome(r'C:/Users/Deep/Downloads/chromedriver_win32/chromedriver.exe')"
   ]
  },
  {
   "cell_type": "code",
   "execution_count": 500,
   "id": "7f12df60",
   "metadata": {},
   "outputs": [],
   "source": [
    "#getting on to the webpage\n",
    "driver3.get('https://www.naukri.com/')"
   ]
  },
  {
   "cell_type": "code",
   "execution_count": 501,
   "id": "3afba898",
   "metadata": {},
   "outputs": [],
   "source": [
    "searchj=driver3.find_element_by_id('qsb-keyword-sugg')\n",
    "searchj.send_keys('Data Scientist')"
   ]
  },
  {
   "cell_type": "code",
   "execution_count": 502,
   "id": "925dbe35",
   "metadata": {},
   "outputs": [],
   "source": [
    "search_button=driver3.find_element_by_xpath(\"//div[@class='search-btn']/button\")\n",
    "search_button.click()"
   ]
  },
  {
   "cell_type": "code",
   "execution_count": 503,
   "id": "ef6620f6",
   "metadata": {},
   "outputs": [],
   "source": [
    "filter_button=driver3.find_element_by_xpath(\"//span[@title='Delhi / NCR']\")\n",
    "filter_button.click()"
   ]
  },
  {
   "cell_type": "code",
   "execution_count": 504,
   "id": "918d5c5d",
   "metadata": {},
   "outputs": [],
   "source": [
    "salary_filter=driver3.find_element_by_xpath(\"//span[@title='3-6 Lakhs']\")\n",
    "salary_filter.click()"
   ]
  },
  {
   "cell_type": "code",
   "execution_count": 505,
   "id": "440dcc5b",
   "metadata": {},
   "outputs": [],
   "source": [
    "job_title=[]\n",
    "job_location=[]\n",
    "company_name=[]\n",
    "exp_req=[]"
   ]
  },
  {
   "cell_type": "code",
   "execution_count": 506,
   "id": "feaa90a9",
   "metadata": {},
   "outputs": [
    {
     "data": {
      "text/plain": [
       "[<selenium.webdriver.remote.webelement.WebElement (session=\"38fd47de1a711a8c3a553e3a11c30b64\", element=\"4ceb8a38-a614-4be6-a2af-95209f7c1256\")>,\n",
       " <selenium.webdriver.remote.webelement.WebElement (session=\"38fd47de1a711a8c3a553e3a11c30b64\", element=\"dadb3682-4a17-43a9-a4bb-2a48eb21958e\")>,\n",
       " <selenium.webdriver.remote.webelement.WebElement (session=\"38fd47de1a711a8c3a553e3a11c30b64\", element=\"34530831-a508-4c81-80ea-51a8ddd046da\")>,\n",
       " <selenium.webdriver.remote.webelement.WebElement (session=\"38fd47de1a711a8c3a553e3a11c30b64\", element=\"4d814cec-3dfd-4494-a436-258b92ef0096\")>,\n",
       " <selenium.webdriver.remote.webelement.WebElement (session=\"38fd47de1a711a8c3a553e3a11c30b64\", element=\"022c673a-cbbe-40f2-a823-b0ec7210e2c5\")>,\n",
       " <selenium.webdriver.remote.webelement.WebElement (session=\"38fd47de1a711a8c3a553e3a11c30b64\", element=\"4b747ab8-c546-4a7d-8dc3-e1cec25502a1\")>,\n",
       " <selenium.webdriver.remote.webelement.WebElement (session=\"38fd47de1a711a8c3a553e3a11c30b64\", element=\"46174648-d8c1-4569-a9d1-d97f940fd470\")>,\n",
       " <selenium.webdriver.remote.webelement.WebElement (session=\"38fd47de1a711a8c3a553e3a11c30b64\", element=\"4920aa8a-ad98-4a89-a804-1278542ab879\")>,\n",
       " <selenium.webdriver.remote.webelement.WebElement (session=\"38fd47de1a711a8c3a553e3a11c30b64\", element=\"e465da83-81c0-44a1-9e4c-2268d79ad199\")>,\n",
       " <selenium.webdriver.remote.webelement.WebElement (session=\"38fd47de1a711a8c3a553e3a11c30b64\", element=\"dd851d2d-d28f-48c9-9320-c30fdcc8ad70\")>,\n",
       " <selenium.webdriver.remote.webelement.WebElement (session=\"38fd47de1a711a8c3a553e3a11c30b64\", element=\"84ec2b28-1f10-467e-b627-cf8fc8aa63dd\")>]"
      ]
     },
     "execution_count": 506,
     "metadata": {},
     "output_type": "execute_result"
    }
   ],
   "source": [
    "title=driver3.find_elements_by_xpath(\"//a[@class='title fw500 ellipsis']\")\n",
    "title[0:11]"
   ]
  },
  {
   "cell_type": "code",
   "execution_count": 507,
   "id": "8bc3d032",
   "metadata": {},
   "outputs": [
    {
     "data": {
      "text/plain": [
       "['Data Scientist',\n",
       " 'Job Opportunity || Data Scientist || HCL Technologies',\n",
       " 'Data Scientist',\n",
       " 'Data Scientist',\n",
       " 'Urgent Hiring || Data Scientist || Delhi',\n",
       " 'Data Scientist',\n",
       " 'Data Scientist',\n",
       " 'Data Scientist Internship',\n",
       " 'Data Scientist',\n",
       " 'Project Manager | Team Leader | Senior Data Scientist',\n",
       " 'Senior Data Scientist']"
      ]
     },
     "execution_count": 507,
     "metadata": {},
     "output_type": "execute_result"
    }
   ],
   "source": [
    "for i in title:\n",
    "    job_tags=i.text\n",
    "    job_title.append(job_tags)\n",
    "job_title[0:11]"
   ]
  },
  {
   "cell_type": "code",
   "execution_count": 517,
   "id": "dfcf1110",
   "metadata": {},
   "outputs": [
    {
     "data": {
      "text/plain": [
       "[<selenium.webdriver.remote.webelement.WebElement (session=\"38fd47de1a711a8c3a553e3a11c30b64\", element=\"5b08bfdd-3329-46da-bd12-abc9f7b0faf7\")>,\n",
       " <selenium.webdriver.remote.webelement.WebElement (session=\"38fd47de1a711a8c3a553e3a11c30b64\", element=\"85aa2647-3065-4de5-8e8f-d2160c72d226\")>,\n",
       " <selenium.webdriver.remote.webelement.WebElement (session=\"38fd47de1a711a8c3a553e3a11c30b64\", element=\"c92bb0ea-1e4c-4d08-9ea2-0dc08ab98635\")>,\n",
       " <selenium.webdriver.remote.webelement.WebElement (session=\"38fd47de1a711a8c3a553e3a11c30b64\", element=\"9b7cd867-7376-4275-aba9-32db10004609\")>,\n",
       " <selenium.webdriver.remote.webelement.WebElement (session=\"38fd47de1a711a8c3a553e3a11c30b64\", element=\"00344e5d-1c9c-458d-96c1-27495522ea5d\")>,\n",
       " <selenium.webdriver.remote.webelement.WebElement (session=\"38fd47de1a711a8c3a553e3a11c30b64\", element=\"be321fab-11a9-4620-96d2-d86f0d634f9f\")>,\n",
       " <selenium.webdriver.remote.webelement.WebElement (session=\"38fd47de1a711a8c3a553e3a11c30b64\", element=\"5c99d6f3-f8d2-4830-8e08-598d56005357\")>,\n",
       " <selenium.webdriver.remote.webelement.WebElement (session=\"38fd47de1a711a8c3a553e3a11c30b64\", element=\"4e146a37-97a5-4f58-aa59-1781f7a39398\")>,\n",
       " <selenium.webdriver.remote.webelement.WebElement (session=\"38fd47de1a711a8c3a553e3a11c30b64\", element=\"85a96c30-7d58-4ef4-940b-bf605190a833\")>,\n",
       " <selenium.webdriver.remote.webelement.WebElement (session=\"38fd47de1a711a8c3a553e3a11c30b64\", element=\"76a531d7-e854-40af-bdbf-2f22357a1038\")>,\n",
       " <selenium.webdriver.remote.webelement.WebElement (session=\"38fd47de1a711a8c3a553e3a11c30b64\", element=\"f55d393e-42ca-42e3-922b-112fa4054dba\")>]"
      ]
     },
     "execution_count": 517,
     "metadata": {},
     "output_type": "execute_result"
    }
   ],
   "source": [
    "location_for_job=driver3.find_elements_by_xpath(\"//li[@class='fleft grey-text br2 placeHolderLi location']/span[1]\")\n",
    "location_for_job[0:11]"
   ]
  },
  {
   "cell_type": "code",
   "execution_count": 518,
   "id": "f07e7014",
   "metadata": {},
   "outputs": [
    {
     "data": {
      "text/plain": [
       "['Kochi/Cochin, Kolkata, Hyderabad/Secunderabad, Pune, Ahmedabad, Chennai, Bangalore/Bengaluru, Delhi / NCR, Mumbai (All Areas)',\n",
       " 'Delhi / NCR',\n",
       " 'Noida(Sector-126 Noida)',\n",
       " 'Noida(Sector-126 Noida)',\n",
       " 'Delhi / NCR',\n",
       " 'Noida, Gurgaon/Gurugram',\n",
       " 'Noida',\n",
       " 'New Delhi',\n",
       " 'Mumbai, Gurgaon/Gurugram, Bangalore/Bengaluru',\n",
       " 'Remote',\n",
       " 'Delhi']"
      ]
     },
     "execution_count": 518,
     "metadata": {},
     "output_type": "execute_result"
    }
   ],
   "source": [
    "for i in location_for_job:\n",
    "    job_loc=i.text\n",
    "    job_location.append(job_loc)\n",
    "job_location[0:11]"
   ]
  },
  {
   "cell_type": "code",
   "execution_count": 519,
   "id": "8b36e21e",
   "metadata": {},
   "outputs": [
    {
     "data": {
      "text/plain": [
       "[<selenium.webdriver.remote.webelement.WebElement (session=\"38fd47de1a711a8c3a553e3a11c30b64\", element=\"6a05f491-2218-4622-bb37-8b0475dd84d4\")>,\n",
       " <selenium.webdriver.remote.webelement.WebElement (session=\"38fd47de1a711a8c3a553e3a11c30b64\", element=\"14c2948f-8a27-4c1c-a5b3-44d8340ba162\")>,\n",
       " <selenium.webdriver.remote.webelement.WebElement (session=\"38fd47de1a711a8c3a553e3a11c30b64\", element=\"c5b2272c-70c1-409e-85e5-832cfdd339a6\")>,\n",
       " <selenium.webdriver.remote.webelement.WebElement (session=\"38fd47de1a711a8c3a553e3a11c30b64\", element=\"4b230566-42a8-46d1-aa37-4d28ee4a5096\")>,\n",
       " <selenium.webdriver.remote.webelement.WebElement (session=\"38fd47de1a711a8c3a553e3a11c30b64\", element=\"c7d91314-a222-4f9e-ad63-03aacba95148\")>,\n",
       " <selenium.webdriver.remote.webelement.WebElement (session=\"38fd47de1a711a8c3a553e3a11c30b64\", element=\"59d6c792-92ef-49aa-80a4-0db89f7c9d09\")>,\n",
       " <selenium.webdriver.remote.webelement.WebElement (session=\"38fd47de1a711a8c3a553e3a11c30b64\", element=\"0574174e-6f0f-4db0-9656-c4c7f7df304a\")>,\n",
       " <selenium.webdriver.remote.webelement.WebElement (session=\"38fd47de1a711a8c3a553e3a11c30b64\", element=\"ed948002-ab82-4267-8523-b5fcfe6955a9\")>,\n",
       " <selenium.webdriver.remote.webelement.WebElement (session=\"38fd47de1a711a8c3a553e3a11c30b64\", element=\"4306c9f2-c8ab-49cf-9364-7574e3457d53\")>,\n",
       " <selenium.webdriver.remote.webelement.WebElement (session=\"38fd47de1a711a8c3a553e3a11c30b64\", element=\"2b7c80a6-f84a-4d02-863b-4d019eaaefc2\")>,\n",
       " <selenium.webdriver.remote.webelement.WebElement (session=\"38fd47de1a711a8c3a553e3a11c30b64\", element=\"6998f275-006b-42b8-b51b-86be01a44795\")>]"
      ]
     },
     "execution_count": 519,
     "metadata": {},
     "output_type": "execute_result"
    }
   ],
   "source": [
    "noc=driver3.find_elements_by_xpath(\"//a[@class='subTitle ellipsis fleft']\")\n",
    "noc[0:11]"
   ]
  },
  {
   "cell_type": "code",
   "execution_count": 520,
   "id": "1f63bdd8",
   "metadata": {},
   "outputs": [
    {
     "data": {
      "text/plain": [
       "['Think i',\n",
       " 'HCL Technologies',\n",
       " 'MoMagic Technologies Pvt. Ltd.',\n",
       " 'MoMagic Technologies Pvt. Ltd.',\n",
       " 'Shriram Automall India Limited',\n",
       " 'Optum Global Solutions (India) Private Limited',\n",
       " 'SVK Global Solutions Private Limited',\n",
       " 'iHackers Inc',\n",
       " 'Fractal Analytics',\n",
       " 'Tidyquant (OPC) Private Limited',\n",
       " 'iNICU']"
      ]
     },
     "execution_count": 520,
     "metadata": {},
     "output_type": "execute_result"
    }
   ],
   "source": [
    "for i in noc:\n",
    "    name_of_company=i.text\n",
    "    company_name.append(name_of_company)\n",
    "company_name[0:11]"
   ]
  },
  {
   "cell_type": "code",
   "execution_count": 521,
   "id": "e1d882fb",
   "metadata": {},
   "outputs": [
    {
     "data": {
      "text/plain": [
       "[<selenium.webdriver.remote.webelement.WebElement (session=\"38fd47de1a711a8c3a553e3a11c30b64\", element=\"d5e2764d-ed13-4603-a0e2-1eede3e375ea\")>,\n",
       " <selenium.webdriver.remote.webelement.WebElement (session=\"38fd47de1a711a8c3a553e3a11c30b64\", element=\"7a5c6075-985c-43e1-ba55-5aa8147803fe\")>,\n",
       " <selenium.webdriver.remote.webelement.WebElement (session=\"38fd47de1a711a8c3a553e3a11c30b64\", element=\"4c8459f7-5278-45cb-9d3f-d0df11076191\")>,\n",
       " <selenium.webdriver.remote.webelement.WebElement (session=\"38fd47de1a711a8c3a553e3a11c30b64\", element=\"4ab1296e-4052-45d5-ab48-7c8c379c1271\")>,\n",
       " <selenium.webdriver.remote.webelement.WebElement (session=\"38fd47de1a711a8c3a553e3a11c30b64\", element=\"45de666a-8fea-42f2-9b29-fe6d93d9f5da\")>,\n",
       " <selenium.webdriver.remote.webelement.WebElement (session=\"38fd47de1a711a8c3a553e3a11c30b64\", element=\"9d9f5464-d939-4399-89e8-8e55c98329e6\")>,\n",
       " <selenium.webdriver.remote.webelement.WebElement (session=\"38fd47de1a711a8c3a553e3a11c30b64\", element=\"817c29c7-72e6-46f0-b428-ed7dc38a5b7f\")>,\n",
       " <selenium.webdriver.remote.webelement.WebElement (session=\"38fd47de1a711a8c3a553e3a11c30b64\", element=\"f9a57f2b-c437-4fa1-a2ea-6ff7eadc0d2f\")>,\n",
       " <selenium.webdriver.remote.webelement.WebElement (session=\"38fd47de1a711a8c3a553e3a11c30b64\", element=\"d8b1b305-ca98-43af-b622-a8f73d8cf30b\")>,\n",
       " <selenium.webdriver.remote.webelement.WebElement (session=\"38fd47de1a711a8c3a553e3a11c30b64\", element=\"bb2e9ff3-b77d-4b05-aa2e-9311fac21f91\")>,\n",
       " <selenium.webdriver.remote.webelement.WebElement (session=\"38fd47de1a711a8c3a553e3a11c30b64\", element=\"f144bfa1-dafd-4885-8a34-14a8b09c8d0a\")>]"
      ]
     },
     "execution_count": 521,
     "metadata": {},
     "output_type": "execute_result"
    }
   ],
   "source": [
    "experiences=driver3.find_elements_by_xpath(\"//li[@class='fleft grey-text br2 placeHolderLi experience']/span[1]\")\n",
    "experiences[0:11]"
   ]
  },
  {
   "cell_type": "code",
   "execution_count": 522,
   "id": "e8974dd8",
   "metadata": {},
   "outputs": [
    {
     "data": {
      "text/plain": [
       "['0-2 Yrs',\n",
       " '4-7 Yrs',\n",
       " '4-6 Yrs',\n",
       " '4-6 Yrs',\n",
       " '2-7 Yrs',\n",
       " '2-6 Yrs',\n",
       " '6-10 Yrs',\n",
       " '0-1 Yrs',\n",
       " '3-7 Yrs',\n",
       " '2-7 Yrs',\n",
       " '1-5 Yrs']"
      ]
     },
     "execution_count": 522,
     "metadata": {},
     "output_type": "execute_result"
    }
   ],
   "source": [
    "for i in experiences:\n",
    "    re_ex=i.text\n",
    "    exp_req.append(re_ex)\n",
    "exp_req[0:11]"
   ]
  },
  {
   "cell_type": "code",
   "execution_count": 523,
   "id": "1e17dc69",
   "metadata": {},
   "outputs": [
    {
     "name": "stdout",
     "output_type": "stream",
     "text": [
      "20 20 40 40\n"
     ]
    }
   ],
   "source": [
    "print(len(job_title),len(job_location),len(company_name),len(exp_req))"
   ]
  },
  {
   "cell_type": "code",
   "execution_count": 524,
   "id": "f2f4afc3",
   "metadata": {},
   "outputs": [],
   "source": [
    "jobs_in_delhi=pd.DataFrame({})\n",
    "jobs_in_delhi['job tag']=job_title[0:11]\n",
    "jobs_in_delhi['job location']=job_location[0:11]\n",
    "jobs_in_delhi['company']=company_name[0:11]\n",
    "jobs_in_delhi['experience needed for the job']=exp_req[0:11]"
   ]
  },
  {
   "cell_type": "code",
   "execution_count": 525,
   "id": "dccef39b",
   "metadata": {},
   "outputs": [
    {
     "data": {
      "text/html": [
       "<div>\n",
       "<style scoped>\n",
       "    .dataframe tbody tr th:only-of-type {\n",
       "        vertical-align: middle;\n",
       "    }\n",
       "\n",
       "    .dataframe tbody tr th {\n",
       "        vertical-align: top;\n",
       "    }\n",
       "\n",
       "    .dataframe thead th {\n",
       "        text-align: right;\n",
       "    }\n",
       "</style>\n",
       "<table border=\"1\" class=\"dataframe\">\n",
       "  <thead>\n",
       "    <tr style=\"text-align: right;\">\n",
       "      <th></th>\n",
       "      <th>job tag</th>\n",
       "      <th>job location</th>\n",
       "      <th>company</th>\n",
       "      <th>experience needed for the job</th>\n",
       "    </tr>\n",
       "  </thead>\n",
       "  <tbody>\n",
       "    <tr>\n",
       "      <th>0</th>\n",
       "      <td>Data Scientist</td>\n",
       "      <td>Kochi/Cochin, Kolkata, Hyderabad/Secunderabad,...</td>\n",
       "      <td>Think i</td>\n",
       "      <td>0-2 Yrs</td>\n",
       "    </tr>\n",
       "    <tr>\n",
       "      <th>1</th>\n",
       "      <td>Job Opportunity || Data Scientist || HCL Techn...</td>\n",
       "      <td>Delhi / NCR</td>\n",
       "      <td>HCL Technologies</td>\n",
       "      <td>4-7 Yrs</td>\n",
       "    </tr>\n",
       "    <tr>\n",
       "      <th>2</th>\n",
       "      <td>Data Scientist</td>\n",
       "      <td>Noida(Sector-126 Noida)</td>\n",
       "      <td>MoMagic Technologies Pvt. Ltd.</td>\n",
       "      <td>4-6 Yrs</td>\n",
       "    </tr>\n",
       "    <tr>\n",
       "      <th>3</th>\n",
       "      <td>Data Scientist</td>\n",
       "      <td>Noida(Sector-126 Noida)</td>\n",
       "      <td>MoMagic Technologies Pvt. Ltd.</td>\n",
       "      <td>4-6 Yrs</td>\n",
       "    </tr>\n",
       "    <tr>\n",
       "      <th>4</th>\n",
       "      <td>Urgent Hiring || Data Scientist || Delhi</td>\n",
       "      <td>Delhi / NCR</td>\n",
       "      <td>Shriram Automall India Limited</td>\n",
       "      <td>2-7 Yrs</td>\n",
       "    </tr>\n",
       "    <tr>\n",
       "      <th>5</th>\n",
       "      <td>Data Scientist</td>\n",
       "      <td>Noida, Gurgaon/Gurugram</td>\n",
       "      <td>Optum Global Solutions (India) Private Limited</td>\n",
       "      <td>2-6 Yrs</td>\n",
       "    </tr>\n",
       "    <tr>\n",
       "      <th>6</th>\n",
       "      <td>Data Scientist</td>\n",
       "      <td>Noida</td>\n",
       "      <td>SVK Global Solutions Private Limited</td>\n",
       "      <td>6-10 Yrs</td>\n",
       "    </tr>\n",
       "    <tr>\n",
       "      <th>7</th>\n",
       "      <td>Data Scientist Internship</td>\n",
       "      <td>New Delhi</td>\n",
       "      <td>iHackers Inc</td>\n",
       "      <td>0-1 Yrs</td>\n",
       "    </tr>\n",
       "    <tr>\n",
       "      <th>8</th>\n",
       "      <td>Data Scientist</td>\n",
       "      <td>Mumbai, Gurgaon/Gurugram, Bangalore/Bengaluru</td>\n",
       "      <td>Fractal Analytics</td>\n",
       "      <td>3-7 Yrs</td>\n",
       "    </tr>\n",
       "    <tr>\n",
       "      <th>9</th>\n",
       "      <td>Project Manager | Team Leader | Senior Data Sc...</td>\n",
       "      <td>Remote</td>\n",
       "      <td>Tidyquant (OPC) Private Limited</td>\n",
       "      <td>2-7 Yrs</td>\n",
       "    </tr>\n",
       "    <tr>\n",
       "      <th>10</th>\n",
       "      <td>Senior Data Scientist</td>\n",
       "      <td>Delhi</td>\n",
       "      <td>iNICU</td>\n",
       "      <td>1-5 Yrs</td>\n",
       "    </tr>\n",
       "  </tbody>\n",
       "</table>\n",
       "</div>"
      ],
      "text/plain": [
       "                                              job tag  \\\n",
       "0                                      Data Scientist   \n",
       "1   Job Opportunity || Data Scientist || HCL Techn...   \n",
       "2                                      Data Scientist   \n",
       "3                                      Data Scientist   \n",
       "4            Urgent Hiring || Data Scientist || Delhi   \n",
       "5                                      Data Scientist   \n",
       "6                                      Data Scientist   \n",
       "7                           Data Scientist Internship   \n",
       "8                                      Data Scientist   \n",
       "9   Project Manager | Team Leader | Senior Data Sc...   \n",
       "10                              Senior Data Scientist   \n",
       "\n",
       "                                         job location  \\\n",
       "0   Kochi/Cochin, Kolkata, Hyderabad/Secunderabad,...   \n",
       "1                                         Delhi / NCR   \n",
       "2                             Noida(Sector-126 Noida)   \n",
       "3                             Noida(Sector-126 Noida)   \n",
       "4                                         Delhi / NCR   \n",
       "5                             Noida, Gurgaon/Gurugram   \n",
       "6                                               Noida   \n",
       "7                                           New Delhi   \n",
       "8       Mumbai, Gurgaon/Gurugram, Bangalore/Bengaluru   \n",
       "9                                              Remote   \n",
       "10                                              Delhi   \n",
       "\n",
       "                                           company  \\\n",
       "0                                          Think i   \n",
       "1                                 HCL Technologies   \n",
       "2                   MoMagic Technologies Pvt. Ltd.   \n",
       "3                   MoMagic Technologies Pvt. Ltd.   \n",
       "4                   Shriram Automall India Limited   \n",
       "5   Optum Global Solutions (India) Private Limited   \n",
       "6             SVK Global Solutions Private Limited   \n",
       "7                                     iHackers Inc   \n",
       "8                                Fractal Analytics   \n",
       "9                  Tidyquant (OPC) Private Limited   \n",
       "10                                           iNICU   \n",
       "\n",
       "   experience needed for the job  \n",
       "0                        0-2 Yrs  \n",
       "1                        4-7 Yrs  \n",
       "2                        4-6 Yrs  \n",
       "3                        4-6 Yrs  \n",
       "4                        2-7 Yrs  \n",
       "5                        2-6 Yrs  \n",
       "6                       6-10 Yrs  \n",
       "7                        0-1 Yrs  \n",
       "8                        3-7 Yrs  \n",
       "9                        2-7 Yrs  \n",
       "10                       1-5 Yrs  "
      ]
     },
     "execution_count": 525,
     "metadata": {},
     "output_type": "execute_result"
    }
   ],
   "source": [
    "jobs_in_delhi"
   ]
  },
  {
   "cell_type": "code",
   "execution_count": 526,
   "id": "e43c9b94",
   "metadata": {},
   "outputs": [],
   "source": [
    "driver3.close()"
   ]
  },
  {
   "cell_type": "markdown",
   "id": "1684234a",
   "metadata": {},
   "source": [
    "# Q4"
   ]
  },
  {
   "cell_type": "code",
   "execution_count": 42,
   "id": "8c17788e",
   "metadata": {
    "scrolled": true
   },
   "outputs": [
    {
     "name": "stdout",
     "output_type": "stream",
     "text": [
      "Requirement already satisfied: selenium in c:\\users\\deep\\anaconda3\\lib\\site-packages (4.0.0)\n",
      "Requirement already satisfied: trio-websocket~=0.9 in c:\\users\\deep\\anaconda3\\lib\\site-packages (from selenium) (0.9.2)\n",
      "Requirement already satisfied: trio~=0.17 in c:\\users\\deep\\anaconda3\\lib\\site-packages (from selenium) (0.19.0)\n",
      "Requirement already satisfied: urllib3[secure]~=1.26 in c:\\users\\deep\\anaconda3\\lib\\site-packages (from selenium) (1.26.4)\n",
      "Requirement already satisfied: cffi>=1.14 in c:\\users\\deep\\anaconda3\\lib\\site-packages (from trio~=0.17->selenium) (1.14.5)\n",
      "Requirement already satisfied: outcome in c:\\users\\deep\\anaconda3\\lib\\site-packages (from trio~=0.17->selenium) (1.1.0)\n",
      "Requirement already satisfied: idna in c:\\users\\deep\\anaconda3\\lib\\site-packages (from trio~=0.17->selenium) (2.10)\n",
      "Requirement already satisfied: attrs>=19.2.0 in c:\\users\\deep\\anaconda3\\lib\\site-packages (from trio~=0.17->selenium) (20.3.0)\n",
      "Requirement already satisfied: async-generator>=1.9 in c:\\users\\deep\\anaconda3\\lib\\site-packages (from trio~=0.17->selenium) (1.10)\n",
      "Requirement already satisfied: sortedcontainers in c:\\users\\deep\\anaconda3\\lib\\site-packages (from trio~=0.17->selenium) (2.3.0)\n",
      "Requirement already satisfied: sniffio in c:\\users\\deep\\anaconda3\\lib\\site-packages (from trio~=0.17->selenium) (1.2.0)\n",
      "Requirement already satisfied: pycparser in c:\\users\\deep\\anaconda3\\lib\\site-packages (from cffi>=1.14->trio~=0.17->selenium) (2.20)\n",
      "Requirement already satisfied: wsproto>=0.14 in c:\\users\\deep\\anaconda3\\lib\\site-packages (from trio-websocket~=0.9->selenium) (1.0.0)\n",
      "Requirement already satisfied: pyOpenSSL>=0.14 in c:\\users\\deep\\anaconda3\\lib\\site-packages (from urllib3[secure]~=1.26->selenium) (20.0.1)\n",
      "Requirement already satisfied: certifi in c:\\users\\deep\\anaconda3\\lib\\site-packages (from urllib3[secure]~=1.26->selenium) (2020.12.5)\n",
      "Requirement already satisfied: cryptography>=1.3.4 in c:\\users\\deep\\anaconda3\\lib\\site-packages (from urllib3[secure]~=1.26->selenium) (3.4.7)\n",
      "Requirement already satisfied: six>=1.5.2 in c:\\users\\deep\\anaconda3\\lib\\site-packages (from pyOpenSSL>=0.14->urllib3[secure]~=1.26->selenium) (1.15.0)\n",
      "Requirement already satisfied: h11<1,>=0.9.0 in c:\\users\\deep\\anaconda3\\lib\\site-packages (from wsproto>=0.14->trio-websocket~=0.9->selenium) (0.12.0)\n"
     ]
    }
   ],
   "source": [
    "!pip install selenium"
   ]
  },
  {
   "cell_type": "code",
   "execution_count": 153,
   "id": "607ea291",
   "metadata": {},
   "outputs": [],
   "source": [
    "import pandas as pd\n",
    "from selenium import webdriver\n",
    "import warnings\n",
    "warnings.filterwarnings('ignore')\n",
    "import selenium"
   ]
  },
  {
   "cell_type": "code",
   "execution_count": 154,
   "id": "601ee6e9",
   "metadata": {},
   "outputs": [],
   "source": [
    "driver4=webdriver.Chrome(r'C:/Users/Deep/Downloads/chromedriver_win32/chromedriver.exe')"
   ]
  },
  {
   "cell_type": "code",
   "execution_count": 155,
   "id": "82ecaabc",
   "metadata": {},
   "outputs": [],
   "source": [
    "driver4.get('https://www.flipkart.com/')"
   ]
  },
  {
   "cell_type": "code",
   "execution_count": 156,
   "id": "ed127985",
   "metadata": {},
   "outputs": [],
   "source": [
    "#removing login page\n",
    "login_remove=driver4.find_element_by_xpath(\"//button[@class='_2KpZ6l _2doB4z']\")\n",
    "login_remove.click()"
   ]
  },
  {
   "cell_type": "code",
   "execution_count": 157,
   "id": "7706d088",
   "metadata": {},
   "outputs": [],
   "source": [
    "search_product=driver4.find_element_by_xpath(\"//input[@class='_3704LK']\")\n",
    "search_product.send_keys('sunglasses')"
   ]
  },
  {
   "cell_type": "code",
   "execution_count": 158,
   "id": "2e847a79",
   "metadata": {},
   "outputs": [],
   "source": [
    "button_search=driver4.find_element_by_xpath(\"//button[@class='L0Z3Pu']\")\n",
    "button_search.click()"
   ]
  },
  {
   "cell_type": "code",
   "execution_count": 159,
   "id": "26d496dd",
   "metadata": {},
   "outputs": [],
   "source": [
    "amount=[]\n",
    "discount=[]\n",
    "company=[]\n",
    "description=[]"
   ]
  },
  {
   "cell_type": "code",
   "execution_count": 161,
   "id": "930d493c",
   "metadata": {},
   "outputs": [
    {
     "data": {
      "text/plain": [
       "['https://www.flipkart.com/search?q=sunglasses&otracker=search&otracker1=search&marketplace=FLIPKART&as-show=on&as=off&page=1',\n",
       " 'https://www.flipkart.com/search?q=sunglasses&otracker=search&otracker1=search&marketplace=FLIPKART&as-show=on&as=off&page=2',\n",
       " 'https://www.flipkart.com/search?q=sunglasses&otracker=search&otracker1=search&marketplace=FLIPKART&as-show=on&as=off&page=3']"
      ]
     },
     "execution_count": 161,
     "metadata": {},
     "output_type": "execute_result"
    }
   ],
   "source": [
    "#opening all the 3 pages simantaneiusly to first scrap the data from all the 3 pages\n",
    "pages=[]\n",
    "li = driver4.find_element_by_xpath('//div[@class=\"_2MImiq\"]/nav/a[1]')\n",
    "pages.append(li.get_attribute('href'))\n",
    "li = driver4.find_element_by_xpath('//div[@class=\"_2MImiq\"]/nav/a[2]')\n",
    "pages.append(li.get_attribute('href'))  \n",
    "li = driver4.find_element_by_xpath('//div[@class=\"_2MImiq\"]/nav/a[3]')\n",
    "pages.append(li.get_attribute('href')) \n",
    "\n",
    "pages"
   ]
  },
  {
   "cell_type": "code",
   "execution_count": 162,
   "id": "c56d73a0",
   "metadata": {},
   "outputs": [],
   "source": [
    "#getting the data we needed with nested for loops\n",
    "for i in pages:\n",
    "    driver4.get(i)\n",
    "    companies=driver4.find_elements_by_xpath(\"//div[@class='_2WkVRV']\")\n",
    "    for i in companies:\n",
    "        company.append(i.text)\n",
    "    product_desc= driver4.find_elements_by_xpath(\"//a[contains(@class,'IRpwTa')]\")\n",
    "    for i in product_desc:\n",
    "        description.append(i.text)\n",
    "    amounts= driver4.find_elements_by_xpath(\"//div[@class='_30jeq3']\")\n",
    "    for i in amounts:\n",
    "        amount.append(i.text)\n",
    "    discounts=driver4.find_elements_by_xpath(\"//div[@class='_3Ay6Sb']\")\n",
    "    for i in discounts:\n",
    "        discount.append(i.text)\n",
    "        "
   ]
  },
  {
   "cell_type": "code",
   "execution_count": 163,
   "id": "2888926f",
   "metadata": {},
   "outputs": [
    {
     "name": "stdout",
     "output_type": "stream",
     "text": [
      "120 120 120 120\n"
     ]
    }
   ],
   "source": [
    "print(len(amount),len(description),len(discount),len(company))"
   ]
  },
  {
   "cell_type": "code",
   "execution_count": 164,
   "id": "61501e07",
   "metadata": {},
   "outputs": [],
   "source": [
    "sunglasses=pd.DataFrame({})\n",
    "sunglasses['price']=amount[0:100]\n",
    "sunglasses['discount']=discount[0:100]\n",
    "sunglasses['company']=company[0:100]\n",
    "sunglasses['specification']=description[0:100]"
   ]
  },
  {
   "cell_type": "code",
   "execution_count": 165,
   "id": "1d2e54dc",
   "metadata": {},
   "outputs": [
    {
     "data": {
      "text/html": [
       "<div>\n",
       "<style scoped>\n",
       "    .dataframe tbody tr th:only-of-type {\n",
       "        vertical-align: middle;\n",
       "    }\n",
       "\n",
       "    .dataframe tbody tr th {\n",
       "        vertical-align: top;\n",
       "    }\n",
       "\n",
       "    .dataframe thead th {\n",
       "        text-align: right;\n",
       "    }\n",
       "</style>\n",
       "<table border=\"1\" class=\"dataframe\">\n",
       "  <thead>\n",
       "    <tr style=\"text-align: right;\">\n",
       "      <th></th>\n",
       "      <th>price</th>\n",
       "      <th>discount</th>\n",
       "      <th>company</th>\n",
       "      <th>specification</th>\n",
       "    </tr>\n",
       "  </thead>\n",
       "  <tbody>\n",
       "    <tr>\n",
       "      <th>0</th>\n",
       "      <td>₹359</td>\n",
       "      <td>76% off</td>\n",
       "      <td>elegante</td>\n",
       "      <td>UV Protection Oval Sunglasses (Free Size)</td>\n",
       "    </tr>\n",
       "    <tr>\n",
       "      <th>1</th>\n",
       "      <td>₹339</td>\n",
       "      <td>83% off</td>\n",
       "      <td>Fravy</td>\n",
       "      <td>UV Protection, Gradient, Night Vision Retro Sq...</td>\n",
       "    </tr>\n",
       "    <tr>\n",
       "      <th>2</th>\n",
       "      <td>₹276</td>\n",
       "      <td>83% off</td>\n",
       "      <td>SUNBEE</td>\n",
       "      <td>UV Protection, Polarized, Mirrored Round Sungl...</td>\n",
       "    </tr>\n",
       "    <tr>\n",
       "      <th>3</th>\n",
       "      <td>₹513</td>\n",
       "      <td>35% off</td>\n",
       "      <td>Fastrack</td>\n",
       "      <td>UV Protection Rectangular Sunglasses (Free Size)</td>\n",
       "    </tr>\n",
       "    <tr>\n",
       "      <th>4</th>\n",
       "      <td>₹248</td>\n",
       "      <td>90% off</td>\n",
       "      <td>Elligator</td>\n",
       "      <td>UV Protection Round Sunglasses (54)</td>\n",
       "    </tr>\n",
       "    <tr>\n",
       "      <th>...</th>\n",
       "      <td>...</td>\n",
       "      <td>...</td>\n",
       "      <td>...</td>\n",
       "      <td>...</td>\n",
       "    </tr>\n",
       "    <tr>\n",
       "      <th>95</th>\n",
       "      <td>₹229</td>\n",
       "      <td>67% off</td>\n",
       "      <td>Singco India</td>\n",
       "      <td>UV Protection, Riding Glasses, Others Aviator,...</td>\n",
       "    </tr>\n",
       "    <tr>\n",
       "      <th>96</th>\n",
       "      <td>₹503</td>\n",
       "      <td>37% off</td>\n",
       "      <td>Fastrack</td>\n",
       "      <td>UV Protection Wayfarer Sunglasses (57)</td>\n",
       "    </tr>\n",
       "    <tr>\n",
       "      <th>97</th>\n",
       "      <td>₹295</td>\n",
       "      <td>85% off</td>\n",
       "      <td>GANSTA</td>\n",
       "      <td>UV Protection, Night Vision, Riding Glasses Av...</td>\n",
       "    </tr>\n",
       "    <tr>\n",
       "      <th>98</th>\n",
       "      <td>₹554</td>\n",
       "      <td>72% off</td>\n",
       "      <td>Singco</td>\n",
       "      <td>UV Protection Aviator Sunglasses (Free Size)</td>\n",
       "    </tr>\n",
       "    <tr>\n",
       "      <th>99</th>\n",
       "      <td>₹269</td>\n",
       "      <td>86% off</td>\n",
       "      <td>GANSTA</td>\n",
       "      <td>UV Protection Aviator Sunglasses (57)</td>\n",
       "    </tr>\n",
       "  </tbody>\n",
       "</table>\n",
       "<p>100 rows × 4 columns</p>\n",
       "</div>"
      ],
      "text/plain": [
       "   price discount       company  \\\n",
       "0   ₹359  76% off      elegante   \n",
       "1   ₹339  83% off         Fravy   \n",
       "2   ₹276  83% off        SUNBEE   \n",
       "3   ₹513  35% off      Fastrack   \n",
       "4   ₹248  90% off     Elligator   \n",
       "..   ...      ...           ...   \n",
       "95  ₹229  67% off  Singco India   \n",
       "96  ₹503  37% off      Fastrack   \n",
       "97  ₹295  85% off        GANSTA   \n",
       "98  ₹554  72% off        Singco   \n",
       "99  ₹269  86% off        GANSTA   \n",
       "\n",
       "                                        specification  \n",
       "0           UV Protection Oval Sunglasses (Free Size)  \n",
       "1   UV Protection, Gradient, Night Vision Retro Sq...  \n",
       "2   UV Protection, Polarized, Mirrored Round Sungl...  \n",
       "3    UV Protection Rectangular Sunglasses (Free Size)  \n",
       "4                 UV Protection Round Sunglasses (54)  \n",
       "..                                                ...  \n",
       "95  UV Protection, Riding Glasses, Others Aviator,...  \n",
       "96             UV Protection Wayfarer Sunglasses (57)  \n",
       "97  UV Protection, Night Vision, Riding Glasses Av...  \n",
       "98       UV Protection Aviator Sunglasses (Free Size)  \n",
       "99              UV Protection Aviator Sunglasses (57)  \n",
       "\n",
       "[100 rows x 4 columns]"
      ]
     },
     "execution_count": 165,
     "metadata": {},
     "output_type": "execute_result"
    }
   ],
   "source": [
    "sunglasses"
   ]
  },
  {
   "cell_type": "code",
   "execution_count": 166,
   "id": "da1f3b54",
   "metadata": {},
   "outputs": [],
   "source": [
    "driver4.close()"
   ]
  },
  {
   "cell_type": "markdown",
   "id": "b99073a0",
   "metadata": {},
   "source": [
    "# Q5"
   ]
  },
  {
   "cell_type": "code",
   "execution_count": 25,
   "id": "980441e4",
   "metadata": {},
   "outputs": [
    {
     "name": "stdout",
     "output_type": "stream",
     "text": [
      "Requirement already satisfied: selenium in c:\\users\\deep\\anaconda3\\lib\\site-packages (4.0.0)\n",
      "Requirement already satisfied: trio-websocket~=0.9 in c:\\users\\deep\\anaconda3\\lib\\site-packages (from selenium) (0.9.2)\n",
      "Requirement already satisfied: trio~=0.17 in c:\\users\\deep\\anaconda3\\lib\\site-packages (from selenium) (0.19.0)\n",
      "Requirement already satisfied: urllib3[secure]~=1.26 in c:\\users\\deep\\anaconda3\\lib\\site-packages (from selenium) (1.26.4)\n",
      "Requirement already satisfied: sortedcontainers in c:\\users\\deep\\anaconda3\\lib\\site-packages (from trio~=0.17->selenium) (2.3.0)\n",
      "Requirement already satisfied: cffi>=1.14 in c:\\users\\deep\\anaconda3\\lib\\site-packages (from trio~=0.17->selenium) (1.14.5)\n",
      "Requirement already satisfied: outcome in c:\\users\\deep\\anaconda3\\lib\\site-packages (from trio~=0.17->selenium) (1.1.0)\n",
      "Requirement already satisfied: attrs>=19.2.0 in c:\\users\\deep\\anaconda3\\lib\\site-packages (from trio~=0.17->selenium) (20.3.0)\n",
      "Requirement already satisfied: idna in c:\\users\\deep\\anaconda3\\lib\\site-packages (from trio~=0.17->selenium) (2.10)\n",
      "Requirement already satisfied: sniffio in c:\\users\\deep\\anaconda3\\lib\\site-packages (from trio~=0.17->selenium) (1.2.0)\n",
      "Requirement already satisfied: async-generator>=1.9 in c:\\users\\deep\\anaconda3\\lib\\site-packages (from trio~=0.17->selenium) (1.10)\n",
      "Requirement already satisfied: pycparser in c:\\users\\deep\\anaconda3\\lib\\site-packages (from cffi>=1.14->trio~=0.17->selenium) (2.20)\n",
      "Requirement already satisfied: wsproto>=0.14 in c:\\users\\deep\\anaconda3\\lib\\site-packages (from trio-websocket~=0.9->selenium) (1.0.0)\n",
      "Requirement already satisfied: cryptography>=1.3.4 in c:\\users\\deep\\anaconda3\\lib\\site-packages (from urllib3[secure]~=1.26->selenium) (3.4.7)\n",
      "Requirement already satisfied: pyOpenSSL>=0.14 in c:\\users\\deep\\anaconda3\\lib\\site-packages (from urllib3[secure]~=1.26->selenium) (20.0.1)\n",
      "Requirement already satisfied: certifi in c:\\users\\deep\\anaconda3\\lib\\site-packages (from urllib3[secure]~=1.26->selenium) (2020.12.5)\n",
      "Requirement already satisfied: six>=1.5.2 in c:\\users\\deep\\anaconda3\\lib\\site-packages (from pyOpenSSL>=0.14->urllib3[secure]~=1.26->selenium) (1.15.0)\n",
      "Requirement already satisfied: h11<1,>=0.9.0 in c:\\users\\deep\\anaconda3\\lib\\site-packages (from wsproto>=0.14->trio-websocket~=0.9->selenium) (0.12.0)\n"
     ]
    }
   ],
   "source": [
    "!pip install selenium"
   ]
  },
  {
   "cell_type": "code",
   "execution_count": 26,
   "id": "e13c0707",
   "metadata": {},
   "outputs": [],
   "source": [
    "import pandas as pd\n",
    "import selenium\n",
    "from selenium import webdriver\n",
    "import warnings\n",
    "warnings.filterwarnings('ignore')"
   ]
  },
  {
   "cell_type": "code",
   "execution_count": 27,
   "id": "48bb460b",
   "metadata": {},
   "outputs": [],
   "source": [
    "driver5=webdriver.Chrome(r'C:/Users/Deep/Downloads/chromedriver_win32/chromedriver.exe')"
   ]
  },
  {
   "cell_type": "code",
   "execution_count": 28,
   "id": "f66c0b5c",
   "metadata": {},
   "outputs": [],
   "source": [
    "driver5.get('https://www.flipkart.com/apple-iphone-11-black-64-gb-includes-earpods-power-adapter/p/itm0f37c2240b217?pid=MOBFKCTSVZAXUHGR&lid=LSTMOBFKCTSVZAXUHGREPBFGI&marketplace')"
   ]
  },
  {
   "cell_type": "code",
   "execution_count": 29,
   "id": "d238630d",
   "metadata": {},
   "outputs": [],
   "source": [
    "search_all_reviews=driver5.find_element_by_xpath(\"//div[@class='_3UAT2v _16PBlm']\")\n",
    "search_all_reviews.click()"
   ]
  },
  {
   "cell_type": "code",
   "execution_count": 30,
   "id": "39df4a61",
   "metadata": {},
   "outputs": [],
   "source": [
    "rating=[]\n",
    "review=[]\n",
    "full_review=[]"
   ]
  },
  {
   "cell_type": "code",
   "execution_count": 31,
   "id": "fff314bd",
   "metadata": {},
   "outputs": [
    {
     "data": {
      "text/plain": [
       "['https://www.flipkart.com/apple-iphone-11-black-64-gb-includes-earpods-power-adapter/product-reviews/itm0f37c2240b217?pid=MOBFKCTSVZAXUHGR&lid=LSTMOBFKCTSVZAXUHGREPBFGI&marketplace=FLIPKART&page=0',\n",
       " 'https://www.flipkart.com/apple-iphone-11-black-64-gb-includes-earpods-power-adapter/product-reviews/itm0f37c2240b217?pid=MOBFKCTSVZAXUHGR&lid=LSTMOBFKCTSVZAXUHGREPBFGI&marketplace=FLIPKART&page=1',\n",
       " 'https://www.flipkart.com/apple-iphone-11-black-64-gb-includes-earpods-power-adapter/product-reviews/itm0f37c2240b217?pid=MOBFKCTSVZAXUHGR&lid=LSTMOBFKCTSVZAXUHGREPBFGI&marketplace=FLIPKART&page=2',\n",
       " 'https://www.flipkart.com/apple-iphone-11-black-64-gb-includes-earpods-power-adapter/product-reviews/itm0f37c2240b217?pid=MOBFKCTSVZAXUHGR&lid=LSTMOBFKCTSVZAXUHGREPBFGI&marketplace=FLIPKART&page=3',\n",
       " 'https://www.flipkart.com/apple-iphone-11-black-64-gb-includes-earpods-power-adapter/product-reviews/itm0f37c2240b217?pid=MOBFKCTSVZAXUHGR&lid=LSTMOBFKCTSVZAXUHGREPBFGI&marketplace=FLIPKART&page=4',\n",
       " 'https://www.flipkart.com/apple-iphone-11-black-64-gb-includes-earpods-power-adapter/product-reviews/itm0f37c2240b217?pid=MOBFKCTSVZAXUHGR&lid=LSTMOBFKCTSVZAXUHGREPBFGI&marketplace=FLIPKART&page=5',\n",
       " 'https://www.flipkart.com/apple-iphone-11-black-64-gb-includes-earpods-power-adapter/product-reviews/itm0f37c2240b217?pid=MOBFKCTSVZAXUHGR&lid=LSTMOBFKCTSVZAXUHGREPBFGI&marketplace=FLIPKART&page=6',\n",
       " 'https://www.flipkart.com/apple-iphone-11-black-64-gb-includes-earpods-power-adapter/product-reviews/itm0f37c2240b217?pid=MOBFKCTSVZAXUHGR&lid=LSTMOBFKCTSVZAXUHGREPBFGI&marketplace=FLIPKART&page=7',\n",
       " 'https://www.flipkart.com/apple-iphone-11-black-64-gb-includes-earpods-power-adapter/product-reviews/itm0f37c2240b217?pid=MOBFKCTSVZAXUHGR&lid=LSTMOBFKCTSVZAXUHGREPBFGI&marketplace=FLIPKART&page=8',\n",
       " 'https://www.flipkart.com/apple-iphone-11-black-64-gb-includes-earpods-power-adapter/product-reviews/itm0f37c2240b217?pid=MOBFKCTSVZAXUHGR&lid=LSTMOBFKCTSVZAXUHGREPBFGI&marketplace=FLIPKART&page=9',\n",
       " 'https://www.flipkart.com/apple-iphone-11-black-64-gb-includes-earpods-power-adapter/product-reviews/itm0f37c2240b217?pid=MOBFKCTSVZAXUHGR&lid=LSTMOBFKCTSVZAXUHGREPBFGI&marketplace=FLIPKART&page=10',\n",
       " 'https://www.flipkart.com/apple-iphone-11-black-64-gb-includes-earpods-power-adapter/product-reviews/itm0f37c2240b217?pid=MOBFKCTSVZAXUHGR&lid=LSTMOBFKCTSVZAXUHGREPBFGI&marketplace=FLIPKART&page=11']"
      ]
     },
     "execution_count": 31,
     "metadata": {},
     "output_type": "execute_result"
    }
   ],
   "source": [
    "#opening all the 12 pages simantaneously to first scrap the data we needed\n",
    "all_pages=[]\n",
    "total_pages=12\n",
    "for i in range(0,total_pages):\n",
    "    page=f\"https://www.flipkart.com/apple-iphone-11-black-64-gb-includes-earpods-power-adapter/product-reviews/itm0f37c2240b217?pid=MOBFKCTSVZAXUHGR&lid=LSTMOBFKCTSVZAXUHGREPBFGI&marketplace=FLIPKART&page={i}\"\n",
    "    all_pages.append(page)\n",
    "\n",
    "all_pages"
   ]
  },
  {
   "cell_type": "code",
   "execution_count": 32,
   "id": "7d1d01e6",
   "metadata": {},
   "outputs": [],
   "source": [
    "#getting all the data needed with nested for loops\n",
    "for i in all_pages:\n",
    "    driver5.get(i)\n",
    "    rate=driver5.find_elements_by_xpath(\"//div[@class='_3LWZlK _1BLPMq']\")\n",
    "    for i in rate:\n",
    "        rating.append(i.text)\n",
    "    re=driver5.find_elements_by_xpath(\"//p[@class='_2-N8zT']\")\n",
    "    for i in re:\n",
    "        review.append(i.text)\n",
    "    full_re=driver5.find_elements_by_xpath(\"//div[@class='t-ZTKy']\")\n",
    "    for i in full_re:\n",
    "        full_review.append(i.text)"
   ]
  },
  {
   "cell_type": "code",
   "execution_count": 33,
   "id": "cba0e248",
   "metadata": {},
   "outputs": [
    {
     "name": "stdout",
     "output_type": "stream",
     "text": [
      "107 110 110\n"
     ]
    }
   ],
   "source": [
    "print(len(rating),len(review),len(full_review))"
   ]
  },
  {
   "cell_type": "code",
   "execution_count": 34,
   "id": "bc599f77",
   "metadata": {
    "scrolled": true
   },
   "outputs": [],
   "source": [
    "iphone_reviews=pd.DataFrame({})\n",
    "iphone_reviews['ratings']=rating[0:100]\n",
    "iphone_reviews['reviews']=review[0:100]\n",
    "iphone_reviews['full_reviews']=full_review[0:100]"
   ]
  },
  {
   "cell_type": "code",
   "execution_count": 35,
   "id": "e049dc80",
   "metadata": {},
   "outputs": [
    {
     "data": {
      "text/html": [
       "<div>\n",
       "<style scoped>\n",
       "    .dataframe tbody tr th:only-of-type {\n",
       "        vertical-align: middle;\n",
       "    }\n",
       "\n",
       "    .dataframe tbody tr th {\n",
       "        vertical-align: top;\n",
       "    }\n",
       "\n",
       "    .dataframe thead th {\n",
       "        text-align: right;\n",
       "    }\n",
       "</style>\n",
       "<table border=\"1\" class=\"dataframe\">\n",
       "  <thead>\n",
       "    <tr style=\"text-align: right;\">\n",
       "      <th></th>\n",
       "      <th>ratings</th>\n",
       "      <th>reviews</th>\n",
       "      <th>full_reviews</th>\n",
       "    </tr>\n",
       "  </thead>\n",
       "  <tbody>\n",
       "    <tr>\n",
       "      <th>0</th>\n",
       "      <td>5</td>\n",
       "      <td>Brilliant</td>\n",
       "      <td>The Best Phone for the Money\\n\\nThe iPhone 11 ...</td>\n",
       "    </tr>\n",
       "    <tr>\n",
       "      <th>1</th>\n",
       "      <td>5</td>\n",
       "      <td>Simply awesome</td>\n",
       "      <td>Really satisfied with the Product I received.....</td>\n",
       "    </tr>\n",
       "    <tr>\n",
       "      <th>2</th>\n",
       "      <td>5</td>\n",
       "      <td>Perfect product!</td>\n",
       "      <td>Amazing phone with great cameras and better ba...</td>\n",
       "    </tr>\n",
       "    <tr>\n",
       "      <th>3</th>\n",
       "      <td>5</td>\n",
       "      <td>Worth every penny</td>\n",
       "      <td>Previously I was using one plus 3t it was a gr...</td>\n",
       "    </tr>\n",
       "    <tr>\n",
       "      <th>4</th>\n",
       "      <td>5</td>\n",
       "      <td>Fabulous!</td>\n",
       "      <td>This is my first iOS phone. I am very happy wi...</td>\n",
       "    </tr>\n",
       "    <tr>\n",
       "      <th>...</th>\n",
       "      <td>...</td>\n",
       "      <td>...</td>\n",
       "      <td>...</td>\n",
       "    </tr>\n",
       "    <tr>\n",
       "      <th>95</th>\n",
       "      <td>5</td>\n",
       "      <td>Super!</td>\n",
       "      <td>This is my first ever iPhone.\\nAnd I truly don...</td>\n",
       "    </tr>\n",
       "    <tr>\n",
       "      <th>96</th>\n",
       "      <td>3</td>\n",
       "      <td>Just wow!</td>\n",
       "      <td>The ultimate performance\\nCamera is superb\\nTh...</td>\n",
       "    </tr>\n",
       "    <tr>\n",
       "      <th>97</th>\n",
       "      <td>5</td>\n",
       "      <td>Terrific purchase</td>\n",
       "      <td>I use a Note10+ and have been using both iOS a...</td>\n",
       "    </tr>\n",
       "    <tr>\n",
       "      <th>98</th>\n",
       "      <td>5</td>\n",
       "      <td>Awesome</td>\n",
       "      <td>The phone is completely good\\nAs far as camera...</td>\n",
       "    </tr>\n",
       "    <tr>\n",
       "      <th>99</th>\n",
       "      <td>5</td>\n",
       "      <td>Decent product</td>\n",
       "      <td>Everything u ll like it when u use this iPhone...</td>\n",
       "    </tr>\n",
       "  </tbody>\n",
       "</table>\n",
       "<p>100 rows × 3 columns</p>\n",
       "</div>"
      ],
      "text/plain": [
       "   ratings            reviews  \\\n",
       "0        5          Brilliant   \n",
       "1        5     Simply awesome   \n",
       "2        5   Perfect product!   \n",
       "3        5  Worth every penny   \n",
       "4        5          Fabulous!   \n",
       "..     ...                ...   \n",
       "95       5             Super!   \n",
       "96       3          Just wow!   \n",
       "97       5  Terrific purchase   \n",
       "98       5            Awesome   \n",
       "99       5     Decent product   \n",
       "\n",
       "                                         full_reviews  \n",
       "0   The Best Phone for the Money\\n\\nThe iPhone 11 ...  \n",
       "1   Really satisfied with the Product I received.....  \n",
       "2   Amazing phone with great cameras and better ba...  \n",
       "3   Previously I was using one plus 3t it was a gr...  \n",
       "4   This is my first iOS phone. I am very happy wi...  \n",
       "..                                                ...  \n",
       "95  This is my first ever iPhone.\\nAnd I truly don...  \n",
       "96  The ultimate performance\\nCamera is superb\\nTh...  \n",
       "97  I use a Note10+ and have been using both iOS a...  \n",
       "98  The phone is completely good\\nAs far as camera...  \n",
       "99  Everything u ll like it when u use this iPhone...  \n",
       "\n",
       "[100 rows x 3 columns]"
      ]
     },
     "execution_count": 35,
     "metadata": {},
     "output_type": "execute_result"
    }
   ],
   "source": [
    "iphone_reviews"
   ]
  },
  {
   "cell_type": "code",
   "execution_count": 36,
   "id": "9c9f6a2f",
   "metadata": {},
   "outputs": [],
   "source": [
    "driver5.close()"
   ]
  },
  {
   "cell_type": "markdown",
   "id": "fe085c3b",
   "metadata": {},
   "source": [
    "# Q6"
   ]
  },
  {
   "cell_type": "code",
   "execution_count": 137,
   "id": "b50a9eb4",
   "metadata": {},
   "outputs": [
    {
     "name": "stdout",
     "output_type": "stream",
     "text": [
      "Requirement already satisfied: selenium in c:\\users\\deep\\anaconda3\\lib\\site-packages (4.0.0)\n",
      "Requirement already satisfied: trio~=0.17 in c:\\users\\deep\\anaconda3\\lib\\site-packages (from selenium) (0.19.0)\n",
      "Requirement already satisfied: trio-websocket~=0.9 in c:\\users\\deep\\anaconda3\\lib\\site-packages (from selenium) (0.9.2)\n",
      "Requirement already satisfied: urllib3[secure]~=1.26 in c:\\users\\deep\\anaconda3\\lib\\site-packages (from selenium) (1.26.4)\n",
      "Requirement already satisfied: idna in c:\\users\\deep\\anaconda3\\lib\\site-packages (from trio~=0.17->selenium) (2.10)\n",
      "Requirement already satisfied: sniffio in c:\\users\\deep\\anaconda3\\lib\\site-packages (from trio~=0.17->selenium) (1.2.0)\n",
      "Requirement already satisfied: outcome in c:\\users\\deep\\anaconda3\\lib\\site-packages (from trio~=0.17->selenium) (1.1.0)\n",
      "Requirement already satisfied: attrs>=19.2.0 in c:\\users\\deep\\anaconda3\\lib\\site-packages (from trio~=0.17->selenium) (20.3.0)\n",
      "Requirement already satisfied: cffi>=1.14 in c:\\users\\deep\\anaconda3\\lib\\site-packages (from trio~=0.17->selenium) (1.14.5)\n",
      "Requirement already satisfied: async-generator>=1.9 in c:\\users\\deep\\anaconda3\\lib\\site-packages (from trio~=0.17->selenium) (1.10)\n",
      "Requirement already satisfied: sortedcontainers in c:\\users\\deep\\anaconda3\\lib\\site-packages (from trio~=0.17->selenium) (2.3.0)\n",
      "Requirement already satisfied: pycparser in c:\\users\\deep\\anaconda3\\lib\\site-packages (from cffi>=1.14->trio~=0.17->selenium) (2.20)\n",
      "Requirement already satisfied: wsproto>=0.14 in c:\\users\\deep\\anaconda3\\lib\\site-packages (from trio-websocket~=0.9->selenium) (1.0.0)\n",
      "Requirement already satisfied: cryptography>=1.3.4 in c:\\users\\deep\\anaconda3\\lib\\site-packages (from urllib3[secure]~=1.26->selenium) (3.4.7)\n",
      "Requirement already satisfied: certifi in c:\\users\\deep\\anaconda3\\lib\\site-packages (from urllib3[secure]~=1.26->selenium) (2020.12.5)\n",
      "Requirement already satisfied: pyOpenSSL>=0.14 in c:\\users\\deep\\anaconda3\\lib\\site-packages (from urllib3[secure]~=1.26->selenium) (20.0.1)\n",
      "Requirement already satisfied: six>=1.5.2 in c:\\users\\deep\\anaconda3\\lib\\site-packages (from pyOpenSSL>=0.14->urllib3[secure]~=1.26->selenium) (1.15.0)\n",
      "Requirement already satisfied: h11<1,>=0.9.0 in c:\\users\\deep\\anaconda3\\lib\\site-packages (from wsproto>=0.14->trio-websocket~=0.9->selenium) (0.12.0)\n"
     ]
    }
   ],
   "source": [
    "!pip install selenium"
   ]
  },
  {
   "cell_type": "code",
   "execution_count": 138,
   "id": "fe950c71",
   "metadata": {},
   "outputs": [],
   "source": [
    "import pandas as pd\n",
    "import selenium\n",
    "from selenium import webdriver\n",
    "import warnings\n",
    "warnings.filterwarnings('ignore')"
   ]
  },
  {
   "cell_type": "code",
   "execution_count": 139,
   "id": "fa7c9987",
   "metadata": {},
   "outputs": [],
   "source": [
    "driver6=webdriver.Chrome(r'C:/Users/Deep/Downloads/chromedriver_win32/chromedriver.exe')"
   ]
  },
  {
   "cell_type": "code",
   "execution_count": 140,
   "id": "e8149021",
   "metadata": {},
   "outputs": [],
   "source": [
    "driver6.get('https://www.flipkart.com/')"
   ]
  },
  {
   "cell_type": "code",
   "execution_count": 141,
   "id": "971d8b9c",
   "metadata": {},
   "outputs": [],
   "source": [
    "#removing login page\n",
    "cut_login=driver6.find_element_by_xpath(\"//button[@class='_2KpZ6l _2doB4z']\")\n",
    "cut_login.click()"
   ]
  },
  {
   "cell_type": "code",
   "execution_count": 142,
   "id": "23dc5e4d",
   "metadata": {},
   "outputs": [],
   "source": [
    "write_sneak=driver6.find_element_by_xpath(\"//input[@class='_3704LK']\")\n",
    "write_sneak.send_keys('sneakers')"
   ]
  },
  {
   "cell_type": "code",
   "execution_count": 143,
   "id": "f6a1489e",
   "metadata": {},
   "outputs": [],
   "source": [
    "search_sneak=driver6.find_element_by_xpath(\"//button[@class='L0Z3Pu']\")\n",
    "search_sneak.click()"
   ]
  },
  {
   "cell_type": "code",
   "execution_count": 144,
   "id": "2b66dc09",
   "metadata": {},
   "outputs": [],
   "source": [
    "p_o_s=[]\n",
    "c_o_s=[]\n",
    "decrip=[]\n",
    "disc=[]"
   ]
  },
  {
   "cell_type": "code",
   "execution_count": 146,
   "id": "a2542e8b",
   "metadata": {},
   "outputs": [
    {
     "data": {
      "text/plain": [
       "['https://www.flipkart.com/search?q=sneakers&otracker=search&otracker1=search&marketplace=FLIPKART&as-show=off&as=off&page=1',\n",
       " 'https://www.flipkart.com/search?q=sneakers&otracker=search&otracker1=search&marketplace=FLIPKART&as-show=off&as=off&page=2',\n",
       " 'https://www.flipkart.com/search?q=sneakers&otracker=search&otracker1=search&marketplace=FLIPKART&as-show=off&as=off&page=3']"
      ]
     },
     "execution_count": 146,
     "metadata": {},
     "output_type": "execute_result"
    }
   ],
   "source": [
    "sneaker_pages=[]\n",
    "li=driver6.find_element_by_xpath(\"//div[@class='_2MImiq']/nav/a[1]\")\n",
    "sneaker_pages.append(li.get_attribute('href'))\n",
    "li=driver6.find_element_by_xpath(\"//div[@class='_2MImiq']/nav/a[2]\")\n",
    "sneaker_pages.append(li.get_attribute('href'))\n",
    "li=driver6.find_element_by_xpath(\"//div[@class='_2MImiq']/nav/a[3]\")\n",
    "sneaker_pages.append(li.get_attribute('href'))\n",
    "\n",
    "\n",
    "sneaker_pages"
   ]
  },
  {
   "cell_type": "code",
   "execution_count": 147,
   "id": "80ec32a0",
   "metadata": {},
   "outputs": [],
   "source": [
    "for i in sneaker_pages:\n",
    "    driver6.get(i)\n",
    "    companies_s=driver6.find_elements_by_xpath(\"//div[@class='_2WkVRV']\")\n",
    "    for i in companies_s:\n",
    "        c_o_s.append(i.text)\n",
    "    amt_s=driver6.find_elements_by_xpath(\"//div[@class='_30jeq3']\")\n",
    "    for i in amt_s:\n",
    "        p_o_s.append(i.text)\n",
    "    pd_desc=driver6.find_elements_by_xpath(\"//a[contains (@class,'IRpwTa')]\")\n",
    "    for i in pd_desc:\n",
    "        decrip.append(i.text)\n",
    "    off=driver6.find_elements_by_xpath(\"//div[@class='_3Ay6Sb']\")\n",
    "    for i in off:\n",
    "        disc.append(i.text)\n",
    "        "
   ]
  },
  {
   "cell_type": "code",
   "execution_count": 148,
   "id": "52724c9c",
   "metadata": {},
   "outputs": [
    {
     "name": "stdout",
     "output_type": "stream",
     "text": [
      "120 120 120 120\n"
     ]
    }
   ],
   "source": [
    "print(len(c_o_s),len(p_o_s),len(decrip),len(disc))"
   ]
  },
  {
   "cell_type": "code",
   "execution_count": 149,
   "id": "952be319",
   "metadata": {},
   "outputs": [],
   "source": [
    "sneakers=pd.DataFrame({})\n",
    "sneakers['company of sneaker']=c_o_s[0:100]\n",
    "sneakers['price of sneaker']=p_o_s[0:100]\n",
    "sneakers['description']=decrip[0:100]\n",
    "sneakers['discount']=disc[0:100]"
   ]
  },
  {
   "cell_type": "code",
   "execution_count": 150,
   "id": "dec4666d",
   "metadata": {},
   "outputs": [
    {
     "data": {
      "text/html": [
       "<div>\n",
       "<style scoped>\n",
       "    .dataframe tbody tr th:only-of-type {\n",
       "        vertical-align: middle;\n",
       "    }\n",
       "\n",
       "    .dataframe tbody tr th {\n",
       "        vertical-align: top;\n",
       "    }\n",
       "\n",
       "    .dataframe thead th {\n",
       "        text-align: right;\n",
       "    }\n",
       "</style>\n",
       "<table border=\"1\" class=\"dataframe\">\n",
       "  <thead>\n",
       "    <tr style=\"text-align: right;\">\n",
       "      <th></th>\n",
       "      <th>company of sneaker</th>\n",
       "      <th>price of sneaker</th>\n",
       "      <th>description</th>\n",
       "      <th>discount</th>\n",
       "    </tr>\n",
       "  </thead>\n",
       "  <tbody>\n",
       "    <tr>\n",
       "      <th>0</th>\n",
       "      <td>BIRDE</td>\n",
       "      <td>₹299</td>\n",
       "      <td>Sports Shoes Sneakers For Men</td>\n",
       "      <td>70% off</td>\n",
       "    </tr>\n",
       "    <tr>\n",
       "      <th>1</th>\n",
       "      <td>Neeman's</td>\n",
       "      <td>₹2,399</td>\n",
       "      <td>Sneakers For Men</td>\n",
       "      <td>20% off</td>\n",
       "    </tr>\n",
       "    <tr>\n",
       "      <th>2</th>\n",
       "      <td>Numenzo</td>\n",
       "      <td>₹499</td>\n",
       "      <td>411 Casual Sneakers For Men</td>\n",
       "      <td>75% off</td>\n",
       "    </tr>\n",
       "    <tr>\n",
       "      <th>3</th>\n",
       "      <td>Magnolia</td>\n",
       "      <td>₹419</td>\n",
       "      <td>Sneakers For Men</td>\n",
       "      <td>58% off</td>\n",
       "    </tr>\n",
       "    <tr>\n",
       "      <th>4</th>\n",
       "      <td>Numenzo</td>\n",
       "      <td>₹479</td>\n",
       "      <td>Sneakers For Men</td>\n",
       "      <td>63% off</td>\n",
       "    </tr>\n",
       "    <tr>\n",
       "      <th>...</th>\n",
       "      <td>...</td>\n",
       "      <td>...</td>\n",
       "      <td>...</td>\n",
       "      <td>...</td>\n",
       "    </tr>\n",
       "    <tr>\n",
       "      <th>95</th>\n",
       "      <td>Oxelo</td>\n",
       "      <td>₹1,424</td>\n",
       "      <td>by Decathlon Sneakers For Men</td>\n",
       "      <td>28% off</td>\n",
       "    </tr>\n",
       "    <tr>\n",
       "      <th>96</th>\n",
       "      <td>OUTALYFE</td>\n",
       "      <td>₹414</td>\n",
       "      <td>Sneakers For Men</td>\n",
       "      <td>58% off</td>\n",
       "    </tr>\n",
       "    <tr>\n",
       "      <th>97</th>\n",
       "      <td>Robbie jones</td>\n",
       "      <td>₹499</td>\n",
       "      <td>Casual Sneakers White Shoes For Men Sneakers F...</td>\n",
       "      <td>50% off</td>\n",
       "    </tr>\n",
       "    <tr>\n",
       "      <th>98</th>\n",
       "      <td>ESSENCE</td>\n",
       "      <td>₹497</td>\n",
       "      <td>New Trendy Sneakers For Men</td>\n",
       "      <td>50% off</td>\n",
       "    </tr>\n",
       "    <tr>\n",
       "      <th>99</th>\n",
       "      <td>Absolutee shoes</td>\n",
       "      <td>₹492</td>\n",
       "      <td>Sneakers For Men</td>\n",
       "      <td>50% off</td>\n",
       "    </tr>\n",
       "  </tbody>\n",
       "</table>\n",
       "<p>100 rows × 4 columns</p>\n",
       "</div>"
      ],
      "text/plain": [
       "   company of sneaker price of sneaker  \\\n",
       "0               BIRDE             ₹299   \n",
       "1            Neeman's           ₹2,399   \n",
       "2             Numenzo             ₹499   \n",
       "3            Magnolia             ₹419   \n",
       "4             Numenzo             ₹479   \n",
       "..                ...              ...   \n",
       "95              Oxelo           ₹1,424   \n",
       "96           OUTALYFE             ₹414   \n",
       "97       Robbie jones             ₹499   \n",
       "98            ESSENCE             ₹497   \n",
       "99    Absolutee shoes             ₹492   \n",
       "\n",
       "                                          description discount  \n",
       "0                       Sports Shoes Sneakers For Men  70% off  \n",
       "1                                    Sneakers For Men  20% off  \n",
       "2                         411 Casual Sneakers For Men  75% off  \n",
       "3                                    Sneakers For Men  58% off  \n",
       "4                                    Sneakers For Men  63% off  \n",
       "..                                                ...      ...  \n",
       "95                      by Decathlon Sneakers For Men  28% off  \n",
       "96                                   Sneakers For Men  58% off  \n",
       "97  Casual Sneakers White Shoes For Men Sneakers F...  50% off  \n",
       "98                        New Trendy Sneakers For Men  50% off  \n",
       "99                                   Sneakers For Men  50% off  \n",
       "\n",
       "[100 rows x 4 columns]"
      ]
     },
     "execution_count": 150,
     "metadata": {},
     "output_type": "execute_result"
    }
   ],
   "source": [
    "sneakers"
   ]
  },
  {
   "cell_type": "markdown",
   "id": "58007867",
   "metadata": {},
   "source": [
    "# Q7"
   ]
  },
  {
   "cell_type": "code",
   "execution_count": 77,
   "id": "ca047aeb",
   "metadata": {},
   "outputs": [
    {
     "name": "stdout",
     "output_type": "stream",
     "text": [
      "Requirement already satisfied: selenium in c:\\users\\deep\\anaconda3\\lib\\site-packages (4.0.0)\n",
      "Requirement already satisfied: trio-websocket~=0.9 in c:\\users\\deep\\anaconda3\\lib\\site-packages (from selenium) (0.9.2)\n",
      "Requirement already satisfied: urllib3[secure]~=1.26 in c:\\users\\deep\\anaconda3\\lib\\site-packages (from selenium) (1.26.4)\n",
      "Requirement already satisfied: trio~=0.17 in c:\\users\\deep\\anaconda3\\lib\\site-packages (from selenium) (0.19.0)\n",
      "Requirement already satisfied: sortedcontainers in c:\\users\\deep\\anaconda3\\lib\\site-packages (from trio~=0.17->selenium) (2.3.0)\n",
      "Requirement already satisfied: outcome in c:\\users\\deep\\anaconda3\\lib\\site-packages (from trio~=0.17->selenium) (1.1.0)\n",
      "Requirement already satisfied: idna in c:\\users\\deep\\anaconda3\\lib\\site-packages (from trio~=0.17->selenium) (2.10)\n",
      "Requirement already satisfied: async-generator>=1.9 in c:\\users\\deep\\anaconda3\\lib\\site-packages (from trio~=0.17->selenium) (1.10)\n",
      "Requirement already satisfied: attrs>=19.2.0 in c:\\users\\deep\\anaconda3\\lib\\site-packages (from trio~=0.17->selenium) (20.3.0)\n",
      "Requirement already satisfied: cffi>=1.14 in c:\\users\\deep\\anaconda3\\lib\\site-packages (from trio~=0.17->selenium) (1.14.5)\n",
      "Requirement already satisfied: sniffio in c:\\users\\deep\\anaconda3\\lib\\site-packages (from trio~=0.17->selenium) (1.2.0)\n",
      "Requirement already satisfied: pycparser in c:\\users\\deep\\anaconda3\\lib\\site-packages (from cffi>=1.14->trio~=0.17->selenium) (2.20)\n",
      "Requirement already satisfied: wsproto>=0.14 in c:\\users\\deep\\anaconda3\\lib\\site-packages (from trio-websocket~=0.9->selenium) (1.0.0)\n",
      "Requirement already satisfied: certifi in c:\\users\\deep\\anaconda3\\lib\\site-packages (from urllib3[secure]~=1.26->selenium) (2020.12.5)\n",
      "Requirement already satisfied: pyOpenSSL>=0.14 in c:\\users\\deep\\anaconda3\\lib\\site-packages (from urllib3[secure]~=1.26->selenium) (20.0.1)\n",
      "Requirement already satisfied: cryptography>=1.3.4 in c:\\users\\deep\\anaconda3\\lib\\site-packages (from urllib3[secure]~=1.26->selenium) (3.4.7)\n",
      "Requirement already satisfied: six>=1.5.2 in c:\\users\\deep\\anaconda3\\lib\\site-packages (from pyOpenSSL>=0.14->urllib3[secure]~=1.26->selenium) (1.15.0)\n",
      "Requirement already satisfied: h11<1,>=0.9.0 in c:\\users\\deep\\anaconda3\\lib\\site-packages (from wsproto>=0.14->trio-websocket~=0.9->selenium) (0.12.0)\n"
     ]
    }
   ],
   "source": [
    "!pip install selenium"
   ]
  },
  {
   "cell_type": "code",
   "execution_count": 125,
   "id": "9f2414a8",
   "metadata": {},
   "outputs": [],
   "source": [
    "import pandas as pd\n",
    "import selenium\n",
    "from selenium import webdriver\n",
    "import warnings\n",
    "warnings.filterwarnings('ignore')"
   ]
  },
  {
   "cell_type": "code",
   "execution_count": 126,
   "id": "f48ee801",
   "metadata": {},
   "outputs": [],
   "source": [
    "driver7=webdriver.Chrome(r'C:/Users/Deep/Downloads/chromedriver_win32/chromedriver.exe')"
   ]
  },
  {
   "cell_type": "code",
   "execution_count": 127,
   "id": "e14c6a05",
   "metadata": {},
   "outputs": [],
   "source": [
    "driver7.get('https://www.myntra.com/shoes')"
   ]
  },
  {
   "cell_type": "code",
   "execution_count": 128,
   "id": "789bf7ea",
   "metadata": {},
   "outputs": [],
   "source": [
    "black_filter=driver7.find_element_by_xpath(\"//li[@class='colour-listItem']\")\n",
    "black_filter.click()"
   ]
  },
  {
   "cell_type": "code",
   "execution_count": 129,
   "id": "5ee69b1f",
   "metadata": {},
   "outputs": [],
   "source": [
    "price_filter=driver7.find_element_by_xpath(\"//ul[@class='price-list']/li[2]\")\n",
    "price_filter.click()"
   ]
  },
  {
   "cell_type": "code",
   "execution_count": 130,
   "id": "64aff7ee",
   "metadata": {},
   "outputs": [
    {
     "data": {
      "text/plain": [
       "['https://www.myntra.com/shoes?f=Color%3ABlack_36454f&rf=Price%3A7149.0_14099.0_7149.0%20TO%2014099.0%2C7187.0_14125.0_7187.0%20TO%2014125.0&p=0',\n",
       " 'https://www.myntra.com/shoes?f=Color%3ABlack_36454f&rf=Price%3A7149.0_14099.0_7149.0%20TO%2014099.0%2C7187.0_14125.0_7187.0%20TO%2014125.0&p=1',\n",
       " 'https://www.myntra.com/shoes?f=Color%3ABlack_36454f&rf=Price%3A7149.0_14099.0_7149.0%20TO%2014099.0%2C7187.0_14125.0_7187.0%20TO%2014125.0&p=2']"
      ]
     },
     "execution_count": 130,
     "metadata": {},
     "output_type": "execute_result"
    }
   ],
   "source": [
    "#assuming that there will be max 3 pages req. as in the 1 one there are 50 items approcx\n",
    "total_pages=3\n",
    "pages=[]\n",
    "for i in range(0,total_pages):\n",
    "    page=f'https://www.myntra.com/shoes?f=Color%3ABlack_36454f&rf=Price%3A7149.0_14099.0_7149.0%20TO%2014099.0%2C7187.0_14125.0_7187.0%20TO%2014125.0&p={i}'\n",
    "    pages.append(page)\n",
    "\n",
    "pages"
   ]
  },
  {
   "cell_type": "code",
   "execution_count": 131,
   "id": "2960f3a6",
   "metadata": {},
   "outputs": [],
   "source": [
    "shoe_price=[]\n",
    "desc=[]\n",
    "shoe_brand=[]"
   ]
  },
  {
   "cell_type": "code",
   "execution_count": 132,
   "id": "0045c659",
   "metadata": {},
   "outputs": [],
   "source": [
    "for i in pages:\n",
    "    driver7.get(i)\n",
    "    p_o_s=driver7.find_elements_by_xpath(\"//div[@class='product-price']\")\n",
    "    for i in p_o_s:\n",
    "        shoe_price.append(i.text)\n",
    "    description=driver7.find_elements_by_xpath(\"//h4[@class='product-product']\")\n",
    "    for i in description:\n",
    "        desc.append(i.text)\n",
    "    brand=driver7.find_elements_by_xpath(\"//h3[@class='product-brand']\")\n",
    "    for i in brand:\n",
    "        shoe_brand.append(i.text)"
   ]
  },
  {
   "cell_type": "code",
   "execution_count": 133,
   "id": "2c1368e4",
   "metadata": {},
   "outputs": [
    {
     "name": "stdout",
     "output_type": "stream",
     "text": [
      "100 100 100\n"
     ]
    }
   ],
   "source": [
    "print(len(shoe_price),len(desc),len(shoe_brand))"
   ]
  },
  {
   "cell_type": "code",
   "execution_count": 134,
   "id": "1b1929d7",
   "metadata": {},
   "outputs": [],
   "source": [
    "shoes=pd.DataFrame({})\n",
    "shoes['price of the shoes']=shoe_price[0:100]\n",
    "shoes['description']=desc[0:100]\n",
    "shoes['brand']=shoe_brand[0:100]"
   ]
  },
  {
   "cell_type": "code",
   "execution_count": 135,
   "id": "8bf83da1",
   "metadata": {},
   "outputs": [
    {
     "data": {
      "text/html": [
       "<div>\n",
       "<style scoped>\n",
       "    .dataframe tbody tr th:only-of-type {\n",
       "        vertical-align: middle;\n",
       "    }\n",
       "\n",
       "    .dataframe tbody tr th {\n",
       "        vertical-align: top;\n",
       "    }\n",
       "\n",
       "    .dataframe thead th {\n",
       "        text-align: right;\n",
       "    }\n",
       "</style>\n",
       "<table border=\"1\" class=\"dataframe\">\n",
       "  <thead>\n",
       "    <tr style=\"text-align: right;\">\n",
       "      <th></th>\n",
       "      <th>price of the shoes</th>\n",
       "      <th>description</th>\n",
       "      <th>brand</th>\n",
       "    </tr>\n",
       "  </thead>\n",
       "  <tbody>\n",
       "    <tr>\n",
       "      <th>0</th>\n",
       "      <td>Rs. 7465Rs. 8295(10% OFF)</td>\n",
       "      <td></td>\n",
       "      <td>Nike</td>\n",
       "    </tr>\n",
       "    <tr>\n",
       "      <th>1</th>\n",
       "      <td>Rs. 10345Rs. 11495(10% OFF)</td>\n",
       "      <td>Men AIR PRESTO Sneakers</td>\n",
       "      <td>Nike</td>\n",
       "    </tr>\n",
       "    <tr>\n",
       "      <th>2</th>\n",
       "      <td>Rs. 8995Rs. 9995(10% OFF)</td>\n",
       "      <td>AIR ZOOM PEGASUS Running Shoes</td>\n",
       "      <td>Nike</td>\n",
       "    </tr>\n",
       "    <tr>\n",
       "      <th>3</th>\n",
       "      <td>Rs. 8499Rs. 9999(15% OFF)</td>\n",
       "      <td>Unisex Scuderia Ferrari Shoes</td>\n",
       "      <td>PUMA Motorsport</td>\n",
       "    </tr>\n",
       "    <tr>\n",
       "      <th>4</th>\n",
       "      <td>Rs. 7195</td>\n",
       "      <td>Men Zoom Span 4 Running Shoes</td>\n",
       "      <td>Nike</td>\n",
       "    </tr>\n",
       "    <tr>\n",
       "      <th>...</th>\n",
       "      <td>...</td>\n",
       "      <td>...</td>\n",
       "      <td>...</td>\n",
       "    </tr>\n",
       "    <tr>\n",
       "      <th>95</th>\n",
       "      <td>Rs. 7999</td>\n",
       "      <td>Men Woven Design Loafers</td>\n",
       "      <td>KLEAT</td>\n",
       "    </tr>\n",
       "    <tr>\n",
       "      <th>96</th>\n",
       "      <td>Rs. 8990</td>\n",
       "      <td>Men Solid Loafers</td>\n",
       "      <td>J.FONTINI</td>\n",
       "    </tr>\n",
       "    <tr>\n",
       "      <th>97</th>\n",
       "      <td>Rs. 7199Rs. 8999(20% OFF)</td>\n",
       "      <td>Men Solid Casual Sneakers</td>\n",
       "      <td>Bugatti</td>\n",
       "    </tr>\n",
       "    <tr>\n",
       "      <th>98</th>\n",
       "      <td>Rs. 8990</td>\n",
       "      <td>Men Solid Leather Formal Monks</td>\n",
       "      <td>Ruosh</td>\n",
       "    </tr>\n",
       "    <tr>\n",
       "      <th>99</th>\n",
       "      <td>Rs. 10399Rs. 12999(20% OFF)</td>\n",
       "      <td>Men Magnify Nitro Running</td>\n",
       "      <td>Puma</td>\n",
       "    </tr>\n",
       "  </tbody>\n",
       "</table>\n",
       "<p>100 rows × 3 columns</p>\n",
       "</div>"
      ],
      "text/plain": [
       "             price of the shoes                     description  \\\n",
       "0     Rs. 7465Rs. 8295(10% OFF)                                   \n",
       "1   Rs. 10345Rs. 11495(10% OFF)         Men AIR PRESTO Sneakers   \n",
       "2     Rs. 8995Rs. 9995(10% OFF)  AIR ZOOM PEGASUS Running Shoes   \n",
       "3     Rs. 8499Rs. 9999(15% OFF)   Unisex Scuderia Ferrari Shoes   \n",
       "4                      Rs. 7195   Men Zoom Span 4 Running Shoes   \n",
       "..                          ...                             ...   \n",
       "95                     Rs. 7999        Men Woven Design Loafers   \n",
       "96                     Rs. 8990               Men Solid Loafers   \n",
       "97    Rs. 7199Rs. 8999(20% OFF)       Men Solid Casual Sneakers   \n",
       "98                     Rs. 8990  Men Solid Leather Formal Monks   \n",
       "99  Rs. 10399Rs. 12999(20% OFF)       Men Magnify Nitro Running   \n",
       "\n",
       "              brand  \n",
       "0              Nike  \n",
       "1              Nike  \n",
       "2              Nike  \n",
       "3   PUMA Motorsport  \n",
       "4              Nike  \n",
       "..              ...  \n",
       "95            KLEAT  \n",
       "96        J.FONTINI  \n",
       "97          Bugatti  \n",
       "98            Ruosh  \n",
       "99             Puma  \n",
       "\n",
       "[100 rows x 3 columns]"
      ]
     },
     "execution_count": 135,
     "metadata": {},
     "output_type": "execute_result"
    }
   ],
   "source": [
    "shoes"
   ]
  },
  {
   "cell_type": "code",
   "execution_count": 136,
   "id": "1a8d4631",
   "metadata": {},
   "outputs": [],
   "source": [
    "driver7.close()"
   ]
  },
  {
   "cell_type": "markdown",
   "id": "5da807cd",
   "metadata": {},
   "source": [
    "# Q8"
   ]
  },
  {
   "cell_type": "code",
   "execution_count": 1,
   "id": "36a58c9e",
   "metadata": {},
   "outputs": [
    {
     "name": "stdout",
     "output_type": "stream",
     "text": [
      "Requirement already satisfied: selenium in c:\\users\\deep\\anaconda3\\lib\\site-packages (4.0.0)\n",
      "Requirement already satisfied: trio-websocket~=0.9 in c:\\users\\deep\\anaconda3\\lib\\site-packages (from selenium) (0.9.2)\n",
      "Requirement already satisfied: urllib3[secure]~=1.26 in c:\\users\\deep\\anaconda3\\lib\\site-packages (from selenium) (1.26.4)\n",
      "Requirement already satisfied: trio~=0.17 in c:\\users\\deep\\anaconda3\\lib\\site-packages (from selenium) (0.19.0)\n",
      "Requirement already satisfied: idna in c:\\users\\deep\\anaconda3\\lib\\site-packages (from trio~=0.17->selenium) (2.10)\n",
      "Requirement already satisfied: attrs>=19.2.0 in c:\\users\\deep\\anaconda3\\lib\\site-packages (from trio~=0.17->selenium) (20.3.0)\n",
      "Requirement already satisfied: outcome in c:\\users\\deep\\anaconda3\\lib\\site-packages (from trio~=0.17->selenium) (1.1.0)\n",
      "Requirement already satisfied: sniffio in c:\\users\\deep\\anaconda3\\lib\\site-packages (from trio~=0.17->selenium) (1.2.0)\n",
      "Requirement already satisfied: cffi>=1.14 in c:\\users\\deep\\anaconda3\\lib\\site-packages (from trio~=0.17->selenium) (1.14.5)\n",
      "Requirement already satisfied: async-generator>=1.9 in c:\\users\\deep\\anaconda3\\lib\\site-packages (from trio~=0.17->selenium) (1.10)\n",
      "Requirement already satisfied: sortedcontainers in c:\\users\\deep\\anaconda3\\lib\\site-packages (from trio~=0.17->selenium) (2.3.0)\n",
      "Requirement already satisfied: pycparser in c:\\users\\deep\\anaconda3\\lib\\site-packages (from cffi>=1.14->trio~=0.17->selenium) (2.20)\n",
      "Requirement already satisfied: wsproto>=0.14 in c:\\users\\deep\\anaconda3\\lib\\site-packages (from trio-websocket~=0.9->selenium) (1.0.0)\n",
      "Requirement already satisfied: certifi in c:\\users\\deep\\anaconda3\\lib\\site-packages (from urllib3[secure]~=1.26->selenium) (2020.12.5)\n",
      "Requirement already satisfied: cryptography>=1.3.4 in c:\\users\\deep\\anaconda3\\lib\\site-packages (from urllib3[secure]~=1.26->selenium) (3.4.7)\n",
      "Requirement already satisfied: pyOpenSSL>=0.14 in c:\\users\\deep\\anaconda3\\lib\\site-packages (from urllib3[secure]~=1.26->selenium) (20.0.1)\n",
      "Requirement already satisfied: six>=1.5.2 in c:\\users\\deep\\anaconda3\\lib\\site-packages (from pyOpenSSL>=0.14->urllib3[secure]~=1.26->selenium) (1.15.0)\n",
      "Requirement already satisfied: h11<1,>=0.9.0 in c:\\users\\deep\\anaconda3\\lib\\site-packages (from wsproto>=0.14->trio-websocket~=0.9->selenium) (0.12.0)\n"
     ]
    }
   ],
   "source": [
    "!pip install selenium"
   ]
  },
  {
   "cell_type": "code",
   "execution_count": 34,
   "id": "09269cf8",
   "metadata": {},
   "outputs": [],
   "source": [
    "import pandas as pd\n",
    "import selenium\n",
    "from selenium import webdriver\n",
    "import warnings\n",
    "warnings.filterwarnings('ignore')"
   ]
  },
  {
   "cell_type": "code",
   "execution_count": 35,
   "id": "17ca1a14",
   "metadata": {},
   "outputs": [],
   "source": [
    "driver8=webdriver.Chrome(r'C:/Users/Deep/Downloads/chromedriver_win32/chromedriver.exe')"
   ]
  },
  {
   "cell_type": "code",
   "execution_count": 36,
   "id": "887d2445",
   "metadata": {},
   "outputs": [],
   "source": [
    "driver8.get(' https://www.amazon.in/ ')"
   ]
  },
  {
   "cell_type": "code",
   "execution_count": 37,
   "id": "e82660f6",
   "metadata": {},
   "outputs": [],
   "source": [
    "search_lappy=driver8.find_element_by_id('twotabsearchtextbox')\n",
    "search_lappy.send_keys('Laptop')"
   ]
  },
  {
   "cell_type": "code",
   "execution_count": 38,
   "id": "40853ded",
   "metadata": {},
   "outputs": [],
   "source": [
    "click_search=driver8.find_element_by_xpath(\"//div[@class='nav-search-submit nav-sprite']\")\n",
    "click_search.click()"
   ]
  },
  {
   "cell_type": "code",
   "execution_count": 39,
   "id": "202432e0",
   "metadata": {},
   "outputs": [],
   "source": [
    "apply_filter=driver8.find_element_by_xpath('//*[@id=\"p_n_feature_thirteen_browse-bin/12598163031\"]/span/a')\n",
    "apply_filter.click()"
   ]
  },
  {
   "cell_type": "code",
   "execution_count": 40,
   "id": "d374d13f",
   "metadata": {},
   "outputs": [],
   "source": [
    "#filter_2= driver8.find_element_by_xpath('//*[@id=\"p_n_feature_thirteen_browse-bin/16757432031\"]/span/a')\n",
    "#filter_2.click()"
   ]
  },
  {
   "cell_type": "code",
   "execution_count": 41,
   "id": "16cce9a6",
   "metadata": {},
   "outputs": [],
   "source": [
    "titles=[]\n",
    "ratings=[]\n",
    "price=[]"
   ]
  },
  {
   "cell_type": "code",
   "execution_count": 42,
   "id": "46b2dc19",
   "metadata": {},
   "outputs": [
    {
     "data": {
      "text/plain": [
       "[<selenium.webdriver.remote.webelement.WebElement (session=\"632b31ebafdcaf98838817e8431b020f\", element=\"020b7acd-6b4e-4850-973e-02205e745aae\")>,\n",
       " <selenium.webdriver.remote.webelement.WebElement (session=\"632b31ebafdcaf98838817e8431b020f\", element=\"80713030-c6d2-417c-8851-86da453efc41\")>,\n",
       " <selenium.webdriver.remote.webelement.WebElement (session=\"632b31ebafdcaf98838817e8431b020f\", element=\"4c191eb3-feca-4925-ba2c-b4aaa071839a\")>,\n",
       " <selenium.webdriver.remote.webelement.WebElement (session=\"632b31ebafdcaf98838817e8431b020f\", element=\"757d5bf5-359e-4cad-808d-1adb57f0d63e\")>,\n",
       " <selenium.webdriver.remote.webelement.WebElement (session=\"632b31ebafdcaf98838817e8431b020f\", element=\"a404d90b-d99a-4e35-9311-1a14067d8046\")>,\n",
       " <selenium.webdriver.remote.webelement.WebElement (session=\"632b31ebafdcaf98838817e8431b020f\", element=\"24af9822-fb96-46c2-b509-f270589a21af\")>,\n",
       " <selenium.webdriver.remote.webelement.WebElement (session=\"632b31ebafdcaf98838817e8431b020f\", element=\"02c85f24-e014-4bda-a3ff-6eb810d260fe\")>,\n",
       " <selenium.webdriver.remote.webelement.WebElement (session=\"632b31ebafdcaf98838817e8431b020f\", element=\"496caa5b-f157-47d5-850a-919fe90fbd9d\")>,\n",
       " <selenium.webdriver.remote.webelement.WebElement (session=\"632b31ebafdcaf98838817e8431b020f\", element=\"813e4083-7651-4216-9446-78e9364aed37\")>,\n",
       " <selenium.webdriver.remote.webelement.WebElement (session=\"632b31ebafdcaf98838817e8431b020f\", element=\"2b38c6d8-c40c-4467-a7b2-84c6a9bd84a7\")>]"
      ]
     },
     "execution_count": 42,
     "metadata": {},
     "output_type": "execute_result"
    }
   ],
   "source": [
    "name=driver8.find_elements_by_xpath(\"//h2[@class='a-size-mini a-spacing-none a-color-base s-line-clamp-2']\")\n",
    "name[0:10]"
   ]
  },
  {
   "cell_type": "code",
   "execution_count": 43,
   "id": "60bd6ffc",
   "metadata": {},
   "outputs": [
    {
     "data": {
      "text/plain": [
       "['HP Envy Intel 11th Gen Core i7 Processor 13.3 inches FHD Touchscreen Gaming Laptop (16GB/1TB SSD/Windows 10/NVIDIA MX450 2GB/Natural Silver/1.3 kg), 13-ba1018TX',\n",
       " 'Lenovo Legion 5 11th Gen Intel Core i7 15.6\"(39.62cm) FHD IPS Gaming Laptop (16GB/512GB SSD/NVIDIA RTX 3050 4GB/120Hz Refresh Rate/Windows 10/MS Office/Backlit Keyboard/Phantom Blue/2.4Kg), 82JK007WIN',\n",
       " 'ASUS TUF Gaming F17 (2021), 17.3-inch (43.94 cms) FHD 144Hz, Intel Core i7-11800H 11th Gen, GeForce RTX 3050 Ti 4GB Graphics, Gaming Laptop (16GB/1TB SSD/Windows 10/Eclipse Gray/2.6 Kg) FX766HE-HX022T',\n",
       " 'Lenovo Yoga 7i 11th Gen Intel Core i7-1165G7 14 inches FHD IPS 2-in-1 Touchscreen Business Laptop (16GB/512GB SSD/Windows 10/MS Office/Digital Pen/Fingerprint Reader/Slate Grey/1.43Kg), 82BH004HIN',\n",
       " 'Mi Notebook Horizon Edition 14 Intel Core i7-10510U 10th Gen Thin and Light Laptop(8GB/512GB SSD/Windows 10/Nvidia MX350 2GB Graphics/Grey/1.35Kg)(Without Webcam) XMA1904-AF',\n",
       " 'Dell 14 (2021) i7-1195G7 2in1 Touch Screen Laptop, 16GB, 512GB SSD, Win 10 + MS Office, 14.0\" (35.56 cms) FHD Display, Backlit KB, FPR + Active Pen, Platinum Silver (Inspiron 5410, D560596WIN9S)',\n",
       " 'HP Pavilion (2021) Intel 11th Gen Core i7 14 inches FHD Screen Thin & Light Laptop, 16 GB RAM, 1TB SSD, Iris Xe Graphics, Windows 10, MS Office, Backlit Keyboard, 1.41kg (14-dv0058TU)',\n",
       " 'Lenovo Legion 5 10th Gen Intel Core i7-10750H 15.6\" (39.63cm) FHD IPS Gaming Laptop (16GB/512GB SSD/Windows 10/NVIDIA GTX 1650 4GB/120Hz Refresh Display/Phantom Black/2.3Kg), 82AU00PNIN',\n",
       " 'Lenovo Legion 5 11th Gen Intel Core i7 15.6\"(39.62cm) FHD IPS Gaming Laptop (16GB/512GB SSD/NVIDIA RTX 3050 4GB/120Hz Refresh Rate/Windows 10/MS Office/Backlit Keyboard/Phantom Blue/2.4Kg), 82JK007WIN',\n",
       " 'ASUS TUF Gaming F15 (2021) 15.6-inch (39.62 cms) FHD 144Hz, Intel Core i7-11800H 11th Gen, RTX 3050 4GB Graphics, Gaming Laptop (8GB/1TB SSD/Windows 10/Gray/2.3 Kg), FX566HCB-HN231T, Eclipse Gray']"
      ]
     },
     "execution_count": 43,
     "metadata": {},
     "output_type": "execute_result"
    }
   ],
   "source": [
    "for i in name:\n",
    "    na=i.text\n",
    "    titles.append(na)\n",
    "titles[0:10]"
   ]
  },
  {
   "cell_type": "code",
   "execution_count": 44,
   "id": "1e22893c",
   "metadata": {},
   "outputs": [
    {
     "data": {
      "text/plain": [
       "['4.1 out of 5 stars',\n",
       " '4.4 out of 5 stars',\n",
       " '4.6 out of 5 stars',\n",
       " '4.2 out of 5 stars',\n",
       " '4.2 out of 5 stars',\n",
       " '5.0 out of 5 stars',\n",
       " '4.3 out of 5 stars',\n",
       " '4.1 out of 5 stars',\n",
       " '4.4 out of 5 stars',\n",
       " '5.0 out of 5 stars']"
      ]
     },
     "execution_count": 44,
     "metadata": {},
     "output_type": "execute_result"
    }
   ],
   "source": [
    "rates=driver8.find_elements_by_xpath(\"//div[@class='a-row a-size-small']/span[1]\")\n",
    "for i in rates:\n",
    "    ratings.append(i.get_attribute('aria-label'))\n",
    "ratings[0:10]"
   ]
  },
  {
   "cell_type": "code",
   "execution_count": 46,
   "id": "13b7e677",
   "metadata": {},
   "outputs": [
    {
     "data": {
      "text/plain": [
       "[<selenium.webdriver.remote.webelement.WebElement (session=\"632b31ebafdcaf98838817e8431b020f\", element=\"9d2cf5d6-e231-43f1-888e-0aca0d0cbdaf\")>,\n",
       " <selenium.webdriver.remote.webelement.WebElement (session=\"632b31ebafdcaf98838817e8431b020f\", element=\"a4fe4189-fbfb-4085-bbb2-04c00bd3d5a6\")>,\n",
       " <selenium.webdriver.remote.webelement.WebElement (session=\"632b31ebafdcaf98838817e8431b020f\", element=\"0253d966-35a9-478b-9099-3223d6a56576\")>,\n",
       " <selenium.webdriver.remote.webelement.WebElement (session=\"632b31ebafdcaf98838817e8431b020f\", element=\"a847ac69-5ce3-454c-89a1-593896ec85cb\")>,\n",
       " <selenium.webdriver.remote.webelement.WebElement (session=\"632b31ebafdcaf98838817e8431b020f\", element=\"cd1ef431-6330-4795-b3fb-411bfc3fd82e\")>,\n",
       " <selenium.webdriver.remote.webelement.WebElement (session=\"632b31ebafdcaf98838817e8431b020f\", element=\"f3979f1f-e142-43e1-a65d-dec0261bc463\")>,\n",
       " <selenium.webdriver.remote.webelement.WebElement (session=\"632b31ebafdcaf98838817e8431b020f\", element=\"67fd0190-80ed-40bc-adec-607f10d3b181\")>,\n",
       " <selenium.webdriver.remote.webelement.WebElement (session=\"632b31ebafdcaf98838817e8431b020f\", element=\"8c4d7343-4110-4e91-b058-1e0d8506f26b\")>,\n",
       " <selenium.webdriver.remote.webelement.WebElement (session=\"632b31ebafdcaf98838817e8431b020f\", element=\"1326626d-6272-41a5-8de8-be9339cd38c2\")>,\n",
       " <selenium.webdriver.remote.webelement.WebElement (session=\"632b31ebafdcaf98838817e8431b020f\", element=\"33b18ef2-0de1-4a97-823b-44d290e5351b\")>]"
      ]
     },
     "execution_count": 46,
     "metadata": {},
     "output_type": "execute_result"
    }
   ],
   "source": [
    "amt=driver8.find_elements_by_xpath(\"//span[@class='a-price-whole']\")\n",
    "amt[0:10]"
   ]
  },
  {
   "cell_type": "code",
   "execution_count": 47,
   "id": "a4dc600a",
   "metadata": {},
   "outputs": [
    {
     "data": {
      "text/plain": [
       "['1,24,000',\n",
       " '1,11,030',\n",
       " '1,13,990',\n",
       " '1,09,990',\n",
       " '59,990',\n",
       " '88,490',\n",
       " '84,990',\n",
       " '1,05,000',\n",
       " '1,11,030',\n",
       " '99,990']"
      ]
     },
     "execution_count": 47,
     "metadata": {},
     "output_type": "execute_result"
    }
   ],
   "source": [
    "for i in amt:\n",
    "    amtt=i.text\n",
    "    price.append(amtt)\n",
    "price[0:10]"
   ]
  },
  {
   "cell_type": "code",
   "execution_count": 48,
   "id": "a539e906",
   "metadata": {},
   "outputs": [
    {
     "name": "stdout",
     "output_type": "stream",
     "text": [
      "29 20 29\n"
     ]
    }
   ],
   "source": [
    "print(len(titles),len(ratings),len(price))"
   ]
  },
  {
   "cell_type": "code",
   "execution_count": 51,
   "id": "258b24bc",
   "metadata": {},
   "outputs": [],
   "source": [
    "laptop=pd.DataFrame({})\n",
    "laptop['title']=titles[0:10]\n",
    "laptop['rates']=ratings[0:10]\n",
    "laptop['price']=price[0:10]"
   ]
  },
  {
   "cell_type": "code",
   "execution_count": 52,
   "id": "81a46097",
   "metadata": {},
   "outputs": [
    {
     "data": {
      "text/html": [
       "<div>\n",
       "<style scoped>\n",
       "    .dataframe tbody tr th:only-of-type {\n",
       "        vertical-align: middle;\n",
       "    }\n",
       "\n",
       "    .dataframe tbody tr th {\n",
       "        vertical-align: top;\n",
       "    }\n",
       "\n",
       "    .dataframe thead th {\n",
       "        text-align: right;\n",
       "    }\n",
       "</style>\n",
       "<table border=\"1\" class=\"dataframe\">\n",
       "  <thead>\n",
       "    <tr style=\"text-align: right;\">\n",
       "      <th></th>\n",
       "      <th>title</th>\n",
       "      <th>rates</th>\n",
       "      <th>price</th>\n",
       "    </tr>\n",
       "  </thead>\n",
       "  <tbody>\n",
       "    <tr>\n",
       "      <th>0</th>\n",
       "      <td>HP Envy Intel 11th Gen Core i7 Processor 13.3 ...</td>\n",
       "      <td>4.1 out of 5 stars</td>\n",
       "      <td>1,24,000</td>\n",
       "    </tr>\n",
       "    <tr>\n",
       "      <th>1</th>\n",
       "      <td>Lenovo Legion 5 11th Gen Intel Core i7 15.6\"(3...</td>\n",
       "      <td>4.4 out of 5 stars</td>\n",
       "      <td>1,11,030</td>\n",
       "    </tr>\n",
       "    <tr>\n",
       "      <th>2</th>\n",
       "      <td>ASUS TUF Gaming F17 (2021), 17.3-inch (43.94 c...</td>\n",
       "      <td>4.6 out of 5 stars</td>\n",
       "      <td>1,13,990</td>\n",
       "    </tr>\n",
       "    <tr>\n",
       "      <th>3</th>\n",
       "      <td>Lenovo Yoga 7i 11th Gen Intel Core i7-1165G7 1...</td>\n",
       "      <td>4.2 out of 5 stars</td>\n",
       "      <td>1,09,990</td>\n",
       "    </tr>\n",
       "    <tr>\n",
       "      <th>4</th>\n",
       "      <td>Mi Notebook Horizon Edition 14 Intel Core i7-1...</td>\n",
       "      <td>4.2 out of 5 stars</td>\n",
       "      <td>59,990</td>\n",
       "    </tr>\n",
       "    <tr>\n",
       "      <th>5</th>\n",
       "      <td>Dell 14 (2021) i7-1195G7 2in1 Touch Screen Lap...</td>\n",
       "      <td>5.0 out of 5 stars</td>\n",
       "      <td>88,490</td>\n",
       "    </tr>\n",
       "    <tr>\n",
       "      <th>6</th>\n",
       "      <td>HP Pavilion (2021) Intel 11th Gen Core i7 14 i...</td>\n",
       "      <td>4.3 out of 5 stars</td>\n",
       "      <td>84,990</td>\n",
       "    </tr>\n",
       "    <tr>\n",
       "      <th>7</th>\n",
       "      <td>Lenovo Legion 5 10th Gen Intel Core i7-10750H ...</td>\n",
       "      <td>4.1 out of 5 stars</td>\n",
       "      <td>1,05,000</td>\n",
       "    </tr>\n",
       "    <tr>\n",
       "      <th>8</th>\n",
       "      <td>Lenovo Legion 5 11th Gen Intel Core i7 15.6\"(3...</td>\n",
       "      <td>4.4 out of 5 stars</td>\n",
       "      <td>1,11,030</td>\n",
       "    </tr>\n",
       "    <tr>\n",
       "      <th>9</th>\n",
       "      <td>ASUS TUF Gaming F15 (2021) 15.6-inch (39.62 cm...</td>\n",
       "      <td>5.0 out of 5 stars</td>\n",
       "      <td>99,990</td>\n",
       "    </tr>\n",
       "  </tbody>\n",
       "</table>\n",
       "</div>"
      ],
      "text/plain": [
       "                                               title               rates  \\\n",
       "0  HP Envy Intel 11th Gen Core i7 Processor 13.3 ...  4.1 out of 5 stars   \n",
       "1  Lenovo Legion 5 11th Gen Intel Core i7 15.6\"(3...  4.4 out of 5 stars   \n",
       "2  ASUS TUF Gaming F17 (2021), 17.3-inch (43.94 c...  4.6 out of 5 stars   \n",
       "3  Lenovo Yoga 7i 11th Gen Intel Core i7-1165G7 1...  4.2 out of 5 stars   \n",
       "4  Mi Notebook Horizon Edition 14 Intel Core i7-1...  4.2 out of 5 stars   \n",
       "5  Dell 14 (2021) i7-1195G7 2in1 Touch Screen Lap...  5.0 out of 5 stars   \n",
       "6  HP Pavilion (2021) Intel 11th Gen Core i7 14 i...  4.3 out of 5 stars   \n",
       "7  Lenovo Legion 5 10th Gen Intel Core i7-10750H ...  4.1 out of 5 stars   \n",
       "8  Lenovo Legion 5 11th Gen Intel Core i7 15.6\"(3...  4.4 out of 5 stars   \n",
       "9  ASUS TUF Gaming F15 (2021) 15.6-inch (39.62 cm...  5.0 out of 5 stars   \n",
       "\n",
       "      price  \n",
       "0  1,24,000  \n",
       "1  1,11,030  \n",
       "2  1,13,990  \n",
       "3  1,09,990  \n",
       "4    59,990  \n",
       "5    88,490  \n",
       "6    84,990  \n",
       "7  1,05,000  \n",
       "8  1,11,030  \n",
       "9    99,990  "
      ]
     },
     "execution_count": 52,
     "metadata": {},
     "output_type": "execute_result"
    }
   ],
   "source": [
    "laptop"
   ]
  },
  {
   "cell_type": "code",
   "execution_count": 53,
   "id": "bf8f42f4",
   "metadata": {},
   "outputs": [],
   "source": [
    "driver8.close()"
   ]
  },
  {
   "cell_type": "markdown",
   "id": "12321a1d",
   "metadata": {},
   "source": [
    "# Q9"
   ]
  },
  {
   "cell_type": "code",
   "execution_count": 54,
   "id": "9f3df389",
   "metadata": {},
   "outputs": [
    {
     "name": "stdout",
     "output_type": "stream",
     "text": [
      "Requirement already satisfied: selenium in c:\\users\\deep\\anaconda3\\lib\\site-packages (4.0.0)\n",
      "Requirement already satisfied: trio~=0.17 in c:\\users\\deep\\anaconda3\\lib\\site-packages (from selenium) (0.19.0)\n",
      "Requirement already satisfied: urllib3[secure]~=1.26 in c:\\users\\deep\\anaconda3\\lib\\site-packages (from selenium) (1.26.4)\n",
      "Requirement already satisfied: trio-websocket~=0.9 in c:\\users\\deep\\anaconda3\\lib\\site-packages (from selenium) (0.9.2)\n",
      "Requirement already satisfied: sniffio in c:\\users\\deep\\anaconda3\\lib\\site-packages (from trio~=0.17->selenium) (1.2.0)\n",
      "Requirement already satisfied: sortedcontainers in c:\\users\\deep\\anaconda3\\lib\\site-packages (from trio~=0.17->selenium) (2.3.0)\n",
      "Requirement already satisfied: attrs>=19.2.0 in c:\\users\\deep\\anaconda3\\lib\\site-packages (from trio~=0.17->selenium) (20.3.0)\n",
      "Requirement already satisfied: idna in c:\\users\\deep\\anaconda3\\lib\\site-packages (from trio~=0.17->selenium) (2.10)\n",
      "Requirement already satisfied: async-generator>=1.9 in c:\\users\\deep\\anaconda3\\lib\\site-packages (from trio~=0.17->selenium) (1.10)\n",
      "Requirement already satisfied: outcome in c:\\users\\deep\\anaconda3\\lib\\site-packages (from trio~=0.17->selenium) (1.1.0)\n",
      "Requirement already satisfied: cffi>=1.14 in c:\\users\\deep\\anaconda3\\lib\\site-packages (from trio~=0.17->selenium) (1.14.5)\n",
      "Requirement already satisfied: pycparser in c:\\users\\deep\\anaconda3\\lib\\site-packages (from cffi>=1.14->trio~=0.17->selenium) (2.20)\n",
      "Requirement already satisfied: wsproto>=0.14 in c:\\users\\deep\\anaconda3\\lib\\site-packages (from trio-websocket~=0.9->selenium) (1.0.0)\n",
      "Requirement already satisfied: certifi in c:\\users\\deep\\anaconda3\\lib\\site-packages (from urllib3[secure]~=1.26->selenium) (2020.12.5)\n",
      "Requirement already satisfied: pyOpenSSL>=0.14 in c:\\users\\deep\\anaconda3\\lib\\site-packages (from urllib3[secure]~=1.26->selenium) (20.0.1)\n",
      "Requirement already satisfied: cryptography>=1.3.4 in c:\\users\\deep\\anaconda3\\lib\\site-packages (from urllib3[secure]~=1.26->selenium) (3.4.7)\n",
      "Requirement already satisfied: six>=1.5.2 in c:\\users\\deep\\anaconda3\\lib\\site-packages (from pyOpenSSL>=0.14->urllib3[secure]~=1.26->selenium) (1.15.0)\n",
      "Requirement already satisfied: h11<1,>=0.9.0 in c:\\users\\deep\\anaconda3\\lib\\site-packages (from wsproto>=0.14->trio-websocket~=0.9->selenium) (0.12.0)\n"
     ]
    }
   ],
   "source": [
    "!pip install selenium"
   ]
  },
  {
   "cell_type": "code",
   "execution_count": 150,
   "id": "82a33bff",
   "metadata": {},
   "outputs": [],
   "source": [
    "import pandas as pd\n",
    "import selenium\n",
    "from selenium import webdriver\n",
    "import warnings\n",
    "warnings.filterwarnings('ignore')"
   ]
  },
  {
   "cell_type": "code",
   "execution_count": 151,
   "id": "51d384bd",
   "metadata": {},
   "outputs": [],
   "source": [
    "driver9=webdriver.Chrome(r'C:/Users/Deep/Downloads/chromedriver_win32/chromedriver.exe')"
   ]
  },
  {
   "cell_type": "code",
   "execution_count": 152,
   "id": "fe9d2018",
   "metadata": {},
   "outputs": [],
   "source": [
    "driver9.get('https://www.ambitionbox.com/')"
   ]
  },
  {
   "cell_type": "code",
   "execution_count": 153,
   "id": "81e8a167",
   "metadata": {},
   "outputs": [],
   "source": [
    "btn_job=driver9.find_element_by_xpath(\"//a[@class='link jobs']\")\n",
    "btn_job.click()"
   ]
  },
  {
   "cell_type": "code",
   "execution_count": 154,
   "id": "b5a09e38",
   "metadata": {},
   "outputs": [],
   "source": [
    "enter_feild=driver9.find_element_by_xpath(\"//input[@class='input tt-input']\")\n",
    "enter_feild.send_keys('Data Scientist')"
   ]
  },
  {
   "cell_type": "code",
   "execution_count": 155,
   "id": "dc42f190",
   "metadata": {},
   "outputs": [],
   "source": [
    "press_search=driver9.find_element_by_xpath(\"//button[@class='ab_btn search-btn round']\")\n",
    "press_search.click()"
   ]
  },
  {
   "cell_type": "code",
   "execution_count": 163,
   "id": "4202d24a",
   "metadata": {},
   "outputs": [],
   "source": [
    "location=driver9.find_element_by_xpath(\"//*[@id='filters-row']/div/div/div[2]/div[1]/p\")\n",
    "location.click()"
   ]
  },
  {
   "cell_type": "code",
   "execution_count": 164,
   "id": "85c13b84",
   "metadata": {},
   "outputs": [],
   "source": [
    "enter_location=driver9.find_element_by_xpath(\"//*[@id='filters-row']/div/div/div[2]/div[2]/div/div[2]/input\")\n",
    "enter_location.send_keys('Noida')"
   ]
  },
  {
   "cell_type": "code",
   "execution_count": 165,
   "id": "850c2c16",
   "metadata": {},
   "outputs": [],
   "source": [
    "select_location=driver9.find_element_by_xpath(\"//*[@id='filters-row']/div/div/div[2]/div[2]/div/div[3]/div/div/div[1]/label\")\n",
    "select_location.click()"
   ]
  },
  {
   "cell_type": "code",
   "execution_count": 166,
   "id": "38ecf92e",
   "metadata": {},
   "outputs": [],
   "source": [
    "com_name=[]\n",
    "time=[]\n",
    "ratings_of_company=[]"
   ]
  },
  {
   "cell_type": "code",
   "execution_count": 167,
   "id": "c1f37936",
   "metadata": {},
   "outputs": [
    {
     "data": {
      "text/plain": [
       "[<selenium.webdriver.remote.webelement.WebElement (session=\"ccbd213bb77820650fc61076970ab4a8\", element=\"8a8cfdda-1fd1-4173-b426-9a563be75c7f\")>,\n",
       " <selenium.webdriver.remote.webelement.WebElement (session=\"ccbd213bb77820650fc61076970ab4a8\", element=\"1a660e22-7fe5-47dc-8a70-5c68a487202b\")>,\n",
       " <selenium.webdriver.remote.webelement.WebElement (session=\"ccbd213bb77820650fc61076970ab4a8\", element=\"a8a1c48c-2e94-4474-b358-8c589d7aa2ec\")>,\n",
       " <selenium.webdriver.remote.webelement.WebElement (session=\"ccbd213bb77820650fc61076970ab4a8\", element=\"cd155186-9b4c-4d7b-b2a4-3fdeee15bdaf\")>,\n",
       " <selenium.webdriver.remote.webelement.WebElement (session=\"ccbd213bb77820650fc61076970ab4a8\", element=\"00815d6f-47ad-4825-b7bb-0f62bbf5eb57\")>,\n",
       " <selenium.webdriver.remote.webelement.WebElement (session=\"ccbd213bb77820650fc61076970ab4a8\", element=\"b837f3b1-b23e-4e98-b929-cd6f9e382fc3\")>,\n",
       " <selenium.webdriver.remote.webelement.WebElement (session=\"ccbd213bb77820650fc61076970ab4a8\", element=\"3f26e23b-e570-4424-8e59-67199bff67df\")>,\n",
       " <selenium.webdriver.remote.webelement.WebElement (session=\"ccbd213bb77820650fc61076970ab4a8\", element=\"cd2d9d3c-ee05-4d58-a892-afbd09e58e43\")>,\n",
       " <selenium.webdriver.remote.webelement.WebElement (session=\"ccbd213bb77820650fc61076970ab4a8\", element=\"d72dcab8-640d-49df-b642-a0f541d7ab9d\")>,\n",
       " <selenium.webdriver.remote.webelement.WebElement (session=\"ccbd213bb77820650fc61076970ab4a8\", element=\"9b3f9108-4a53-4316-9f7b-fb19682faada\")>,\n",
       " <selenium.webdriver.remote.webelement.WebElement (session=\"ccbd213bb77820650fc61076970ab4a8\", element=\"e38af28a-eaf6-4fde-aecc-a90d17b9a14e\")>]"
      ]
     },
     "execution_count": 167,
     "metadata": {},
     "output_type": "execute_result"
    }
   ],
   "source": [
    "names=driver9.find_elements_by_xpath(\"//div[@class='company-info']\")\n",
    "names[0:]"
   ]
  },
  {
   "cell_type": "code",
   "execution_count": 168,
   "id": "dd7c5cfc",
   "metadata": {},
   "outputs": [
    {
     "data": {
      "text/plain": [
       "['Optum Global Solutions (India) Private Limited\\n · \\n4.1\\nbased on 1.4k Reviews',\n",
       " 'Optum Global Solutions (India) Private Limited\\n4.1\\n(1.4k Reviews)',\n",
       " 'Ameriprise Financial\\n4.1\\n(250 Reviews)',\n",
       " 'Optum Global Solutions (India) Private Limited\\n4.1\\n(1.4k Reviews)',\n",
       " 'Steria India Ltd\\n4.1\\n(829 Reviews)',\n",
       " 'Steria India Ltd\\n4.1\\n(829 Reviews)',\n",
       " 'HCL Technologies Limited\\n3.8\\n(13.2k Reviews)',\n",
       " 'Zyoin\\n4.2\\n(61 Reviews)',\n",
       " 'GI Group\\n3.9\\n(68 Reviews)',\n",
       " 'GI Group\\n3.9\\n(68 Reviews)']"
      ]
     },
     "execution_count": 168,
     "metadata": {},
     "output_type": "execute_result"
    }
   ],
   "source": [
    "for i in names:\n",
    "    n=i.text\n",
    "    com_name.append(n)\n",
    "com_name[0:10]"
   ]
  },
  {
   "cell_type": "code",
   "execution_count": 176,
   "id": "23ab0591",
   "metadata": {},
   "outputs": [
    {
     "data": {
      "text/plain": [
       "[<selenium.webdriver.remote.webelement.WebElement (session=\"ccbd213bb77820650fc61076970ab4a8\", element=\"289a2b4e-17ae-4134-983b-2dfdf8649225\")>,\n",
       " <selenium.webdriver.remote.webelement.WebElement (session=\"ccbd213bb77820650fc61076970ab4a8\", element=\"aac98ef0-76c5-4eb0-9dc2-1db505d0b8b6\")>,\n",
       " <selenium.webdriver.remote.webelement.WebElement (session=\"ccbd213bb77820650fc61076970ab4a8\", element=\"66dac69f-8474-4426-9830-128829b58955\")>,\n",
       " <selenium.webdriver.remote.webelement.WebElement (session=\"ccbd213bb77820650fc61076970ab4a8\", element=\"97c4e0bb-2c1a-4c82-b3f7-3705de02397d\")>,\n",
       " <selenium.webdriver.remote.webelement.WebElement (session=\"ccbd213bb77820650fc61076970ab4a8\", element=\"e9af94c2-1a0d-4126-a0ef-2702b5811701\")>,\n",
       " <selenium.webdriver.remote.webelement.WebElement (session=\"ccbd213bb77820650fc61076970ab4a8\", element=\"ddd5d90b-e879-47a4-88f3-1f94acbb80d6\")>,\n",
       " <selenium.webdriver.remote.webelement.WebElement (session=\"ccbd213bb77820650fc61076970ab4a8\", element=\"c8260129-4431-4d13-8b8e-71b014736525\")>,\n",
       " <selenium.webdriver.remote.webelement.WebElement (session=\"ccbd213bb77820650fc61076970ab4a8\", element=\"319c31ab-c3c4-45de-8bf4-48b4314dbeef\")>,\n",
       " <selenium.webdriver.remote.webelement.WebElement (session=\"ccbd213bb77820650fc61076970ab4a8\", element=\"cc988bbf-5ec5-4bb1-8df9-7690222e6565\")>,\n",
       " <selenium.webdriver.remote.webelement.WebElement (session=\"ccbd213bb77820650fc61076970ab4a8\", element=\"acc463d4-9859-4dc5-878e-8e431e7d03db\")>]"
      ]
     },
     "execution_count": 176,
     "metadata": {},
     "output_type": "execute_result"
    }
   ],
   "source": [
    "posted=driver9.find_elements_by_xpath(\"//span[@class='body-small-l']\")\n",
    "posted[0:10]"
   ]
  },
  {
   "cell_type": "code",
   "execution_count": 177,
   "id": "2ce049fc",
   "metadata": {},
   "outputs": [
    {
     "data": {
      "text/plain": [
       "['7d ago',\n",
       " '7d ago',\n",
       " 'via naukri.com',\n",
       " '2d ago',\n",
       " 'via naukri.com',\n",
       " '28d ago',\n",
       " 'via naukri.com',\n",
       " '19d ago',\n",
       " 'via naukri.com',\n",
       " '19d ago']"
      ]
     },
     "execution_count": 177,
     "metadata": {},
     "output_type": "execute_result"
    }
   ],
   "source": [
    "for i in posted:\n",
    "    t=i.text\n",
    "    time.append(t)\n",
    "time[0:10]"
   ]
  },
  {
   "cell_type": "code",
   "execution_count": 181,
   "id": "d0a6e831",
   "metadata": {},
   "outputs": [
    {
     "data": {
      "text/plain": [
       "[<selenium.webdriver.remote.webelement.WebElement (session=\"ccbd213bb77820650fc61076970ab4a8\", element=\"dd1e21c1-f4aa-410f-ac3c-07ca6e5dc2b9\")>,\n",
       " <selenium.webdriver.remote.webelement.WebElement (session=\"ccbd213bb77820650fc61076970ab4a8\", element=\"045d524e-b36e-447c-a227-007385c49fe3\")>,\n",
       " <selenium.webdriver.remote.webelement.WebElement (session=\"ccbd213bb77820650fc61076970ab4a8\", element=\"645f7ba7-1cd1-448e-8eb5-13c60972d1b2\")>,\n",
       " <selenium.webdriver.remote.webelement.WebElement (session=\"ccbd213bb77820650fc61076970ab4a8\", element=\"c0debac6-2cb5-4d69-8da7-d93ec6e6c091\")>,\n",
       " <selenium.webdriver.remote.webelement.WebElement (session=\"ccbd213bb77820650fc61076970ab4a8\", element=\"5569b897-d988-4a5e-a666-dadc0fd907de\")>,\n",
       " <selenium.webdriver.remote.webelement.WebElement (session=\"ccbd213bb77820650fc61076970ab4a8\", element=\"5d1cb87e-3def-4825-bf74-61b698de353e\")>,\n",
       " <selenium.webdriver.remote.webelement.WebElement (session=\"ccbd213bb77820650fc61076970ab4a8\", element=\"f6433077-51ad-4f0d-899a-dceaf2ba22e0\")>,\n",
       " <selenium.webdriver.remote.webelement.WebElement (session=\"ccbd213bb77820650fc61076970ab4a8\", element=\"3bbb9fba-1d19-4e28-a6a8-112ebda98d29\")>,\n",
       " <selenium.webdriver.remote.webelement.WebElement (session=\"ccbd213bb77820650fc61076970ab4a8\", element=\"fa6cda9e-10d3-4729-801d-d0a0d602b6f8\")>,\n",
       " <selenium.webdriver.remote.webelement.WebElement (session=\"ccbd213bb77820650fc61076970ab4a8\", element=\"78497a8f-d3a4-4665-840f-574c44e81cf7\")>]"
      ]
     },
     "execution_count": 181,
     "metadata": {},
     "output_type": "execute_result"
    }
   ],
   "source": [
    "rates=driver9.find_elements_by_xpath(\"//span[@class='body-small']\")\n",
    "rates[0:10]"
   ]
  },
  {
   "cell_type": "code",
   "execution_count": 182,
   "id": "1ae31aac",
   "metadata": {},
   "outputs": [
    {
     "data": {
      "text/plain": [
       "['4.1', '4.1', '4.1', '4.1', '4.1', '4.1', '3.8', '4.2', '3.9', '3.9']"
      ]
     },
     "execution_count": 182,
     "metadata": {},
     "output_type": "execute_result"
    }
   ],
   "source": [
    "for i in rates:\n",
    "    r=i.text\n",
    "    ratings_of_company.append(r)\n",
    "ratings_of_company[0:10]"
   ]
  },
  {
   "cell_type": "code",
   "execution_count": 183,
   "id": "82ec768a",
   "metadata": {},
   "outputs": [
    {
     "name": "stdout",
     "output_type": "stream",
     "text": [
      "11 41 11\n"
     ]
    }
   ],
   "source": [
    "print(len(com_name),len(time),len(ratings_of_company))"
   ]
  },
  {
   "cell_type": "code",
   "execution_count": 184,
   "id": "9a660ded",
   "metadata": {},
   "outputs": [],
   "source": [
    "scraped_data=pd.DataFrame({})\n",
    "scraped_data['company name']=com_name[0:10]\n",
    "scraped_data['posted before']=time[0:10]\n",
    "scraped_data['ratings']=ratings_of_company[0:10]"
   ]
  },
  {
   "cell_type": "code",
   "execution_count": 185,
   "id": "01fb528c",
   "metadata": {},
   "outputs": [
    {
     "data": {
      "text/html": [
       "<div>\n",
       "<style scoped>\n",
       "    .dataframe tbody tr th:only-of-type {\n",
       "        vertical-align: middle;\n",
       "    }\n",
       "\n",
       "    .dataframe tbody tr th {\n",
       "        vertical-align: top;\n",
       "    }\n",
       "\n",
       "    .dataframe thead th {\n",
       "        text-align: right;\n",
       "    }\n",
       "</style>\n",
       "<table border=\"1\" class=\"dataframe\">\n",
       "  <thead>\n",
       "    <tr style=\"text-align: right;\">\n",
       "      <th></th>\n",
       "      <th>company name</th>\n",
       "      <th>posted before</th>\n",
       "      <th>ratings</th>\n",
       "    </tr>\n",
       "  </thead>\n",
       "  <tbody>\n",
       "    <tr>\n",
       "      <th>0</th>\n",
       "      <td>Optum Global Solutions (India) Private Limited...</td>\n",
       "      <td>7d ago</td>\n",
       "      <td>4.1</td>\n",
       "    </tr>\n",
       "    <tr>\n",
       "      <th>1</th>\n",
       "      <td>Optum Global Solutions (India) Private Limited...</td>\n",
       "      <td>7d ago</td>\n",
       "      <td>4.1</td>\n",
       "    </tr>\n",
       "    <tr>\n",
       "      <th>2</th>\n",
       "      <td>Ameriprise Financial\\n4.1\\n(250 Reviews)</td>\n",
       "      <td>via naukri.com</td>\n",
       "      <td>4.1</td>\n",
       "    </tr>\n",
       "    <tr>\n",
       "      <th>3</th>\n",
       "      <td>Optum Global Solutions (India) Private Limited...</td>\n",
       "      <td>2d ago</td>\n",
       "      <td>4.1</td>\n",
       "    </tr>\n",
       "    <tr>\n",
       "      <th>4</th>\n",
       "      <td>Steria India Ltd\\n4.1\\n(829 Reviews)</td>\n",
       "      <td>via naukri.com</td>\n",
       "      <td>4.1</td>\n",
       "    </tr>\n",
       "    <tr>\n",
       "      <th>5</th>\n",
       "      <td>Steria India Ltd\\n4.1\\n(829 Reviews)</td>\n",
       "      <td>28d ago</td>\n",
       "      <td>4.1</td>\n",
       "    </tr>\n",
       "    <tr>\n",
       "      <th>6</th>\n",
       "      <td>HCL Technologies Limited\\n3.8\\n(13.2k Reviews)</td>\n",
       "      <td>via naukri.com</td>\n",
       "      <td>3.8</td>\n",
       "    </tr>\n",
       "    <tr>\n",
       "      <th>7</th>\n",
       "      <td>Zyoin\\n4.2\\n(61 Reviews)</td>\n",
       "      <td>19d ago</td>\n",
       "      <td>4.2</td>\n",
       "    </tr>\n",
       "    <tr>\n",
       "      <th>8</th>\n",
       "      <td>GI Group\\n3.9\\n(68 Reviews)</td>\n",
       "      <td>via naukri.com</td>\n",
       "      <td>3.9</td>\n",
       "    </tr>\n",
       "    <tr>\n",
       "      <th>9</th>\n",
       "      <td>GI Group\\n3.9\\n(68 Reviews)</td>\n",
       "      <td>19d ago</td>\n",
       "      <td>3.9</td>\n",
       "    </tr>\n",
       "  </tbody>\n",
       "</table>\n",
       "</div>"
      ],
      "text/plain": [
       "                                        company name   posted before ratings\n",
       "0  Optum Global Solutions (India) Private Limited...          7d ago     4.1\n",
       "1  Optum Global Solutions (India) Private Limited...          7d ago     4.1\n",
       "2           Ameriprise Financial\\n4.1\\n(250 Reviews)  via naukri.com     4.1\n",
       "3  Optum Global Solutions (India) Private Limited...          2d ago     4.1\n",
       "4               Steria India Ltd\\n4.1\\n(829 Reviews)  via naukri.com     4.1\n",
       "5               Steria India Ltd\\n4.1\\n(829 Reviews)         28d ago     4.1\n",
       "6     HCL Technologies Limited\\n3.8\\n(13.2k Reviews)  via naukri.com     3.8\n",
       "7                           Zyoin\\n4.2\\n(61 Reviews)         19d ago     4.2\n",
       "8                        GI Group\\n3.9\\n(68 Reviews)  via naukri.com     3.9\n",
       "9                        GI Group\\n3.9\\n(68 Reviews)         19d ago     3.9"
      ]
     },
     "execution_count": 185,
     "metadata": {},
     "output_type": "execute_result"
    }
   ],
   "source": [
    "scraped_data"
   ]
  },
  {
   "cell_type": "code",
   "execution_count": 186,
   "id": "3c346fe0",
   "metadata": {},
   "outputs": [],
   "source": [
    "driver9.close()"
   ]
  },
  {
   "cell_type": "markdown",
   "id": "70748101",
   "metadata": {},
   "source": [
    "# Q10"
   ]
  },
  {
   "cell_type": "code",
   "execution_count": 18,
   "id": "07854693",
   "metadata": {},
   "outputs": [
    {
     "name": "stdout",
     "output_type": "stream",
     "text": [
      "Requirement already satisfied: selenium in c:\\users\\deep\\anaconda3\\lib\\site-packages (4.0.0)\n",
      "Requirement already satisfied: urllib3[secure]~=1.26 in c:\\users\\deep\\anaconda3\\lib\\site-packages (from selenium) (1.26.4)\n",
      "Requirement already satisfied: trio~=0.17 in c:\\users\\deep\\anaconda3\\lib\\site-packages (from selenium) (0.19.0)\n",
      "Requirement already satisfied: trio-websocket~=0.9 in c:\\users\\deep\\anaconda3\\lib\\site-packages (from selenium) (0.9.2)\n",
      "Requirement already satisfied: outcome in c:\\users\\deep\\anaconda3\\lib\\site-packages (from trio~=0.17->selenium) (1.1.0)\n",
      "Requirement already satisfied: async-generator>=1.9 in c:\\users\\deep\\anaconda3\\lib\\site-packages (from trio~=0.17->selenium) (1.10)\n",
      "Requirement already satisfied: idna in c:\\users\\deep\\anaconda3\\lib\\site-packages (from trio~=0.17->selenium) (2.10)\n",
      "Requirement already satisfied: cffi>=1.14 in c:\\users\\deep\\anaconda3\\lib\\site-packages (from trio~=0.17->selenium) (1.14.5)\n",
      "Requirement already satisfied: sniffio in c:\\users\\deep\\anaconda3\\lib\\site-packages (from trio~=0.17->selenium) (1.2.0)\n",
      "Requirement already satisfied: sortedcontainers in c:\\users\\deep\\anaconda3\\lib\\site-packages (from trio~=0.17->selenium) (2.3.0)\n",
      "Requirement already satisfied: attrs>=19.2.0 in c:\\users\\deep\\anaconda3\\lib\\site-packages (from trio~=0.17->selenium) (20.3.0)\n",
      "Requirement already satisfied: pycparser in c:\\users\\deep\\anaconda3\\lib\\site-packages (from cffi>=1.14->trio~=0.17->selenium) (2.20)\n",
      "Requirement already satisfied: wsproto>=0.14 in c:\\users\\deep\\anaconda3\\lib\\site-packages (from trio-websocket~=0.9->selenium) (1.0.0)\n",
      "Requirement already satisfied: cryptography>=1.3.4 in c:\\users\\deep\\anaconda3\\lib\\site-packages (from urllib3[secure]~=1.26->selenium) (3.4.7)\n",
      "Requirement already satisfied: pyOpenSSL>=0.14 in c:\\users\\deep\\anaconda3\\lib\\site-packages (from urllib3[secure]~=1.26->selenium) (20.0.1)\n",
      "Requirement already satisfied: certifi in c:\\users\\deep\\anaconda3\\lib\\site-packages (from urllib3[secure]~=1.26->selenium) (2020.12.5)\n",
      "Requirement already satisfied: six>=1.5.2 in c:\\users\\deep\\anaconda3\\lib\\site-packages (from pyOpenSSL>=0.14->urllib3[secure]~=1.26->selenium) (1.15.0)\n",
      "Requirement already satisfied: h11<1,>=0.9.0 in c:\\users\\deep\\anaconda3\\lib\\site-packages (from wsproto>=0.14->trio-websocket~=0.9->selenium) (0.12.0)\n"
     ]
    }
   ],
   "source": [
    "!pip install selenium"
   ]
  },
  {
   "cell_type": "code",
   "execution_count": 19,
   "id": "46b4c06d",
   "metadata": {},
   "outputs": [],
   "source": [
    "import pandas as pd\n",
    "import selenium\n",
    "from selenium import webdriver\n",
    "import warnings\n",
    "warnings.filterwarnings('ignore')"
   ]
  },
  {
   "cell_type": "code",
   "execution_count": 20,
   "id": "600e3c15",
   "metadata": {},
   "outputs": [],
   "source": [
    "driver10=webdriver.Chrome(r'C:/Users/Deep/Downloads/chromedriver_win32/chromedriver.exe')"
   ]
  },
  {
   "cell_type": "code",
   "execution_count": 21,
   "id": "9379fc47",
   "metadata": {},
   "outputs": [],
   "source": [
    "driver10.get('https://www.ambitionbox.com/')"
   ]
  },
  {
   "cell_type": "code",
   "execution_count": 22,
   "id": "a9df2c71",
   "metadata": {},
   "outputs": [],
   "source": [
    "search_tab=driver10.find_element_by_xpath(\"//a[@class='link salaries']\")\n",
    "search_tab.click()"
   ]
  },
  {
   "cell_type": "code",
   "execution_count": 23,
   "id": "025be642",
   "metadata": {},
   "outputs": [],
   "source": [
    "search_feild=driver10.find_element_by_xpath(\"//*[@id='jobProfileSearchbox']\")\n",
    "search_feild.send_keys('Data Scientist')"
   ]
  },
  {
   "cell_type": "code",
   "execution_count": 24,
   "id": "01ce801b",
   "metadata": {},
   "outputs": [],
   "source": [
    "ds_select=driver10.find_element_by_xpath(\"//i[@class='icon-search']\")\n",
    "ds_select.click()"
   ]
  },
  {
   "cell_type": "code",
   "execution_count": 25,
   "id": "f2c93f5e",
   "metadata": {},
   "outputs": [],
   "source": [
    "company_name=[]\n",
    "total_sal=[]\n",
    "avg_sal=[]\n",
    "min_sal=[]\n",
    "max_sal=[]\n",
    "exp_need=[]"
   ]
  },
  {
   "cell_type": "code",
   "execution_count": 26,
   "id": "69a419bc",
   "metadata": {},
   "outputs": [
    {
     "data": {
      "text/plain": [
       "[<selenium.webdriver.remote.webelement.WebElement (session=\"17bb1b6b1a5139a9177af69377c5f032\", element=\"30fe99d1-b35e-4a53-95b8-75f8d885eee3\")>,\n",
       " <selenium.webdriver.remote.webelement.WebElement (session=\"17bb1b6b1a5139a9177af69377c5f032\", element=\"104fccd3-a1e4-4216-b8e5-0469324f3107\")>,\n",
       " <selenium.webdriver.remote.webelement.WebElement (session=\"17bb1b6b1a5139a9177af69377c5f032\", element=\"b1f71ff2-b679-4729-8362-e28548110a37\")>,\n",
       " <selenium.webdriver.remote.webelement.WebElement (session=\"17bb1b6b1a5139a9177af69377c5f032\", element=\"efe0af17-91bb-4a2e-9a18-c10cf59929f8\")>,\n",
       " <selenium.webdriver.remote.webelement.WebElement (session=\"17bb1b6b1a5139a9177af69377c5f032\", element=\"098a7c97-affa-4af6-a201-a4776992869d\")>,\n",
       " <selenium.webdriver.remote.webelement.WebElement (session=\"17bb1b6b1a5139a9177af69377c5f032\", element=\"54be0038-6ffc-4b85-968e-76f2b277f434\")>,\n",
       " <selenium.webdriver.remote.webelement.WebElement (session=\"17bb1b6b1a5139a9177af69377c5f032\", element=\"4f7011c8-2fef-40c3-a433-7d299c4294c8\")>,\n",
       " <selenium.webdriver.remote.webelement.WebElement (session=\"17bb1b6b1a5139a9177af69377c5f032\", element=\"ca1342bd-0e42-419a-aa95-05d4e53c49d2\")>,\n",
       " <selenium.webdriver.remote.webelement.WebElement (session=\"17bb1b6b1a5139a9177af69377c5f032\", element=\"1684f44f-33f4-4395-a5fd-e3b698b67969\")>,\n",
       " <selenium.webdriver.remote.webelement.WebElement (session=\"17bb1b6b1a5139a9177af69377c5f032\", element=\"db01092d-298e-47ea-ae0a-54f64f9d428f\")>]"
      ]
     },
     "execution_count": 26,
     "metadata": {},
     "output_type": "execute_result"
    }
   ],
   "source": [
    "companies=driver10.find_elements_by_xpath(\"//div[@class='name']/a[1]\")\n",
    "companies[0:10]"
   ]
  },
  {
   "cell_type": "code",
   "execution_count": 27,
   "id": "58f133d2",
   "metadata": {},
   "outputs": [
    {
     "data": {
      "text/plain": [
       "['Microsoft Corporation',\n",
       " 'Goldman Sachs',\n",
       " 'Flipkart',\n",
       " 'Amazon',\n",
       " 'Servicenow Software Development India',\n",
       " 'ServiceNow',\n",
       " 'Walmart',\n",
       " 'Arcesium',\n",
       " 'PayPal',\n",
       " 'Visa']"
      ]
     },
     "execution_count": 27,
     "metadata": {},
     "output_type": "execute_result"
    }
   ],
   "source": [
    "for i in companies:\n",
    "    c=i.text\n",
    "    company_name.append(c)\n",
    "company_name[0:10]"
   ]
  },
  {
   "cell_type": "code",
   "execution_count": 28,
   "id": "4cb8794d",
   "metadata": {},
   "outputs": [
    {
     "data": {
      "text/plain": [
       "['based on 209 salaries',\n",
       " 'based on 10 salaries',\n",
       " 'based on 51 salaries',\n",
       " 'based on 75 salaries',\n",
       " 'based on 25 salaries',\n",
       " 'based on 15 salaries',\n",
       " 'based on 70 salaries',\n",
       " 'based on 54 salaries',\n",
       " 'based on 12 salaries',\n",
       " 'based on 26 salaries']"
      ]
     },
     "execution_count": 28,
     "metadata": {},
     "output_type": "execute_result"
    }
   ],
   "source": [
    "overall_sal= driver10.find_elements_by_xpath('//div[@class=\"name\"]/span')\n",
    "for i in overall_sal:\n",
    "    total_sal.append(i.text)\n",
    "total_sal"
   ]
  },
  {
   "cell_type": "code",
   "execution_count": 29,
   "id": "cd43ac10",
   "metadata": {},
   "outputs": [
    {
     "data": {
      "text/plain": [
       "[<selenium.webdriver.remote.webelement.WebElement (session=\"17bb1b6b1a5139a9177af69377c5f032\", element=\"c44e3ab9-0e5e-47e9-b907-5560e521bfa8\")>,\n",
       " <selenium.webdriver.remote.webelement.WebElement (session=\"17bb1b6b1a5139a9177af69377c5f032\", element=\"e2c0328c-6556-4b7c-bbff-caef4ebf94d6\")>,\n",
       " <selenium.webdriver.remote.webelement.WebElement (session=\"17bb1b6b1a5139a9177af69377c5f032\", element=\"e95e2014-78a5-47cd-b83a-3d751c1f5af3\")>,\n",
       " <selenium.webdriver.remote.webelement.WebElement (session=\"17bb1b6b1a5139a9177af69377c5f032\", element=\"8ec3a584-c274-4c3f-9f85-6c561f7549f1\")>,\n",
       " <selenium.webdriver.remote.webelement.WebElement (session=\"17bb1b6b1a5139a9177af69377c5f032\", element=\"0a373d44-a6fd-4be1-b69e-761d3c728602\")>,\n",
       " <selenium.webdriver.remote.webelement.WebElement (session=\"17bb1b6b1a5139a9177af69377c5f032\", element=\"c4c58dac-7427-4361-82df-476815204edc\")>,\n",
       " <selenium.webdriver.remote.webelement.WebElement (session=\"17bb1b6b1a5139a9177af69377c5f032\", element=\"49982fe0-35af-411e-98f3-a82a4d49e685\")>,\n",
       " <selenium.webdriver.remote.webelement.WebElement (session=\"17bb1b6b1a5139a9177af69377c5f032\", element=\"2af90aae-a836-4f81-86d5-3b309f750af7\")>,\n",
       " <selenium.webdriver.remote.webelement.WebElement (session=\"17bb1b6b1a5139a9177af69377c5f032\", element=\"e41d3386-b2fb-4b04-a959-d8113203169b\")>,\n",
       " <selenium.webdriver.remote.webelement.WebElement (session=\"17bb1b6b1a5139a9177af69377c5f032\", element=\"9fc95000-9f98-4bd5-a2b0-d7057e431c90\")>]"
      ]
     },
     "execution_count": 29,
     "metadata": {},
     "output_type": "execute_result"
    }
   ],
   "source": [
    "sal_avg=driver10.find_elements_by_xpath(\"//p[@class='averageCtc']\")\n",
    "sal_avg[0:10]"
   ]
  },
  {
   "cell_type": "code",
   "execution_count": 30,
   "id": "20ebf120",
   "metadata": {},
   "outputs": [
    {
     "data": {
      "text/plain": [
       "['₹ 22.4L',\n",
       " '₹ 21.2L',\n",
       " '₹ 20.8L',\n",
       " '₹ 19.2L',\n",
       " '₹ 18.2L',\n",
       " '₹ 18.0L',\n",
       " '₹ 17.9L',\n",
       " '₹ 17.7L',\n",
       " '₹ 17.6L',\n",
       " '₹ 17.1L']"
      ]
     },
     "execution_count": 30,
     "metadata": {},
     "output_type": "execute_result"
    }
   ],
   "source": [
    "for i in sal_avg:\n",
    "    s_a=i.text\n",
    "    avg_sal.append(s_a)\n",
    "avg_sal[0:10]"
   ]
  },
  {
   "cell_type": "code",
   "execution_count": 34,
   "id": "0dc236c8",
   "metadata": {},
   "outputs": [
    {
     "data": {
      "text/plain": [
       "['₹ 12.0L',\n",
       " '₹ 16.0L',\n",
       " '₹ 7.0L',\n",
       " '₹ 8.0L',\n",
       " '₹ 13.0L',\n",
       " '₹ 11.2L',\n",
       " '₹ 10.0L',\n",
       " '₹ 12.0L',\n",
       " '₹ 12.0L',\n",
       " '₹ 13.0L']"
      ]
     },
     "execution_count": 34,
     "metadata": {},
     "output_type": "execute_result"
    }
   ],
   "source": [
    "sal_min= driver10.find_elements_by_xpath('//div[@class=\"value body-medium\"]')\n",
    "for i in range(0,len(sal_min),2):\n",
    "    min_sal.append(sal_min[i].text)\n",
    "min_sal[0:10]"
   ]
  },
  {
   "cell_type": "code",
   "execution_count": 36,
   "id": "137621a1",
   "metadata": {},
   "outputs": [
    {
     "data": {
      "text/plain": [
       "['₹ 45.0L',\n",
       " '₹ 30.0L',\n",
       " '₹ 30.0L',\n",
       " '₹ 40.0L',\n",
       " '₹ 25.0L',\n",
       " '₹ 23.0L',\n",
       " '₹ 32.0L',\n",
       " '₹ 30.0L',\n",
       " '₹ 23.0L',\n",
       " '₹ 23.0L']"
      ]
     },
     "execution_count": 36,
     "metadata": {},
     "output_type": "execute_result"
    }
   ],
   "source": [
    "salary_max= driver10.find_elements_by_xpath('//div[@class=\"value body-medium\"]')\n",
    "for i in range(1,len(salary_max),2):\n",
    "    max_sal.append(salary_max[i].text)\n",
    "max_sal[0:10]"
   ]
  },
  {
   "cell_type": "code",
   "execution_count": 37,
   "id": "d9bc37ac",
   "metadata": {},
   "outputs": [
    {
     "data": {
      "text/plain": [
       "[<selenium.webdriver.remote.webelement.WebElement (session=\"17bb1b6b1a5139a9177af69377c5f032\", element=\"5c2fa1b8-0d91-4e51-94d4-1f3b8d9b3403\")>,\n",
       " <selenium.webdriver.remote.webelement.WebElement (session=\"17bb1b6b1a5139a9177af69377c5f032\", element=\"0d65fa5f-03f8-4e67-a26b-a91771eb2cf4\")>,\n",
       " <selenium.webdriver.remote.webelement.WebElement (session=\"17bb1b6b1a5139a9177af69377c5f032\", element=\"28b73606-56f6-49bd-99c3-b5cd1a0193b4\")>,\n",
       " <selenium.webdriver.remote.webelement.WebElement (session=\"17bb1b6b1a5139a9177af69377c5f032\", element=\"eb28a9f5-3d09-47a8-b7a0-43887a0634ce\")>,\n",
       " <selenium.webdriver.remote.webelement.WebElement (session=\"17bb1b6b1a5139a9177af69377c5f032\", element=\"fb172537-0c8c-4d00-97d3-d100575b81c2\")>,\n",
       " <selenium.webdriver.remote.webelement.WebElement (session=\"17bb1b6b1a5139a9177af69377c5f032\", element=\"a41c1191-fd8d-4b3a-9cae-e89ce18d3fce\")>,\n",
       " <selenium.webdriver.remote.webelement.WebElement (session=\"17bb1b6b1a5139a9177af69377c5f032\", element=\"1eab308d-13dc-4068-aaef-143f4afdd01f\")>,\n",
       " <selenium.webdriver.remote.webelement.WebElement (session=\"17bb1b6b1a5139a9177af69377c5f032\", element=\"4784863b-c669-4823-a37b-d3716e298e36\")>,\n",
       " <selenium.webdriver.remote.webelement.WebElement (session=\"17bb1b6b1a5139a9177af69377c5f032\", element=\"dfb0d749-6236-4c9f-a214-ea699b9b5e63\")>,\n",
       " <selenium.webdriver.remote.webelement.WebElement (session=\"17bb1b6b1a5139a9177af69377c5f032\", element=\"e4e7f7dc-641b-4ede-87d0-335b10e60e6f\")>]"
      ]
     },
     "execution_count": 37,
     "metadata": {},
     "output_type": "execute_result"
    }
   ],
   "source": [
    "require=driver10.find_elements_by_xpath(\"//div[@class='salaries sbold-list-header']\")\n",
    "require[0:10]"
   ]
  },
  {
   "cell_type": "code",
   "execution_count": 38,
   "id": "3fe6f06c",
   "metadata": {},
   "outputs": [
    {
     "data": {
      "text/plain": [
       "['Software Engineer\\n . \\n1-4 yrs exp',\n",
       " 'Software Engineer\\n . \\n2 yrs exp',\n",
       " 'Software Engineer\\n . \\n1-4 yrs exp',\n",
       " 'Software Engineer\\n . \\n1-4 yrs exp',\n",
       " 'Software Engineer\\n . \\n2-3 yrs exp',\n",
       " 'Software Engineer\\n . \\n3 yrs exp',\n",
       " 'Software Engineer\\n . \\n1-4 yrs exp',\n",
       " 'Software Engineer\\n . \\n1-2 yrs exp',\n",
       " 'Software Engineer\\n . \\n1 yr exp',\n",
       " 'Software Engineer\\n . \\n1-2 yrs exp']"
      ]
     },
     "execution_count": 38,
     "metadata": {},
     "output_type": "execute_result"
    }
   ],
   "source": [
    "for i in require:\n",
    "    r=i.text\n",
    "    exp_need.append(r)\n",
    "exp_need[0:10]"
   ]
  },
  {
   "cell_type": "code",
   "execution_count": 39,
   "id": "ca0aecaa",
   "metadata": {},
   "outputs": [],
   "source": [
    "df_salary=pd.DataFrame({})\n",
    "df_salary['company_name']=company_name[0:10]\n",
    "df_salary['total salary']=total_sal[0:10]\n",
    "df_salary['average salary']=avg_sal[0:10]\n",
    "df_salary['maximun salary']=max_sal[0:10]\n",
    "df_salary['minimum salary']=min_sal[0:10]\n",
    "df_salary['experience required']=exp_need[0:10]"
   ]
  },
  {
   "cell_type": "code",
   "execution_count": 40,
   "id": "ea03b504",
   "metadata": {},
   "outputs": [
    {
     "data": {
      "text/html": [
       "<div>\n",
       "<style scoped>\n",
       "    .dataframe tbody tr th:only-of-type {\n",
       "        vertical-align: middle;\n",
       "    }\n",
       "\n",
       "    .dataframe tbody tr th {\n",
       "        vertical-align: top;\n",
       "    }\n",
       "\n",
       "    .dataframe thead th {\n",
       "        text-align: right;\n",
       "    }\n",
       "</style>\n",
       "<table border=\"1\" class=\"dataframe\">\n",
       "  <thead>\n",
       "    <tr style=\"text-align: right;\">\n",
       "      <th></th>\n",
       "      <th>company_name</th>\n",
       "      <th>total salary</th>\n",
       "      <th>average salary</th>\n",
       "      <th>maximun salary</th>\n",
       "      <th>minimum salary</th>\n",
       "      <th>experience required</th>\n",
       "    </tr>\n",
       "  </thead>\n",
       "  <tbody>\n",
       "    <tr>\n",
       "      <th>0</th>\n",
       "      <td>Microsoft Corporation</td>\n",
       "      <td>based on 209 salaries</td>\n",
       "      <td>₹ 22.4L</td>\n",
       "      <td>₹ 45.0L</td>\n",
       "      <td>₹ 12.0L</td>\n",
       "      <td>Software Engineer\\n . \\n1-4 yrs exp</td>\n",
       "    </tr>\n",
       "    <tr>\n",
       "      <th>1</th>\n",
       "      <td>Goldman Sachs</td>\n",
       "      <td>based on 10 salaries</td>\n",
       "      <td>₹ 21.2L</td>\n",
       "      <td>₹ 30.0L</td>\n",
       "      <td>₹ 16.0L</td>\n",
       "      <td>Software Engineer\\n . \\n2 yrs exp</td>\n",
       "    </tr>\n",
       "    <tr>\n",
       "      <th>2</th>\n",
       "      <td>Flipkart</td>\n",
       "      <td>based on 51 salaries</td>\n",
       "      <td>₹ 20.8L</td>\n",
       "      <td>₹ 30.0L</td>\n",
       "      <td>₹ 7.0L</td>\n",
       "      <td>Software Engineer\\n . \\n1-4 yrs exp</td>\n",
       "    </tr>\n",
       "    <tr>\n",
       "      <th>3</th>\n",
       "      <td>Amazon</td>\n",
       "      <td>based on 75 salaries</td>\n",
       "      <td>₹ 19.2L</td>\n",
       "      <td>₹ 40.0L</td>\n",
       "      <td>₹ 8.0L</td>\n",
       "      <td>Software Engineer\\n . \\n1-4 yrs exp</td>\n",
       "    </tr>\n",
       "    <tr>\n",
       "      <th>4</th>\n",
       "      <td>Servicenow Software Development India</td>\n",
       "      <td>based on 25 salaries</td>\n",
       "      <td>₹ 18.2L</td>\n",
       "      <td>₹ 25.0L</td>\n",
       "      <td>₹ 13.0L</td>\n",
       "      <td>Software Engineer\\n . \\n2-3 yrs exp</td>\n",
       "    </tr>\n",
       "    <tr>\n",
       "      <th>5</th>\n",
       "      <td>ServiceNow</td>\n",
       "      <td>based on 15 salaries</td>\n",
       "      <td>₹ 18.0L</td>\n",
       "      <td>₹ 23.0L</td>\n",
       "      <td>₹ 11.2L</td>\n",
       "      <td>Software Engineer\\n . \\n3 yrs exp</td>\n",
       "    </tr>\n",
       "    <tr>\n",
       "      <th>6</th>\n",
       "      <td>Walmart</td>\n",
       "      <td>based on 70 salaries</td>\n",
       "      <td>₹ 17.9L</td>\n",
       "      <td>₹ 32.0L</td>\n",
       "      <td>₹ 10.0L</td>\n",
       "      <td>Software Engineer\\n . \\n1-4 yrs exp</td>\n",
       "    </tr>\n",
       "    <tr>\n",
       "      <th>7</th>\n",
       "      <td>Arcesium</td>\n",
       "      <td>based on 54 salaries</td>\n",
       "      <td>₹ 17.7L</td>\n",
       "      <td>₹ 30.0L</td>\n",
       "      <td>₹ 12.0L</td>\n",
       "      <td>Software Engineer\\n . \\n1-2 yrs exp</td>\n",
       "    </tr>\n",
       "    <tr>\n",
       "      <th>8</th>\n",
       "      <td>PayPal</td>\n",
       "      <td>based on 12 salaries</td>\n",
       "      <td>₹ 17.6L</td>\n",
       "      <td>₹ 23.0L</td>\n",
       "      <td>₹ 12.0L</td>\n",
       "      <td>Software Engineer\\n . \\n1 yr exp</td>\n",
       "    </tr>\n",
       "    <tr>\n",
       "      <th>9</th>\n",
       "      <td>Visa</td>\n",
       "      <td>based on 26 salaries</td>\n",
       "      <td>₹ 17.1L</td>\n",
       "      <td>₹ 23.0L</td>\n",
       "      <td>₹ 13.0L</td>\n",
       "      <td>Software Engineer\\n . \\n1-2 yrs exp</td>\n",
       "    </tr>\n",
       "  </tbody>\n",
       "</table>\n",
       "</div>"
      ],
      "text/plain": [
       "                            company_name           total salary  \\\n",
       "0                  Microsoft Corporation  based on 209 salaries   \n",
       "1                          Goldman Sachs   based on 10 salaries   \n",
       "2                               Flipkart   based on 51 salaries   \n",
       "3                                 Amazon   based on 75 salaries   \n",
       "4  Servicenow Software Development India   based on 25 salaries   \n",
       "5                             ServiceNow   based on 15 salaries   \n",
       "6                                Walmart   based on 70 salaries   \n",
       "7                               Arcesium   based on 54 salaries   \n",
       "8                                 PayPal   based on 12 salaries   \n",
       "9                                   Visa   based on 26 salaries   \n",
       "\n",
       "  average salary maximun salary minimum salary  \\\n",
       "0        ₹ 22.4L        ₹ 45.0L        ₹ 12.0L   \n",
       "1        ₹ 21.2L        ₹ 30.0L        ₹ 16.0L   \n",
       "2        ₹ 20.8L        ₹ 30.0L         ₹ 7.0L   \n",
       "3        ₹ 19.2L        ₹ 40.0L         ₹ 8.0L   \n",
       "4        ₹ 18.2L        ₹ 25.0L        ₹ 13.0L   \n",
       "5        ₹ 18.0L        ₹ 23.0L        ₹ 11.2L   \n",
       "6        ₹ 17.9L        ₹ 32.0L        ₹ 10.0L   \n",
       "7        ₹ 17.7L        ₹ 30.0L        ₹ 12.0L   \n",
       "8        ₹ 17.6L        ₹ 23.0L        ₹ 12.0L   \n",
       "9        ₹ 17.1L        ₹ 23.0L        ₹ 13.0L   \n",
       "\n",
       "                   experience required  \n",
       "0  Software Engineer\\n . \\n1-4 yrs exp  \n",
       "1    Software Engineer\\n . \\n2 yrs exp  \n",
       "2  Software Engineer\\n . \\n1-4 yrs exp  \n",
       "3  Software Engineer\\n . \\n1-4 yrs exp  \n",
       "4  Software Engineer\\n . \\n2-3 yrs exp  \n",
       "5    Software Engineer\\n . \\n3 yrs exp  \n",
       "6  Software Engineer\\n . \\n1-4 yrs exp  \n",
       "7  Software Engineer\\n . \\n1-2 yrs exp  \n",
       "8     Software Engineer\\n . \\n1 yr exp  \n",
       "9  Software Engineer\\n . \\n1-2 yrs exp  "
      ]
     },
     "execution_count": 40,
     "metadata": {},
     "output_type": "execute_result"
    }
   ],
   "source": [
    "df_salary"
   ]
  },
  {
   "cell_type": "code",
   "execution_count": 41,
   "id": "f5d2e205",
   "metadata": {},
   "outputs": [],
   "source": [
    "driver10.close()"
   ]
  },
  {
   "cell_type": "code",
   "execution_count": null,
   "id": "1b284c39",
   "metadata": {},
   "outputs": [],
   "source": []
  }
 ],
 "metadata": {
  "kernelspec": {
   "display_name": "Python 3",
   "language": "python",
   "name": "python3"
  },
  "language_info": {
   "codemirror_mode": {
    "name": "ipython",
    "version": 3
   },
   "file_extension": ".py",
   "mimetype": "text/x-python",
   "name": "python",
   "nbconvert_exporter": "python",
   "pygments_lexer": "ipython3",
   "version": "3.8.8"
  }
 },
 "nbformat": 4,
 "nbformat_minor": 5
}
