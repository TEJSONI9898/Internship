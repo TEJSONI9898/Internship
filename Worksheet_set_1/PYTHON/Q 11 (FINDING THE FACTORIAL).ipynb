{
 "cells": [
  {
   "cell_type": "markdown",
   "id": "cbf0bd8e",
   "metadata": {},
   "source": [
    "# Writing a python program to find the factorial of a number."
   ]
  },
  {
   "cell_type": "markdown",
   "id": "605167fa",
   "metadata": {},
   "source": [
    "1. defining a function to find a factorial of any no.\n",
    "   # x is passed as an argument which will carry out the value that the user will proving while calling the function\n",
    "   # n is a variable holding 1(as the allcoation of the values will be from 0 by default)"
   ]
  },
  {
   "cell_type": "code",
   "execution_count": 1,
   "id": "e58a886d",
   "metadata": {},
   "outputs": [],
   "source": [
    "def fact(x):\n",
    "    n=1\n",
    "    for i in range(1,x+1):\n",
    "        n=n*i\n",
    "    return n"
   ]
  },
  {
   "cell_type": "markdown",
   "id": "e0d47567",
   "metadata": {},
   "source": [
    "2. taking input from the user for the no. that he/she wants a factorial of"
   ]
  },
  {
   "cell_type": "code",
   "execution_count": 2,
   "id": "3d47d47e",
   "metadata": {
    "scrolled": true
   },
   "outputs": [
    {
     "name": "stdout",
     "output_type": "stream",
     "text": [
      "Enter a no.5\n"
     ]
    }
   ],
   "source": [
    "y=int(input('Enter a no.'))"
   ]
  },
  {
   "cell_type": "markdown",
   "id": "49ea1aec",
   "metadata": {},
   "source": [
    "3. storing the factorial in the result variable & printing the factorial"
   ]
  },
  {
   "cell_type": "code",
   "execution_count": 3,
   "id": "6bb69e8a",
   "metadata": {},
   "outputs": [
    {
     "data": {
      "text/plain": [
       "120"
      ]
     },
     "execution_count": 3,
     "metadata": {},
     "output_type": "execute_result"
    }
   ],
   "source": [
    "result=fact(y)\n",
    "result"
   ]
  },
  {
   "cell_type": "markdown",
   "id": "fc598823",
   "metadata": {},
   "source": [
    "4. u can either print the factorial without storing the result in the variable just like shown below"
   ]
  },
  {
   "cell_type": "code",
   "execution_count": 4,
   "id": "439360fc",
   "metadata": {},
   "outputs": [
    {
     "data": {
      "text/plain": [
       "40320"
      ]
     },
     "execution_count": 4,
     "metadata": {},
     "output_type": "execute_result"
    }
   ],
   "source": [
    "fact(8)"
   ]
  },
  {
   "cell_type": "code",
   "execution_count": null,
   "id": "a1293032",
   "metadata": {},
   "outputs": [],
   "source": []
  }
 ],
 "metadata": {
  "kernelspec": {
   "display_name": "Python 3",
   "language": "python",
   "name": "python3"
  },
  "language_info": {
   "codemirror_mode": {
    "name": "ipython",
    "version": 3
   },
   "file_extension": ".py",
   "mimetype": "text/x-python",
   "name": "python",
   "nbconvert_exporter": "python",
   "pygments_lexer": "ipython3",
   "version": "3.8.8"
  }
 },
 "nbformat": 4,
 "nbformat_minor": 5
}
