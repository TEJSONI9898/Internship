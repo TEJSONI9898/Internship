{
 "cells": [
  {
   "cell_type": "markdown",
   "id": "a6125a51",
   "metadata": {},
   "source": [
    "# Writing a python program to check whether a given string is palindrome or not.\n"
   ]
  },
  {
   "cell_type": "code",
   "execution_count": 1,
   "id": "4ef89c4e",
   "metadata": {},
   "outputs": [],
   "source": [
    "def palindrome(x):\n",
    "    y=''\n",
    "\n",
    "    for i in x:\n",
    "        y=i+y\n",
    "    \n",
    "    if(x==y):\n",
    "        print('The given string is Palindrome')\n",
    "    \n",
    "    else:\n",
    "        print('The given string is not a Palindrome')\n",
    "        "
   ]
  },
  {
   "cell_type": "markdown",
   "id": "4fbdc63a",
   "metadata": {},
   "source": [
    "defining a function by that user can check that the string is palindrome or not\n",
    "\n",
    "x is the varibale holding the value that user have entered for testing either the given string is plaindrome or not \n",
    "\n",
    "Before understanding the code let us first understand what a plandrome is:- \n",
    "1. if the given string reversed still it gives the same output it is known as palindrome \n",
    "2. for example:- if user enter naman reversing of that would be naman itself so the string will be known as plaindrome\n",
    "\n",
    "taking variable w for adding the reverse value \n",
    "\n",
    "by using for loop making the reverse of the given string \n",
    "\n",
    "lastly by using if else comparing the strings that by reversing the string does the string gives same output or not \n",
    "\n",
    "now u can call the function by just writing palindrome() u can provide your string in the brackets"
   ]
  },
  {
   "cell_type": "code",
   "execution_count": 2,
   "id": "c1abc282",
   "metadata": {},
   "outputs": [
    {
     "name": "stdout",
     "output_type": "stream",
     "text": [
      "The given string is not a Palindrome\n"
     ]
    }
   ],
   "source": [
    "palindrome('teacher')"
   ]
  },
  {
   "cell_type": "code",
   "execution_count": 3,
   "id": "a632dff4",
   "metadata": {},
   "outputs": [
    {
     "name": "stdout",
     "output_type": "stream",
     "text": [
      "The given string is Palindrome\n"
     ]
    }
   ],
   "source": [
    "palindrome('naman')"
   ]
  },
  {
   "cell_type": "code",
   "execution_count": null,
   "id": "e28398ad",
   "metadata": {},
   "outputs": [],
   "source": []
  }
 ],
 "metadata": {
  "kernelspec": {
   "display_name": "Python 3",
   "language": "python",
   "name": "python3"
  },
  "language_info": {
   "codemirror_mode": {
    "name": "ipython",
    "version": 3
   },
   "file_extension": ".py",
   "mimetype": "text/x-python",
   "name": "python",
   "nbconvert_exporter": "python",
   "pygments_lexer": "ipython3",
   "version": "3.8.8"
  }
 },
 "nbformat": 4,
 "nbformat_minor": 5
}
