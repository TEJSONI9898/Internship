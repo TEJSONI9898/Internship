{
 "cells": [
  {
   "cell_type": "code",
   "execution_count": 1,
   "id": "70eb1bbc",
   "metadata": {},
   "outputs": [],
   "source": [
    "def RAT(x,y):\n",
    "    import math\n",
    "    print('The entered values of the 2 sides are:',x,' & ',y)\n",
    "    z=math.sqrt(x**2 + y**2)\n",
    "    print('The length of the thrid side is :',z)"
   ]
  },
  {
   "cell_type": "markdown",
   "id": "865884b9",
   "metadata": {},
   "source": [
    "In the right angled triangle the concept is the third side is equal to the sum of the square of the two sides.\n",
    "\n",
    "defining a function from that u can calculate the 3rd side of the right angled triangle\n",
    "\n",
    "math is the inbuilt function available in python that allows us to use any of the maths functions in jupyter notebook\n",
    "\n",
    "firstly collecting the 2 sides from the user taking x & y for storing the & printing the values of 2 sides of the right angled triangle\n",
    "\n",
    "squaring both the side it with the help of math.sqrt function\n",
    "\n",
    "adding them\n",
    "\n",
    "z is the variable for storing the 3rd side by making sum of squared of the 2 sides \n",
    "\n",
    "finally pritning the 3rd side of the right angled triangle."
   ]
  },
  {
   "cell_type": "code",
   "execution_count": 2,
   "id": "c6ed5bd3",
   "metadata": {},
   "outputs": [
    {
     "name": "stdout",
     "output_type": "stream",
     "text": [
      "The entered values of the 2 sides are: 3  &  4\n",
      "The length of the thrid side is : 5.0\n"
     ]
    }
   ],
   "source": [
    "RAT(3,4)"
   ]
  },
  {
   "cell_type": "code",
   "execution_count": 3,
   "id": "65a71a9b",
   "metadata": {},
   "outputs": [
    {
     "name": "stdout",
     "output_type": "stream",
     "text": [
      "The entered values of the 2 sides are: 6  &  7\n",
      "The length of the thrid side is : 9.219544457292887\n"
     ]
    }
   ],
   "source": [
    "RAT(6,7)"
   ]
  },
  {
   "cell_type": "code",
   "execution_count": null,
   "id": "07f18fba",
   "metadata": {},
   "outputs": [],
   "source": []
  }
 ],
 "metadata": {
  "kernelspec": {
   "display_name": "Python 3",
   "language": "python",
   "name": "python3"
  },
  "language_info": {
   "codemirror_mode": {
    "name": "ipython",
    "version": 3
   },
   "file_extension": ".py",
   "mimetype": "text/x-python",
   "name": "python",
   "nbconvert_exporter": "python",
   "pygments_lexer": "ipython3",
   "version": "3.8.8"
  }
 },
 "nbformat": 4,
 "nbformat_minor": 5
}
