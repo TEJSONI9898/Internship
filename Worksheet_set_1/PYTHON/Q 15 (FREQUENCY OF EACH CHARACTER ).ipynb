{
 "cells": [
  {
   "cell_type": "code",
   "execution_count": 1,
   "id": "43f406d9",
   "metadata": {},
   "outputs": [],
   "source": [
    "def countno(x):\n",
    "    print('The entered string is :',x)\n",
    "    y=dict()\n",
    "    for i in x:\n",
    "        if i in y:\n",
    "            y[i] = y[i] + 1\n",
    "        else:\n",
    "            y[i] = 1\n",
    "    print(y)"
   ]
  },
  {
   "cell_type": "markdown",
   "id": "8befa3eb",
   "metadata": {},
   "source": [
    "Defining a function that will calculating how many times a charcater has apperead in ghe string.\n",
    "\n",
    "Taking input from the user of the string that he/she wants get the frequency of each character \n",
    "\n",
    "y is an variable with empty dictionary that will be used for counting different characters from the string\n",
    "\n",
    "using for loop checking wheather the element is repeating if yes then +1 in the y[i]\n",
    "\n",
    "if it is not repeating then count = 1\n",
    "\n",
    "finallly printing y n getting all the elements seperately with the counts \n",
    "\n",
    "you can call the function by countno() you can pass the string that you want to check in the bracats as shown below:"
   ]
  },
  {
   "cell_type": "code",
   "execution_count": 2,
   "id": "975a5ac0",
   "metadata": {},
   "outputs": [
    {
     "name": "stdout",
     "output_type": "stream",
     "text": [
      "The entered string is : asdjsadtsgsyetagaaaasksh\n",
      "{'a': 7, 's': 6, 'd': 2, 'j': 1, 't': 2, 'g': 2, 'y': 1, 'e': 1, 'k': 1, 'h': 1}\n"
     ]
    }
   ],
   "source": [
    "countno('asdjsadtsgsyetagaaaasksh')"
   ]
  },
  {
   "cell_type": "code",
   "execution_count": null,
   "id": "de2448b1",
   "metadata": {},
   "outputs": [],
   "source": []
  }
 ],
 "metadata": {
  "kernelspec": {
   "display_name": "Python 3",
   "language": "python",
   "name": "python3"
  },
  "language_info": {
   "codemirror_mode": {
    "name": "ipython",
    "version": 3
   },
   "file_extension": ".py",
   "mimetype": "text/x-python",
   "name": "python",
   "nbconvert_exporter": "python",
   "pygments_lexer": "ipython3",
   "version": "3.8.8"
  }
 },
 "nbformat": 4,
 "nbformat_minor": 5
}
