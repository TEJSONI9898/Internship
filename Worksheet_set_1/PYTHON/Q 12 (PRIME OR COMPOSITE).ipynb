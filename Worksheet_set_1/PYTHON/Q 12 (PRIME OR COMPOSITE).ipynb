{
 "cells": [
  {
   "cell_type": "markdown",
   "id": "dd3817b7",
   "metadata": {},
   "source": [
    "# Writing a python program to find whether a number is prime or composite."
   ]
  },
  {
   "cell_type": "code",
   "execution_count": 1,
   "id": "5bf2ecf6",
   "metadata": {},
   "outputs": [],
   "source": [
    "def no(x):\n",
    "    \n",
    "    if x < 2:\n",
    "        print('It is a composite no.')\n",
    "    else:\n",
    "        for i in range(2,x):\n",
    "            if x%2==0:\n",
    "                print('It is a composite no.')\n",
    "                break\n",
    "        else:\n",
    "            print(x,'It is a prime no.')"
   ]
  },
  {
   "cell_type": "markdown",
   "id": "1e650dcc",
   "metadata": {},
   "source": [
    "#explanation\n",
    "A function is defined here for testing either the no is prime or composite.\n",
    "\n",
    "x is the variable that holding the value entered by the user for testing the no.\n",
    "after taking the no. :-\n",
    "    1. we need to check that the no. is greater than 2 or not because for test the prime numbers we should check onto this condition\n",
    "    2. after checking suppose if the no. is not greater than 2 check is it divisible by 2 or not by using if & modulous\n",
    "    3. if it is divisible then it is a composite no & if  not it is a prime no(divisible by 1 & itself only)\n",
    "   \n",
    "just call the function no() pass whatever no. you need to check as shown below  !!!!"
   ]
  },
  {
   "cell_type": "code",
   "execution_count": 2,
   "id": "324871d8",
   "metadata": {},
   "outputs": [
    {
     "name": "stdout",
     "output_type": "stream",
     "text": [
      "9 It is a prime no.\n"
     ]
    }
   ],
   "source": [
    "no(9)"
   ]
  },
  {
   "cell_type": "code",
   "execution_count": 3,
   "id": "bf590c9d",
   "metadata": {},
   "outputs": [
    {
     "name": "stdout",
     "output_type": "stream",
     "text": [
      "It is a composite no.\n"
     ]
    }
   ],
   "source": [
    "no(76)"
   ]
  },
  {
   "cell_type": "code",
   "execution_count": null,
   "id": "80963c6d",
   "metadata": {},
   "outputs": [],
   "source": []
  }
 ],
 "metadata": {
  "kernelspec": {
   "display_name": "Python 3",
   "language": "python",
   "name": "python3"
  },
  "language_info": {
   "codemirror_mode": {
    "name": "ipython",
    "version": 3
   },
   "file_extension": ".py",
   "mimetype": "text/x-python",
   "name": "python",
   "nbconvert_exporter": "python",
   "pygments_lexer": "ipython3",
   "version": "3.8.8"
  }
 },
 "nbformat": 4,
 "nbformat_minor": 5
}
